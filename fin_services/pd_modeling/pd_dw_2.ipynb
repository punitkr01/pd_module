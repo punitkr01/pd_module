{
 "cells": [
  {
   "cell_type": "code",
   "execution_count": 107,
   "id": "d705b24e",
   "metadata": {},
   "outputs": [],
   "source": [
    "import pandas as pd\n",
    "import numpy as np\n",
    "from xgboost import XGBClassifier\n",
    "from sklearn.metrics import accuracy_score"
   ]
  },
  {
   "cell_type": "code",
   "execution_count": 9,
   "id": "92f86151",
   "metadata": {},
   "outputs": [],
   "source": [
    "df_cibil_feat = pd.read_csv(\"./dw_out/df_cibil_feat.csv\")"
   ]
  },
  {
   "cell_type": "code",
   "execution_count": 10,
   "id": "531fe543",
   "metadata": {},
   "outputs": [
    {
     "data": {
      "text/html": [
       "<div>\n",
       "<style scoped>\n",
       "    .dataframe tbody tr th:only-of-type {\n",
       "        vertical-align: middle;\n",
       "    }\n",
       "\n",
       "    .dataframe tbody tr th {\n",
       "        vertical-align: top;\n",
       "    }\n",
       "\n",
       "    .dataframe thead th {\n",
       "        text-align: right;\n",
       "    }\n",
       "</style>\n",
       "<table border=\"1\" class=\"dataframe\">\n",
       "  <thead>\n",
       "    <tr style=\"text-align: right;\">\n",
       "      <th></th>\n",
       "      <th>key</th>\n",
       "      <th>timestamp</th>\n",
       "      <th>datetime_formatted</th>\n",
       "      <th>cibil_score</th>\n",
       "      <th>total_email</th>\n",
       "      <th>gender</th>\n",
       "      <th>age</th>\n",
       "      <th>open_loans</th>\n",
       "      <th>closed_loans</th>\n",
       "      <th>total_address</th>\n",
       "      <th>...</th>\n",
       "      <th>last_3_months_dpd_cc</th>\n",
       "      <th>last_6_months_dpd_cc</th>\n",
       "      <th>last_12_months_dpd_cc</th>\n",
       "      <th>last_36_months_dpd_cc</th>\n",
       "      <th>next_3_months_dpd_cc</th>\n",
       "      <th>next_6_months_dpd_cc</th>\n",
       "      <th>next_12_months_dpd_cc</th>\n",
       "      <th>next_36_months_dpd_cc</th>\n",
       "      <th>time_rank</th>\n",
       "      <th>output</th>\n",
       "    </tr>\n",
       "  </thead>\n",
       "  <tbody>\n",
       "    <tr>\n",
       "      <th>0</th>\n",
       "      <td>0-10</td>\n",
       "      <td>11-16</td>\n",
       "      <td>2016-11-01</td>\n",
       "      <td>645.0</td>\n",
       "      <td>4</td>\n",
       "      <td>0</td>\n",
       "      <td>36</td>\n",
       "      <td>1</td>\n",
       "      <td>0</td>\n",
       "      <td>4</td>\n",
       "      <td>...</td>\n",
       "      <td>NaN</td>\n",
       "      <td>NaN</td>\n",
       "      <td>NaN</td>\n",
       "      <td>NaN</td>\n",
       "      <td>NaN</td>\n",
       "      <td>NaN</td>\n",
       "      <td>NaN</td>\n",
       "      <td>NaN</td>\n",
       "      <td>4.0</td>\n",
       "      <td>0</td>\n",
       "    </tr>\n",
       "    <tr>\n",
       "      <th>1</th>\n",
       "      <td>0-9</td>\n",
       "      <td>10-18</td>\n",
       "      <td>2018-10-01</td>\n",
       "      <td>645.0</td>\n",
       "      <td>4</td>\n",
       "      <td>0</td>\n",
       "      <td>38</td>\n",
       "      <td>1</td>\n",
       "      <td>1</td>\n",
       "      <td>4</td>\n",
       "      <td>...</td>\n",
       "      <td>NaN</td>\n",
       "      <td>NaN</td>\n",
       "      <td>NaN</td>\n",
       "      <td>NaN</td>\n",
       "      <td>NaN</td>\n",
       "      <td>NaN</td>\n",
       "      <td>NaN</td>\n",
       "      <td>NaN</td>\n",
       "      <td>3.0</td>\n",
       "      <td>0</td>\n",
       "    </tr>\n",
       "    <tr>\n",
       "      <th>2</th>\n",
       "      <td>0-8</td>\n",
       "      <td>11-18</td>\n",
       "      <td>2018-11-01</td>\n",
       "      <td>645.0</td>\n",
       "      <td>4</td>\n",
       "      <td>0</td>\n",
       "      <td>38</td>\n",
       "      <td>2</td>\n",
       "      <td>1</td>\n",
       "      <td>4</td>\n",
       "      <td>...</td>\n",
       "      <td>NaN</td>\n",
       "      <td>NaN</td>\n",
       "      <td>NaN</td>\n",
       "      <td>NaN</td>\n",
       "      <td>NaN</td>\n",
       "      <td>NaN</td>\n",
       "      <td>NaN</td>\n",
       "      <td>NaN</td>\n",
       "      <td>2.0</td>\n",
       "      <td>0</td>\n",
       "    </tr>\n",
       "    <tr>\n",
       "      <th>3</th>\n",
       "      <td>3-6</td>\n",
       "      <td>3-18</td>\n",
       "      <td>2018-03-01</td>\n",
       "      <td>757.0</td>\n",
       "      <td>1</td>\n",
       "      <td>0</td>\n",
       "      <td>24</td>\n",
       "      <td>1</td>\n",
       "      <td>0</td>\n",
       "      <td>3</td>\n",
       "      <td>...</td>\n",
       "      <td>NaN</td>\n",
       "      <td>NaN</td>\n",
       "      <td>NaN</td>\n",
       "      <td>NaN</td>\n",
       "      <td>NaN</td>\n",
       "      <td>NaN</td>\n",
       "      <td>NaN</td>\n",
       "      <td>NaN</td>\n",
       "      <td>10.0</td>\n",
       "      <td>2</td>\n",
       "    </tr>\n",
       "    <tr>\n",
       "      <th>4</th>\n",
       "      <td>3-4</td>\n",
       "      <td>9-18</td>\n",
       "      <td>2018-09-01</td>\n",
       "      <td>757.0</td>\n",
       "      <td>1</td>\n",
       "      <td>0</td>\n",
       "      <td>25</td>\n",
       "      <td>3</td>\n",
       "      <td>0</td>\n",
       "      <td>3</td>\n",
       "      <td>...</td>\n",
       "      <td>NaN</td>\n",
       "      <td>NaN</td>\n",
       "      <td>NaN</td>\n",
       "      <td>NaN</td>\n",
       "      <td>NaN</td>\n",
       "      <td>NaN</td>\n",
       "      <td>NaN</td>\n",
       "      <td>NaN</td>\n",
       "      <td>8.0</td>\n",
       "      <td>0</td>\n",
       "    </tr>\n",
       "  </tbody>\n",
       "</table>\n",
       "<p>5 rows × 84 columns</p>\n",
       "</div>"
      ],
      "text/plain": [
       "    key timestamp datetime_formatted  cibil_score  total_email  gender  age  \\\n",
       "0  0-10     11-16         2016-11-01        645.0            4       0   36   \n",
       "1   0-9     10-18         2018-10-01        645.0            4       0   38   \n",
       "2   0-8     11-18         2018-11-01        645.0            4       0   38   \n",
       "3   3-6      3-18         2018-03-01        757.0            1       0   24   \n",
       "4   3-4      9-18         2018-09-01        757.0            1       0   25   \n",
       "\n",
       "   open_loans  closed_loans  total_address  ...  last_3_months_dpd_cc  \\\n",
       "0           1             0              4  ...                   NaN   \n",
       "1           1             1              4  ...                   NaN   \n",
       "2           2             1              4  ...                   NaN   \n",
       "3           1             0              3  ...                   NaN   \n",
       "4           3             0              3  ...                   NaN   \n",
       "\n",
       "   last_6_months_dpd_cc  last_12_months_dpd_cc last_36_months_dpd_cc  \\\n",
       "0                   NaN                    NaN                   NaN   \n",
       "1                   NaN                    NaN                   NaN   \n",
       "2                   NaN                    NaN                   NaN   \n",
       "3                   NaN                    NaN                   NaN   \n",
       "4                   NaN                    NaN                   NaN   \n",
       "\n",
       "   next_3_months_dpd_cc  next_6_months_dpd_cc  next_12_months_dpd_cc  \\\n",
       "0                   NaN                   NaN                    NaN   \n",
       "1                   NaN                   NaN                    NaN   \n",
       "2                   NaN                   NaN                    NaN   \n",
       "3                   NaN                   NaN                    NaN   \n",
       "4                   NaN                   NaN                    NaN   \n",
       "\n",
       "   next_36_months_dpd_cc  time_rank  output  \n",
       "0                    NaN        4.0       0  \n",
       "1                    NaN        3.0       0  \n",
       "2                    NaN        2.0       0  \n",
       "3                    NaN       10.0       2  \n",
       "4                    NaN        8.0       0  \n",
       "\n",
       "[5 rows x 84 columns]"
      ]
     },
     "execution_count": 10,
     "metadata": {},
     "output_type": "execute_result"
    }
   ],
   "source": [
    "df_cibil_feat=df_cibil_feat.drop(columns=['Unnamed: 0'])\n",
    "df_cibil_feat.head()"
   ]
  },
  {
   "cell_type": "code",
   "execution_count": 219,
   "id": "09191f3c",
   "metadata": {},
   "outputs": [],
   "source": [
    "df = df_cibil_feat[['cibil_score', 'datetime_formatted', 'total_email',\n",
    "       'gender', 'age', 'open_loans', 'closed_loans', 'total_address','sanc_amount',\n",
    "        'total_phone_nos', 'total_enq_till_date', 'unique_enquiry_purpose',\n",
    "       'total_enq_amt',  'loan_type', 'ownership',\n",
    "       'enquiry_purpose','last_3_months_dpd_gl',\n",
    "       'last_6_months_dpd_gl', 'last_12_months_dpd_gl',\n",
    "       'last_36_months_dpd_gl','last_3_months_dpd_personal', 'last_6_months_dpd_personal',\n",
    "       'last_12_months_dpd_personal', 'last_36_months_dpd_personal','last_3_months_dpd_cvl', 'last_6_months_dpd_cvl',\n",
    "       'last_12_months_dpd_cvl', 'last_36_months_dpd_cvl','last_3_months_dpd_cc', 'last_6_months_dpd_cc', 'last_12_months_dpd_cc',\n",
    "       'last_36_months_dpd_cc',\n",
    "       'total_enq_till_date_on_user_id_enq_purpose',\n",
    "       'unique_enquiry_purpose_on_user_id_enq_purpose',\n",
    "       'total_enq_amt_on_user_id_enq_purpose','output']]"
   ]
  },
  {
   "cell_type": "code",
   "execution_count": 220,
   "id": "413401a8",
   "metadata": {},
   "outputs": [
    {
     "data": {
      "text/plain": [
       "3    749\n",
       "0    744\n",
       "4    354\n",
       "5    304\n",
       "2    233\n",
       "1     29\n",
       "Name: loan_type, dtype: int64"
      ]
     },
     "execution_count": 220,
     "metadata": {},
     "output_type": "execute_result"
    }
   ],
   "source": [
    "df.loan_type.value_counts()"
   ]
  },
  {
   "cell_type": "code",
   "execution_count": 221,
   "id": "51732c68",
   "metadata": {},
   "outputs": [],
   "source": [
    "df = df[df['loan_type'].isin([2,4,5])]"
   ]
  },
  {
   "cell_type": "code",
   "execution_count": 222,
   "id": "7af82395",
   "metadata": {},
   "outputs": [
    {
     "data": {
      "text/plain": [
       "(891, 36)"
      ]
     },
     "execution_count": 222,
     "metadata": {},
     "output_type": "execute_result"
    }
   ],
   "source": [
    "df.shape"
   ]
  },
  {
   "cell_type": "code",
   "execution_count": 223,
   "id": "c4f3cef1",
   "metadata": {},
   "outputs": [
    {
     "data": {
      "text/plain": [
       "array(['2005-01-01', '2005-10-01', '2006-07-01', '2006-11-01',\n",
       "       '2007-06-01', '2008-01-01', '2008-04-01', '2010-11-01',\n",
       "       '2011-07-01', '2011-08-01', '2011-10-01', '2012-04-01',\n",
       "       '2013-01-01', '2013-04-01', '2013-08-01', '2013-10-01',\n",
       "       '2013-12-01', '2014-01-01', '2014-02-01', '2014-03-01',\n",
       "       '2014-04-01', '2014-05-01', '2014-06-01', '2014-07-01',\n",
       "       '2014-10-01', '2014-11-01', '2014-12-01', '2015-01-01',\n",
       "       '2015-02-01', '2015-06-01', '2015-07-01', '2015-08-01',\n",
       "       '2015-09-01', '2015-10-01', '2015-11-01', '2015-12-01',\n",
       "       '2016-01-01', '2016-02-01', '2016-04-01', '2016-05-01',\n",
       "       '2016-06-01', '2016-07-01', '2016-08-01', '2016-10-01',\n",
       "       '2016-11-01', '2016-12-01', '2017-01-01', '2017-02-01',\n",
       "       '2017-03-01', '2017-04-01', '2017-05-01', '2017-08-01',\n",
       "       '2017-09-01', '2017-11-01', '2017-12-01', '2018-01-01',\n",
       "       '2018-02-01', '2018-04-01', '2018-05-01', '2018-06-01',\n",
       "       '2018-07-01', '2018-08-01', '2018-09-01', '2018-10-01',\n",
       "       '2018-11-01', '2018-12-01', '2019-01-01', '2019-02-01',\n",
       "       '2019-03-01', '2019-04-01', '2019-05-01', '2019-06-01',\n",
       "       '2019-07-01', '2019-08-01', '2019-09-01', '2019-10-01',\n",
       "       '2019-11-01', '2019-12-01', '2020-01-01', '2020-02-01',\n",
       "       '2020-03-01', '2020-04-01', '2020-05-01', '2020-06-01',\n",
       "       '2020-07-01', '2020-08-01', '2020-09-01', '2020-10-01',\n",
       "       '2020-11-01', '2020-12-01', '2021-01-01', '2021-02-01',\n",
       "       '2021-03-01', '2021-04-01', '2021-05-01', '2021-06-01',\n",
       "       '2021-07-01', '2021-08-01', '2021-09-01', '2021-10-01',\n",
       "       '2021-11-01', '2021-12-01', '2022-01-01', '2022-02-01',\n",
       "       '2022-03-01', '2022-04-01', '2022-05-01', '2022-06-01',\n",
       "       '2022-07-01', '2022-08-01', '2022-09-01'], dtype=object)"
      ]
     },
     "execution_count": 223,
     "metadata": {},
     "output_type": "execute_result"
    }
   ],
   "source": [
    "import numpy as np\n",
    "\n",
    "np.sort(df.datetime_formatted.unique())"
   ]
  },
  {
   "cell_type": "code",
   "execution_count": 224,
   "id": "d4b1c876",
   "metadata": {},
   "outputs": [
    {
     "name": "stdout",
     "output_type": "stream",
     "text": [
      "111\n"
     ]
    }
   ],
   "source": [
    "print(len(df.datetime_formatted.unique()))"
   ]
  },
  {
   "cell_type": "code",
   "execution_count": 225,
   "id": "1926ece8",
   "metadata": {},
   "outputs": [
    {
     "data": {
      "text/plain": [
       "32.800000000000004"
      ]
     },
     "execution_count": 225,
     "metadata": {},
     "output_type": "execute_result"
    }
   ],
   "source": [
    "0.20*164"
   ]
  },
  {
   "cell_type": "code",
   "execution_count": 294,
   "id": "8fa0dfec",
   "metadata": {},
   "outputs": [
    {
     "data": {
      "text/plain": [
       "(891, 36)"
      ]
     },
     "execution_count": 294,
     "metadata": {},
     "output_type": "execute_result"
    }
   ],
   "source": [
    "df.shape"
   ]
  },
  {
   "cell_type": "code",
   "execution_count": 295,
   "id": "b845fdbb",
   "metadata": {},
   "outputs": [
    {
     "data": {
      "text/plain": [
       "0    738\n",
       "2    116\n",
       "1     37\n",
       "Name: output, dtype: int64"
      ]
     },
     "execution_count": 295,
     "metadata": {},
     "output_type": "execute_result"
    }
   ],
   "source": [
    "df['output'].value_counts()"
   ]
  },
  {
   "cell_type": "code",
   "execution_count": 296,
   "id": "e07a2b21",
   "metadata": {},
   "outputs": [],
   "source": [
    "df['output'] = df.apply(lambda s: s['output'] if s['output'] <=0 else 1,axis=1)"
   ]
  },
  {
   "cell_type": "code",
   "execution_count": 297,
   "id": "c3955b75",
   "metadata": {},
   "outputs": [
    {
     "data": {
      "text/plain": [
       "0    738\n",
       "1    153\n",
       "Name: output, dtype: int64"
      ]
     },
     "execution_count": 297,
     "metadata": {},
     "output_type": "execute_result"
    }
   ],
   "source": [
    "df['output'].value_counts()"
   ]
  },
  {
   "cell_type": "code",
   "execution_count": 470,
   "id": "ba12467d",
   "metadata": {},
   "outputs": [],
   "source": [
    "df_train = df[df['datetime_formatted'] <= '2021-08-01']\n",
    "df_valid = df[df['datetime_formatted'] > '2021-08-01']"
   ]
  },
  {
   "cell_type": "code",
   "execution_count": 471,
   "id": "34ea73c9",
   "metadata": {},
   "outputs": [
    {
     "data": {
      "text/plain": [
       "0    101\n",
       "1      4\n",
       "Name: output, dtype: int64"
      ]
     },
     "execution_count": 471,
     "metadata": {},
     "output_type": "execute_result"
    }
   ],
   "source": [
    "df_valid['output'].value_counts()"
   ]
  },
  {
   "cell_type": "code",
   "execution_count": 472,
   "id": "4bcc4f90",
   "metadata": {},
   "outputs": [
    {
     "data": {
      "text/plain": [
       "0    637\n",
       "1    149\n",
       "Name: output, dtype: int64"
      ]
     },
     "execution_count": 472,
     "metadata": {},
     "output_type": "execute_result"
    }
   ],
   "source": [
    "df_train['output'].value_counts()"
   ]
  },
  {
   "cell_type": "code",
   "execution_count": null,
   "id": "111941f5",
   "metadata": {},
   "outputs": [],
   "source": [
    "# df_train_0 = df_train[df_train['output']==0]\n",
    "# df_train_1 = df_train[df_train['output']==1]\n",
    "# df_train_0 = df_train_0.sample(n=149, random_state=42)\n",
    "# df_train_sample = df_train_0.append(df_train_1)\n",
    "# df_train_sample.shape"
   ]
  },
  {
   "cell_type": "code",
   "execution_count": 498,
   "id": "92eb4f57",
   "metadata": {},
   "outputs": [],
   "source": [
    "df_train_0 = df_train[df_train['output']==0]\n",
    "df_train_1 = df_train[df_train['output']==1]"
   ]
  },
  {
   "cell_type": "code",
   "execution_count": 499,
   "id": "b104bd4e",
   "metadata": {},
   "outputs": [
    {
     "data": {
      "text/plain": [
       "((637, 36), (149, 36))"
      ]
     },
     "execution_count": 499,
     "metadata": {},
     "output_type": "execute_result"
    }
   ],
   "source": [
    "df_train_0.shape, df_train_1.shape"
   ]
  },
  {
   "cell_type": "code",
   "execution_count": 500,
   "id": "5d9d4f31",
   "metadata": {},
   "outputs": [
    {
     "data": {
      "text/plain": [
       "(149, 36)"
      ]
     },
     "execution_count": 500,
     "metadata": {},
     "output_type": "execute_result"
    }
   ],
   "source": [
    "df_train_0 = df_train_0.sample(n=149, random_state=42)\n",
    "df_train_0.shape"
   ]
  },
  {
   "cell_type": "code",
   "execution_count": 501,
   "id": "aa2d3ec6",
   "metadata": {},
   "outputs": [
    {
     "data": {
      "text/plain": [
       "(298, 36)"
      ]
     },
     "execution_count": 501,
     "metadata": {},
     "output_type": "execute_result"
    }
   ],
   "source": [
    "df_train_sample = df_train_0.append(df_train_1)\n",
    "df_train_sample.shape"
   ]
  },
  {
   "cell_type": "code",
   "execution_count": 524,
   "id": "618ba90d",
   "metadata": {},
   "outputs": [],
   "source": [
    "X_train = df_train_sample[['total_email',\n",
    "       'gender', 'age', 'open_loans', 'closed_loans', 'total_address','sanc_amount',\n",
    "        'total_phone_nos',\n",
    "        'loan_type', 'ownership',\n",
    "        'last_3_months_dpd_gl',\n",
    "       'last_6_months_dpd_gl', 'last_12_months_dpd_gl',\n",
    "       'last_36_months_dpd_gl','last_3_months_dpd_personal', 'last_6_months_dpd_personal',\n",
    "       'last_12_months_dpd_personal', 'last_36_months_dpd_personal','last_3_months_dpd_cvl', 'last_6_months_dpd_cvl',\n",
    "       'last_12_months_dpd_cvl', 'last_36_months_dpd_cvl','last_3_months_dpd_cc', 'last_6_months_dpd_cc', 'last_12_months_dpd_cc',\n",
    "       'last_36_months_dpd_cc']]\n",
    "       #'total_enq_till_date', 'unique_enquiry_purpose',\n",
    "       #'total_enq_amt',  \n",
    "       #'enquiry_purpose',\n",
    "       #'total_enq_till_date_on_user_id_enq_purpose',\n",
    "       #'unique_enquiry_purpose_on_user_id_enq_purpose',\n",
    "       #'total_enq_amt_on_user_id_enq_purpose']]\n",
    "\n",
    "y_train = df_train_sample[['output']]"
   ]
  },
  {
   "cell_type": "code",
   "execution_count": 525,
   "id": "936de167",
   "metadata": {},
   "outputs": [],
   "source": [
    "X_test = df_valid[['total_email',\n",
    "       'gender', 'age', 'open_loans', 'closed_loans', 'total_address','sanc_amount',\n",
    "        'total_phone_nos', \n",
    "        'loan_type', 'ownership',\n",
    "        'last_3_months_dpd_gl',\n",
    "       'last_6_months_dpd_gl', 'last_12_months_dpd_gl',\n",
    "       'last_36_months_dpd_gl','last_3_months_dpd_personal', 'last_6_months_dpd_personal',\n",
    "       'last_12_months_dpd_personal', 'last_36_months_dpd_personal','last_3_months_dpd_cvl', 'last_6_months_dpd_cvl',\n",
    "       'last_12_months_dpd_cvl', 'last_36_months_dpd_cvl','last_3_months_dpd_cc', 'last_6_months_dpd_cc', 'last_12_months_dpd_cc',\n",
    "       'last_36_months_dpd_cc']]\n",
    "       #'total_enq_till_date_on_user_id_enq_purpose',\n",
    "       #'total_enq_till_date_on_user_id_enq_purpose',\n",
    "       #'unique_enquiry_purpose_on_user_id_enq_purpose',\n",
    "       #'total_enq_amt_on_user_id_enq_purpose']]\n",
    "\n",
    "y_test = df_valid[['output']]"
   ]
  },
  {
   "cell_type": "code",
   "execution_count": 526,
   "id": "7a63ee78",
   "metadata": {},
   "outputs": [],
   "source": [
    "from sklearn.metrics import DistanceMetric\n"
   ]
  },
  {
   "cell_type": "code",
   "execution_count": 527,
   "id": "61d52db2",
   "metadata": {},
   "outputs": [
    {
     "data": {
      "text/plain": [
       "0    738\n",
       "1    153\n",
       "Name: output, dtype: int64"
      ]
     },
     "execution_count": 527,
     "metadata": {},
     "output_type": "execute_result"
    }
   ],
   "source": [
    "y = df[['output']]\n",
    "y['output'].value_counts()"
   ]
  },
  {
   "cell_type": "code",
   "execution_count": 528,
   "id": "94f782b1",
   "metadata": {},
   "outputs": [
    {
     "data": {
      "text/plain": [
       "0    149\n",
       "1    149\n",
       "Name: output, dtype: int64"
      ]
     },
     "execution_count": 528,
     "metadata": {},
     "output_type": "execute_result"
    }
   ],
   "source": [
    "y_train['output'].value_counts()"
   ]
  },
  {
   "cell_type": "code",
   "execution_count": 529,
   "id": "1f74904c",
   "metadata": {},
   "outputs": [
    {
     "data": {
      "text/plain": [
       "0    101\n",
       "1      4\n",
       "Name: output, dtype: int64"
      ]
     },
     "execution_count": 529,
     "metadata": {},
     "output_type": "execute_result"
    }
   ],
   "source": [
    "y_test['output'].value_counts()"
   ]
  },
  {
   "cell_type": "code",
   "execution_count": 530,
   "id": "14260149",
   "metadata": {},
   "outputs": [
    {
     "data": {
      "text/plain": [
       "178.20000000000002"
      ]
     },
     "execution_count": 530,
     "metadata": {},
     "output_type": "execute_result"
    }
   ],
   "source": [
    ".20*df.shape[0]"
   ]
  },
  {
   "cell_type": "code",
   "execution_count": 531,
   "id": "a9b2169f",
   "metadata": {},
   "outputs": [
    {
     "data": {
      "text/plain": [
       "((298, 26), (105, 26))"
      ]
     },
     "execution_count": 531,
     "metadata": {},
     "output_type": "execute_result"
    }
   ],
   "source": [
    "X_train.shape, X_test.shape"
   ]
  },
  {
   "cell_type": "code",
   "execution_count": 532,
   "id": "c8806696",
   "metadata": {},
   "outputs": [
    {
     "data": {
      "text/plain": [
       "((298, 1), (105, 1))"
      ]
     },
     "execution_count": 532,
     "metadata": {},
     "output_type": "execute_result"
    }
   ],
   "source": [
    "y_train.shape, y_test.shape"
   ]
  },
  {
   "cell_type": "code",
   "execution_count": 533,
   "id": "0cd9c0c9",
   "metadata": {},
   "outputs": [],
   "source": [
    "xgb_classifier =XGBClassifier(n_estimators=1000)"
   ]
  },
  {
   "cell_type": "code",
   "execution_count": 534,
   "id": "f2fed8ff",
   "metadata": {},
   "outputs": [],
   "source": [
    "from sklearn.utils.class_weight import compute_sample_weight\n",
    "sample_weights = compute_sample_weight(\n",
    "    class_weight='balanced',\n",
    "    y=y_train['output'] #provide your own target name\n",
    ")\n",
    "# \n",
    "# xgb_classifier.fit(X, y, sample_weight=sample_weights)"
   ]
  },
  {
   "cell_type": "code",
   "execution_count": 535,
   "id": "ddb1c06b",
   "metadata": {},
   "outputs": [
    {
     "data": {
      "text/plain": [
       "298"
      ]
     },
     "execution_count": 535,
     "metadata": {},
     "output_type": "execute_result"
    }
   ],
   "source": [
    "len(sample_weights)"
   ]
  },
  {
   "cell_type": "code",
   "execution_count": 536,
   "id": "776ae563",
   "metadata": {},
   "outputs": [
    {
     "name": "stderr",
     "output_type": "stream",
     "text": [
      "/home/ubuntu/anaconda3/envs/faiss/lib/python3.8/site-packages/xgboost/sklearn.py:1224: UserWarning: The use of label encoder in XGBClassifier is deprecated and will be removed in a future release. To remove this warning, do the following: 1) Pass option use_label_encoder=False when constructing XGBClassifier object; and 2) Encode your labels (y) as integers starting with 0, i.e. 0, 1, 2, ..., [num_class - 1].\n",
      "  warnings.warn(label_encoder_deprecation_msg, UserWarning)\n",
      "/home/ubuntu/anaconda3/envs/faiss/lib/python3.8/site-packages/sklearn/preprocessing/_label.py:98: DataConversionWarning: A column-vector y was passed when a 1d array was expected. Please change the shape of y to (n_samples, ), for example using ravel().\n",
      "  y = column_or_1d(y, warn=True)\n",
      "/home/ubuntu/anaconda3/envs/faiss/lib/python3.8/site-packages/sklearn/preprocessing/_label.py:133: DataConversionWarning: A column-vector y was passed when a 1d array was expected. Please change the shape of y to (n_samples, ), for example using ravel().\n",
      "  y = column_or_1d(y, warn=True)\n"
     ]
    },
    {
     "name": "stdout",
     "output_type": "stream",
     "text": [
      "[10:43:46] WARNING: ../src/learner.cc:1115: Starting in XGBoost 1.3.0, the default evaluation metric used with the objective 'binary:logistic' was changed from 'error' to 'logloss'. Explicitly set eval_metric if you'd like to restore the old behavior.\n"
     ]
    },
    {
     "data": {
      "text/plain": [
       "XGBClassifier(base_score=0.5, booster='gbtree', colsample_bylevel=1,\n",
       "              colsample_bynode=1, colsample_bytree=1, enable_categorical=False,\n",
       "              gamma=0, gpu_id=-1, importance_type=None,\n",
       "              interaction_constraints='', learning_rate=0.300000012,\n",
       "              max_delta_step=0, max_depth=6, min_child_weight=1, missing=nan,\n",
       "              monotone_constraints='()', n_estimators=1000, n_jobs=2,\n",
       "              num_parallel_tree=1, predictor='auto', random_state=0,\n",
       "              reg_alpha=0, reg_lambda=1, scale_pos_weight=1, subsample=1,\n",
       "              tree_method='exact', validate_parameters=1, verbosity=None)"
      ]
     },
     "execution_count": 536,
     "metadata": {},
     "output_type": "execute_result"
    }
   ],
   "source": [
    "xgb_classifier.fit(X_train,y_train,sample_weight=sample_weights)\n",
    "#xgb_classifier.fit(X_train,y_train)\n"
   ]
  },
  {
   "cell_type": "code",
   "execution_count": 537,
   "id": "7c40cb86",
   "metadata": {},
   "outputs": [],
   "source": [
    "predictions = xgb_classifier.predict(X_test)\n"
   ]
  },
  {
   "cell_type": "code",
   "execution_count": 538,
   "id": "5954ad07",
   "metadata": {},
   "outputs": [],
   "source": [
    "y_proba = xgb_classifier.predict_proba(X_test)"
   ]
  },
  {
   "cell_type": "code",
   "execution_count": 539,
   "id": "54c5c9c8",
   "metadata": {},
   "outputs": [
    {
     "name": "stdout",
     "output_type": "stream",
     "text": [
      "Accuracy of Model:: 0.7333333333333333\n"
     ]
    }
   ],
   "source": [
    "print(\"Accuracy of Model::\",accuracy_score(y_test,predictions))\n"
   ]
  },
  {
   "cell_type": "code",
   "execution_count": 540,
   "id": "f94fcb2c",
   "metadata": {},
   "outputs": [],
   "source": [
    "#print(\"Accuracy of Model::\",accuracy_score(y_test,predictions))\n"
   ]
  },
  {
   "cell_type": "code",
   "execution_count": 541,
   "id": "24a6c2e9",
   "metadata": {},
   "outputs": [
    {
     "data": {
      "text/plain": [
       "0    101\n",
       "1      4\n",
       "Name: output, dtype: int64"
      ]
     },
     "execution_count": 541,
     "metadata": {},
     "output_type": "execute_result"
    }
   ],
   "source": [
    "y_test['output'].value_counts()"
   ]
  },
  {
   "cell_type": "code",
   "execution_count": 542,
   "id": "83256bc6",
   "metadata": {},
   "outputs": [],
   "source": [
    "import matplotlib.pyplot as plt\n",
    "from sklearn.metrics import accuracy_score, confusion_matrix, roc_auc_score, roc_curve,classification_report\n",
    "\n",
    "def plot_roc_curve(true_y, y_prob):\n",
    "    \"\"\"\n",
    "    plots the roc curve based of the probabilities\n",
    "    \"\"\"\n",
    "\n",
    "    fpr, tpr, thresholds = roc_curve(true_y, y_prob)\n",
    "    plt.plot(fpr, tpr)\n",
    "    plt.xlabel('False Positive Rate')\n",
    "    plt.ylabel('True Positive Rate')"
   ]
  },
  {
   "cell_type": "code",
   "execution_count": 543,
   "id": "8df05fa1",
   "metadata": {},
   "outputs": [
    {
     "name": "stdout",
     "output_type": "stream",
     "text": [
      "[[75 26]\n",
      " [ 2  2]]\n"
     ]
    }
   ],
   "source": [
    "print(confusion_matrix(y_test,predictions))"
   ]
  },
  {
   "cell_type": "code",
   "execution_count": 544,
   "id": "95e654dc",
   "metadata": {},
   "outputs": [
    {
     "name": "stdout",
     "output_type": "stream",
     "text": [
      "              precision    recall  f1-score   support\n",
      "\n",
      "           0       0.97      0.74      0.84       101\n",
      "           1       0.07      0.50      0.12         4\n",
      "\n",
      "    accuracy                           0.73       105\n",
      "   macro avg       0.52      0.62      0.48       105\n",
      "weighted avg       0.94      0.73      0.82       105\n",
      "\n"
     ]
    }
   ],
   "source": [
    "print(classification_report(y_test, predictions))"
   ]
  },
  {
   "cell_type": "code",
   "execution_count": 545,
   "id": "dddc76a1",
   "metadata": {},
   "outputs": [],
   "source": [
    "import pickle\n",
    "file_name = \"./dw_out/xgb_cibil_classifier.pkl\"\n",
    "\n",
    "# save\n",
    "pickle.dump(xgb_classifier, open(file_name, \"wb\"))\n"
   ]
  },
  {
   "cell_type": "code",
   "execution_count": null,
   "id": "de186cba",
   "metadata": {},
   "outputs": [],
   "source": []
  }
 ],
 "metadata": {
  "kernelspec": {
   "display_name": "Python [conda env:faiss] *",
   "language": "python",
   "name": "conda-env-faiss-py"
  },
  "language_info": {
   "codemirror_mode": {
    "name": "ipython",
    "version": 3
   },
   "file_extension": ".py",
   "mimetype": "text/x-python",
   "name": "python",
   "nbconvert_exporter": "python",
   "pygments_lexer": "ipython3",
   "version": "3.8.12"
  }
 },
 "nbformat": 4,
 "nbformat_minor": 5
}
