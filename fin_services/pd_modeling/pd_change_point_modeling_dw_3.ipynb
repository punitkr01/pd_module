{
 "cells": [
  {
   "cell_type": "code",
   "execution_count": 1,
   "id": "ec1098a9",
   "metadata": {},
   "outputs": [],
   "source": [
    "import pandas as pd\n",
    "import numpy as np\n",
    "from xgboost import XGBClassifier\n",
    "from sklearn.metrics import accuracy_score"
   ]
  },
  {
   "cell_type": "code",
   "execution_count": 2,
   "id": "7a07dd3c",
   "metadata": {},
   "outputs": [],
   "source": [
    "df_cibil_feat = pd.read_csv(\"./dw_out/df_cibil_feat.csv\")"
   ]
  },
  {
   "cell_type": "code",
   "execution_count": 3,
   "id": "849ccbaa",
   "metadata": {},
   "outputs": [
    {
     "data": {
      "text/html": [
       "<div>\n",
       "<style scoped>\n",
       "    .dataframe tbody tr th:only-of-type {\n",
       "        vertical-align: middle;\n",
       "    }\n",
       "\n",
       "    .dataframe tbody tr th {\n",
       "        vertical-align: top;\n",
       "    }\n",
       "\n",
       "    .dataframe thead th {\n",
       "        text-align: right;\n",
       "    }\n",
       "</style>\n",
       "<table border=\"1\" class=\"dataframe\">\n",
       "  <thead>\n",
       "    <tr style=\"text-align: right;\">\n",
       "      <th></th>\n",
       "      <th>key</th>\n",
       "      <th>timestamp</th>\n",
       "      <th>datetime_formatted</th>\n",
       "      <th>cibil_score</th>\n",
       "      <th>total_email</th>\n",
       "      <th>gender</th>\n",
       "      <th>age</th>\n",
       "      <th>open_loans</th>\n",
       "      <th>closed_loans</th>\n",
       "      <th>total_address</th>\n",
       "      <th>...</th>\n",
       "      <th>last_3_months_dpd_cc</th>\n",
       "      <th>last_6_months_dpd_cc</th>\n",
       "      <th>last_12_months_dpd_cc</th>\n",
       "      <th>last_36_months_dpd_cc</th>\n",
       "      <th>next_3_months_dpd_cc</th>\n",
       "      <th>next_6_months_dpd_cc</th>\n",
       "      <th>next_12_months_dpd_cc</th>\n",
       "      <th>next_36_months_dpd_cc</th>\n",
       "      <th>time_rank</th>\n",
       "      <th>output</th>\n",
       "    </tr>\n",
       "  </thead>\n",
       "  <tbody>\n",
       "    <tr>\n",
       "      <th>0</th>\n",
       "      <td>0-10</td>\n",
       "      <td>11-16</td>\n",
       "      <td>2016-11-01</td>\n",
       "      <td>645.0</td>\n",
       "      <td>4</td>\n",
       "      <td>0</td>\n",
       "      <td>36</td>\n",
       "      <td>1</td>\n",
       "      <td>0</td>\n",
       "      <td>4</td>\n",
       "      <td>...</td>\n",
       "      <td>NaN</td>\n",
       "      <td>NaN</td>\n",
       "      <td>NaN</td>\n",
       "      <td>NaN</td>\n",
       "      <td>NaN</td>\n",
       "      <td>NaN</td>\n",
       "      <td>NaN</td>\n",
       "      <td>NaN</td>\n",
       "      <td>4.0</td>\n",
       "      <td>0</td>\n",
       "    </tr>\n",
       "    <tr>\n",
       "      <th>1</th>\n",
       "      <td>0-9</td>\n",
       "      <td>10-18</td>\n",
       "      <td>2018-10-01</td>\n",
       "      <td>645.0</td>\n",
       "      <td>4</td>\n",
       "      <td>0</td>\n",
       "      <td>38</td>\n",
       "      <td>1</td>\n",
       "      <td>1</td>\n",
       "      <td>4</td>\n",
       "      <td>...</td>\n",
       "      <td>NaN</td>\n",
       "      <td>NaN</td>\n",
       "      <td>NaN</td>\n",
       "      <td>NaN</td>\n",
       "      <td>NaN</td>\n",
       "      <td>NaN</td>\n",
       "      <td>NaN</td>\n",
       "      <td>NaN</td>\n",
       "      <td>3.0</td>\n",
       "      <td>0</td>\n",
       "    </tr>\n",
       "    <tr>\n",
       "      <th>2</th>\n",
       "      <td>0-8</td>\n",
       "      <td>11-18</td>\n",
       "      <td>2018-11-01</td>\n",
       "      <td>645.0</td>\n",
       "      <td>4</td>\n",
       "      <td>0</td>\n",
       "      <td>38</td>\n",
       "      <td>2</td>\n",
       "      <td>1</td>\n",
       "      <td>4</td>\n",
       "      <td>...</td>\n",
       "      <td>NaN</td>\n",
       "      <td>NaN</td>\n",
       "      <td>NaN</td>\n",
       "      <td>NaN</td>\n",
       "      <td>NaN</td>\n",
       "      <td>NaN</td>\n",
       "      <td>NaN</td>\n",
       "      <td>NaN</td>\n",
       "      <td>2.0</td>\n",
       "      <td>0</td>\n",
       "    </tr>\n",
       "    <tr>\n",
       "      <th>3</th>\n",
       "      <td>3-6</td>\n",
       "      <td>3-18</td>\n",
       "      <td>2018-03-01</td>\n",
       "      <td>757.0</td>\n",
       "      <td>1</td>\n",
       "      <td>0</td>\n",
       "      <td>24</td>\n",
       "      <td>1</td>\n",
       "      <td>0</td>\n",
       "      <td>3</td>\n",
       "      <td>...</td>\n",
       "      <td>NaN</td>\n",
       "      <td>NaN</td>\n",
       "      <td>NaN</td>\n",
       "      <td>NaN</td>\n",
       "      <td>NaN</td>\n",
       "      <td>NaN</td>\n",
       "      <td>NaN</td>\n",
       "      <td>NaN</td>\n",
       "      <td>10.0</td>\n",
       "      <td>2</td>\n",
       "    </tr>\n",
       "    <tr>\n",
       "      <th>4</th>\n",
       "      <td>3-4</td>\n",
       "      <td>9-18</td>\n",
       "      <td>2018-09-01</td>\n",
       "      <td>757.0</td>\n",
       "      <td>1</td>\n",
       "      <td>0</td>\n",
       "      <td>25</td>\n",
       "      <td>3</td>\n",
       "      <td>0</td>\n",
       "      <td>3</td>\n",
       "      <td>...</td>\n",
       "      <td>NaN</td>\n",
       "      <td>NaN</td>\n",
       "      <td>NaN</td>\n",
       "      <td>NaN</td>\n",
       "      <td>NaN</td>\n",
       "      <td>NaN</td>\n",
       "      <td>NaN</td>\n",
       "      <td>NaN</td>\n",
       "      <td>8.0</td>\n",
       "      <td>0</td>\n",
       "    </tr>\n",
       "  </tbody>\n",
       "</table>\n",
       "<p>5 rows × 84 columns</p>\n",
       "</div>"
      ],
      "text/plain": [
       "    key timestamp datetime_formatted  cibil_score  total_email  gender  age  \\\n",
       "0  0-10     11-16         2016-11-01        645.0            4       0   36   \n",
       "1   0-9     10-18         2018-10-01        645.0            4       0   38   \n",
       "2   0-8     11-18         2018-11-01        645.0            4       0   38   \n",
       "3   3-6      3-18         2018-03-01        757.0            1       0   24   \n",
       "4   3-4      9-18         2018-09-01        757.0            1       0   25   \n",
       "\n",
       "   open_loans  closed_loans  total_address  ...  last_3_months_dpd_cc  \\\n",
       "0           1             0              4  ...                   NaN   \n",
       "1           1             1              4  ...                   NaN   \n",
       "2           2             1              4  ...                   NaN   \n",
       "3           1             0              3  ...                   NaN   \n",
       "4           3             0              3  ...                   NaN   \n",
       "\n",
       "   last_6_months_dpd_cc  last_12_months_dpd_cc last_36_months_dpd_cc  \\\n",
       "0                   NaN                    NaN                   NaN   \n",
       "1                   NaN                    NaN                   NaN   \n",
       "2                   NaN                    NaN                   NaN   \n",
       "3                   NaN                    NaN                   NaN   \n",
       "4                   NaN                    NaN                   NaN   \n",
       "\n",
       "   next_3_months_dpd_cc  next_6_months_dpd_cc  next_12_months_dpd_cc  \\\n",
       "0                   NaN                   NaN                    NaN   \n",
       "1                   NaN                   NaN                    NaN   \n",
       "2                   NaN                   NaN                    NaN   \n",
       "3                   NaN                   NaN                    NaN   \n",
       "4                   NaN                   NaN                    NaN   \n",
       "\n",
       "   next_36_months_dpd_cc  time_rank  output  \n",
       "0                    NaN        4.0       0  \n",
       "1                    NaN        3.0       0  \n",
       "2                    NaN        2.0       0  \n",
       "3                    NaN       10.0       2  \n",
       "4                    NaN        8.0       0  \n",
       "\n",
       "[5 rows x 84 columns]"
      ]
     },
     "execution_count": 3,
     "metadata": {},
     "output_type": "execute_result"
    }
   ],
   "source": [
    "df_cibil_feat=df_cibil_feat.drop(columns=['Unnamed: 0'])\n",
    "df_cibil_feat.head()"
   ]
  },
  {
   "cell_type": "code",
   "execution_count": 4,
   "id": "2d9d44e8",
   "metadata": {},
   "outputs": [
    {
     "data": {
      "text/plain": [
       "(6195, 84)"
      ]
     },
     "execution_count": 4,
     "metadata": {},
     "output_type": "execute_result"
    }
   ],
   "source": [
    "df_cibil_feat.shape #old (2413, 84)"
   ]
  },
  {
   "cell_type": "code",
   "execution_count": 32,
   "id": "29ead2e1",
   "metadata": {},
   "outputs": [],
   "source": [
    "df_cibil_feat['user_id']=df_cibil_feat['key'].apply(lambda s: s.split(\"-\")[0])"
   ]
  },
  {
   "cell_type": "code",
   "execution_count": 33,
   "id": "a981cb20",
   "metadata": {},
   "outputs": [
    {
     "data": {
      "text/plain": [
       "847"
      ]
     },
     "execution_count": 33,
     "metadata": {},
     "output_type": "execute_result"
    }
   ],
   "source": [
    "len(df_cibil_feat.user_id.unique())"
   ]
  },
  {
   "cell_type": "code",
   "execution_count": 133,
   "id": "fbea4156",
   "metadata": {},
   "outputs": [],
   "source": [
    "df = df_cibil_feat[['user_id','key','cibil_score', 'datetime_formatted', 'total_email',\n",
    "       'gender', 'age', 'open_loans', 'closed_loans', 'total_address','sanc_amount',\n",
    "        'total_phone_nos', 'total_enq_till_date', 'unique_enquiry_purpose',\n",
    "       'total_enq_amt',  'loan_type', 'ownership',\n",
    "       'enquiry_purpose','last_3_months_dpd_gl',\n",
    "       'last_6_months_dpd_gl', 'last_12_months_dpd_gl',\n",
    "       'last_36_months_dpd_gl','last_3_months_dpd_personal', 'last_6_months_dpd_personal',\n",
    "       'last_12_months_dpd_personal', 'last_36_months_dpd_personal','last_3_months_dpd_cvl', 'last_6_months_dpd_cvl',\n",
    "       'last_12_months_dpd_cvl', 'last_36_months_dpd_cvl','last_3_months_dpd_cc', 'last_6_months_dpd_cc', 'last_12_months_dpd_cc',\n",
    "       'last_36_months_dpd_cc', \n",
    "       'last_3_months_dpd_all', 'last_6_months_dpd_all', 'last_12_months_dpd_all',\n",
    "       'last_36_months_dpd_all',          \n",
    "       'total_enq_till_date_on_user_id_enq_purpose',\n",
    "       'unique_enquiry_purpose_on_user_id_enq_purpose',\n",
    "       'total_enq_amt_on_user_id_enq_purpose','output']]"
   ]
  },
  {
   "cell_type": "code",
   "execution_count": 134,
   "id": "a6b9085e",
   "metadata": {},
   "outputs": [
    {
     "data": {
      "text/plain": [
       "0    1871\n",
       "3    1820\n",
       "4     943\n",
       "5     846\n",
       "2     607\n",
       "1     108\n",
       "Name: loan_type, dtype: int64"
      ]
     },
     "execution_count": 134,
     "metadata": {},
     "output_type": "execute_result"
    }
   ],
   "source": [
    "df.loan_type.value_counts()"
   ]
  },
  {
   "cell_type": "code",
   "execution_count": 135,
   "id": "4b5ac623",
   "metadata": {},
   "outputs": [],
   "source": [
    "df = df[df['loan_type'].isin([2,4,5])]"
   ]
  },
  {
   "cell_type": "code",
   "execution_count": 136,
   "id": "b6dcb75c",
   "metadata": {},
   "outputs": [
    {
     "data": {
      "text/plain": [
       "(2396, 42)"
      ]
     },
     "execution_count": 136,
     "metadata": {},
     "output_type": "execute_result"
    }
   ],
   "source": [
    "#df.shape(891, 36)\n",
    "df.shape"
   ]
  },
  {
   "cell_type": "code",
   "execution_count": 137,
   "id": "ed10b90c",
   "metadata": {},
   "outputs": [
    {
     "data": {
      "text/plain": [
       "array(['2005-01-01', '2005-10-01', '2006-07-01', '2006-09-01',\n",
       "       '2006-11-01', '2006-12-01', '2007-04-01', '2007-06-01',\n",
       "       '2007-07-01', '2007-10-01', '2008-01-01', '2008-02-01',\n",
       "       '2008-04-01', '2008-08-01', '2008-10-01', '2008-12-01',\n",
       "       '2009-10-01', '2010-02-01', '2010-11-01', '2011-01-01',\n",
       "       '2011-04-01', '2011-05-01', '2011-07-01', '2011-08-01',\n",
       "       '2011-10-01', '2011-11-01', '2011-12-01', '2012-01-01',\n",
       "       '2012-02-01', '2012-04-01', '2012-05-01', '2012-06-01',\n",
       "       '2012-10-01', '2012-12-01', '2013-01-01', '2013-02-01',\n",
       "       '2013-04-01', '2013-06-01', '2013-07-01', '2013-08-01',\n",
       "       '2013-10-01', '2013-12-01', '2014-01-01', '2014-02-01',\n",
       "       '2014-03-01', '2014-04-01', '2014-05-01', '2014-06-01',\n",
       "       '2014-07-01', '2014-08-01', '2014-10-01', '2014-11-01',\n",
       "       '2014-12-01', '2015-01-01', '2015-02-01', '2015-03-01',\n",
       "       '2015-04-01', '2015-05-01', '2015-06-01', '2015-07-01',\n",
       "       '2015-08-01', '2015-09-01', '2015-10-01', '2015-11-01',\n",
       "       '2015-12-01', '2016-01-01', '2016-02-01', '2016-03-01',\n",
       "       '2016-04-01', '2016-05-01', '2016-06-01', '2016-07-01',\n",
       "       '2016-08-01', '2016-09-01', '2016-10-01', '2016-11-01',\n",
       "       '2016-12-01', '2017-01-01', '2017-02-01', '2017-03-01',\n",
       "       '2017-04-01', '2017-05-01', '2017-06-01', '2017-07-01',\n",
       "       '2017-08-01', '2017-09-01', '2017-10-01', '2017-11-01',\n",
       "       '2017-12-01', '2018-01-01', '2018-02-01', '2018-03-01',\n",
       "       '2018-04-01', '2018-05-01', '2018-06-01', '2018-07-01',\n",
       "       '2018-08-01', '2018-09-01', '2018-10-01', '2018-11-01',\n",
       "       '2018-12-01', '2019-01-01', '2019-02-01', '2019-03-01',\n",
       "       '2019-04-01', '2019-05-01', '2019-06-01', '2019-07-01',\n",
       "       '2019-08-01', '2019-09-01', '2019-10-01', '2019-11-01',\n",
       "       '2019-12-01', '2020-01-01', '2020-02-01', '2020-03-01',\n",
       "       '2020-04-01', '2020-05-01', '2020-06-01', '2020-07-01',\n",
       "       '2020-08-01', '2020-09-01', '2020-10-01', '2020-11-01',\n",
       "       '2020-12-01', '2021-01-01', '2021-02-01', '2021-03-01',\n",
       "       '2021-04-01', '2021-05-01', '2021-06-01', '2021-07-01',\n",
       "       '2021-08-01', '2021-09-01', '2021-10-01', '2021-11-01',\n",
       "       '2021-12-01', '2022-01-01', '2022-02-01', '2022-03-01',\n",
       "       '2022-04-01', '2022-05-01', '2022-06-01', '2022-07-01',\n",
       "       '2022-08-01', '2022-09-01', '2022-10-01'], dtype=object)"
      ]
     },
     "execution_count": 137,
     "metadata": {},
     "output_type": "execute_result"
    }
   ],
   "source": [
    "import numpy as np\n",
    "\n",
    "np.sort(df.datetime_formatted.unique())"
   ]
  },
  {
   "cell_type": "code",
   "execution_count": 138,
   "id": "7893a3bd",
   "metadata": {},
   "outputs": [
    {
     "name": "stdout",
     "output_type": "stream",
     "text": [
      "147\n"
     ]
    }
   ],
   "source": [
    "print(len(df.datetime_formatted.unique()))"
   ]
  },
  {
   "cell_type": "code",
   "execution_count": 139,
   "id": "dcfb8146",
   "metadata": {},
   "outputs": [
    {
     "data": {
      "text/plain": [
       "32.800000000000004"
      ]
     },
     "execution_count": 139,
     "metadata": {},
     "output_type": "execute_result"
    }
   ],
   "source": [
    "0.20*164"
   ]
  },
  {
   "cell_type": "code",
   "execution_count": 140,
   "id": "f0763048",
   "metadata": {},
   "outputs": [
    {
     "data": {
      "text/plain": [
       "(2396, 42)"
      ]
     },
     "execution_count": 140,
     "metadata": {},
     "output_type": "execute_result"
    }
   ],
   "source": [
    "df.shape"
   ]
  },
  {
   "cell_type": "code",
   "execution_count": 141,
   "id": "9e13dd5d",
   "metadata": {},
   "outputs": [
    {
     "data": {
      "text/plain": [
       "0    2002\n",
       "3     204\n",
       "2      99\n",
       "1      91\n",
       "Name: output, dtype: int64"
      ]
     },
     "execution_count": 141,
     "metadata": {},
     "output_type": "execute_result"
    }
   ],
   "source": [
    "df['output'].value_counts()"
   ]
  },
  {
   "cell_type": "code",
   "execution_count": 142,
   "id": "fb7a0f2a",
   "metadata": {},
   "outputs": [],
   "source": [
    "df['output'] = df.apply(lambda s: s['output'] if s['output'] <=0 else 1,axis=1)"
   ]
  },
  {
   "cell_type": "code",
   "execution_count": 143,
   "id": "082cef7b",
   "metadata": {},
   "outputs": [
    {
     "data": {
      "text/plain": [
       "0    2002\n",
       "1     394\n",
       "Name: output, dtype: int64"
      ]
     },
     "execution_count": 143,
     "metadata": {},
     "output_type": "execute_result"
    }
   ],
   "source": [
    "df['output'].value_counts()"
   ]
  },
  {
   "cell_type": "code",
   "execution_count": 144,
   "id": "eb22472d",
   "metadata": {},
   "outputs": [
    {
     "data": {
      "text/html": [
       "<div>\n",
       "<style scoped>\n",
       "    .dataframe tbody tr th:only-of-type {\n",
       "        vertical-align: middle;\n",
       "    }\n",
       "\n",
       "    .dataframe tbody tr th {\n",
       "        vertical-align: top;\n",
       "    }\n",
       "\n",
       "    .dataframe thead th {\n",
       "        text-align: right;\n",
       "    }\n",
       "</style>\n",
       "<table border=\"1\" class=\"dataframe\">\n",
       "  <thead>\n",
       "    <tr style=\"text-align: right;\">\n",
       "      <th></th>\n",
       "      <th>user_id</th>\n",
       "      <th>key</th>\n",
       "      <th>cibil_score</th>\n",
       "      <th>datetime_formatted</th>\n",
       "      <th>total_email</th>\n",
       "      <th>gender</th>\n",
       "      <th>age</th>\n",
       "      <th>open_loans</th>\n",
       "      <th>closed_loans</th>\n",
       "      <th>total_address</th>\n",
       "      <th>...</th>\n",
       "      <th>last_12_months_dpd_cc</th>\n",
       "      <th>last_36_months_dpd_cc</th>\n",
       "      <th>last_3_months_dpd_all</th>\n",
       "      <th>last_6_months_dpd_all</th>\n",
       "      <th>last_12_months_dpd_all</th>\n",
       "      <th>last_36_months_dpd_all</th>\n",
       "      <th>total_enq_till_date_on_user_id_enq_purpose</th>\n",
       "      <th>unique_enquiry_purpose_on_user_id_enq_purpose</th>\n",
       "      <th>total_enq_amt_on_user_id_enq_purpose</th>\n",
       "      <th>output</th>\n",
       "    </tr>\n",
       "  </thead>\n",
       "  <tbody>\n",
       "    <tr>\n",
       "      <th>2</th>\n",
       "      <td>0</td>\n",
       "      <td>0-8</td>\n",
       "      <td>645.0</td>\n",
       "      <td>2018-11-01</td>\n",
       "      <td>4</td>\n",
       "      <td>0</td>\n",
       "      <td>38</td>\n",
       "      <td>2</td>\n",
       "      <td>1</td>\n",
       "      <td>4</td>\n",
       "      <td>...</td>\n",
       "      <td>NaN</td>\n",
       "      <td>NaN</td>\n",
       "      <td>0.0</td>\n",
       "      <td>0.0</td>\n",
       "      <td>0.0</td>\n",
       "      <td>0.0</td>\n",
       "      <td>0</td>\n",
       "      <td>0</td>\n",
       "      <td>0</td>\n",
       "      <td>0</td>\n",
       "    </tr>\n",
       "    <tr>\n",
       "      <th>5</th>\n",
       "      <td>3</td>\n",
       "      <td>3-5</td>\n",
       "      <td>757.0</td>\n",
       "      <td>2018-09-01</td>\n",
       "      <td>1</td>\n",
       "      <td>0</td>\n",
       "      <td>25</td>\n",
       "      <td>3</td>\n",
       "      <td>0</td>\n",
       "      <td>3</td>\n",
       "      <td>...</td>\n",
       "      <td>NaN</td>\n",
       "      <td>NaN</td>\n",
       "      <td>34.0</td>\n",
       "      <td>34.0</td>\n",
       "      <td>34.0</td>\n",
       "      <td>34.0</td>\n",
       "      <td>0</td>\n",
       "      <td>0</td>\n",
       "      <td>0</td>\n",
       "      <td>0</td>\n",
       "    </tr>\n",
       "    <tr>\n",
       "      <th>6</th>\n",
       "      <td>3</td>\n",
       "      <td>3-3</td>\n",
       "      <td>757.0</td>\n",
       "      <td>2018-11-01</td>\n",
       "      <td>1</td>\n",
       "      <td>0</td>\n",
       "      <td>25</td>\n",
       "      <td>4</td>\n",
       "      <td>0</td>\n",
       "      <td>3</td>\n",
       "      <td>...</td>\n",
       "      <td>NaN</td>\n",
       "      <td>NaN</td>\n",
       "      <td>32.0</td>\n",
       "      <td>34.0</td>\n",
       "      <td>34.0</td>\n",
       "      <td>34.0</td>\n",
       "      <td>4</td>\n",
       "      <td>4</td>\n",
       "      <td>100000</td>\n",
       "      <td>0</td>\n",
       "    </tr>\n",
       "    <tr>\n",
       "      <th>11</th>\n",
       "      <td>7</td>\n",
       "      <td>7-11</td>\n",
       "      <td>617.0</td>\n",
       "      <td>2006-11-01</td>\n",
       "      <td>3</td>\n",
       "      <td>0</td>\n",
       "      <td>30</td>\n",
       "      <td>2</td>\n",
       "      <td>0</td>\n",
       "      <td>4</td>\n",
       "      <td>...</td>\n",
       "      <td>NaN</td>\n",
       "      <td>NaN</td>\n",
       "      <td>0.0</td>\n",
       "      <td>0.0</td>\n",
       "      <td>0.0</td>\n",
       "      <td>0.0</td>\n",
       "      <td>4</td>\n",
       "      <td>4</td>\n",
       "      <td>300000</td>\n",
       "      <td>0</td>\n",
       "    </tr>\n",
       "    <tr>\n",
       "      <th>12</th>\n",
       "      <td>7</td>\n",
       "      <td>7-9</td>\n",
       "      <td>617.0</td>\n",
       "      <td>2007-06-01</td>\n",
       "      <td>3</td>\n",
       "      <td>0</td>\n",
       "      <td>31</td>\n",
       "      <td>3</td>\n",
       "      <td>0</td>\n",
       "      <td>4</td>\n",
       "      <td>...</td>\n",
       "      <td>NaN</td>\n",
       "      <td>NaN</td>\n",
       "      <td>0.0</td>\n",
       "      <td>0.0</td>\n",
       "      <td>0.0</td>\n",
       "      <td>0.0</td>\n",
       "      <td>9</td>\n",
       "      <td>6</td>\n",
       "      <td>525000</td>\n",
       "      <td>0</td>\n",
       "    </tr>\n",
       "  </tbody>\n",
       "</table>\n",
       "<p>5 rows × 42 columns</p>\n",
       "</div>"
      ],
      "text/plain": [
       "   user_id   key  cibil_score datetime_formatted  total_email  gender  age  \\\n",
       "2        0   0-8        645.0         2018-11-01            4       0   38   \n",
       "5        3   3-5        757.0         2018-09-01            1       0   25   \n",
       "6        3   3-3        757.0         2018-11-01            1       0   25   \n",
       "11       7  7-11        617.0         2006-11-01            3       0   30   \n",
       "12       7   7-9        617.0         2007-06-01            3       0   31   \n",
       "\n",
       "    open_loans  closed_loans  total_address  ...  last_12_months_dpd_cc  \\\n",
       "2            2             1              4  ...                    NaN   \n",
       "5            3             0              3  ...                    NaN   \n",
       "6            4             0              3  ...                    NaN   \n",
       "11           2             0              4  ...                    NaN   \n",
       "12           3             0              4  ...                    NaN   \n",
       "\n",
       "    last_36_months_dpd_cc  last_3_months_dpd_all  last_6_months_dpd_all  \\\n",
       "2                     NaN                    0.0                    0.0   \n",
       "5                     NaN                   34.0                   34.0   \n",
       "6                     NaN                   32.0                   34.0   \n",
       "11                    NaN                    0.0                    0.0   \n",
       "12                    NaN                    0.0                    0.0   \n",
       "\n",
       "    last_12_months_dpd_all  last_36_months_dpd_all  \\\n",
       "2                      0.0                     0.0   \n",
       "5                     34.0                    34.0   \n",
       "6                     34.0                    34.0   \n",
       "11                     0.0                     0.0   \n",
       "12                     0.0                     0.0   \n",
       "\n",
       "    total_enq_till_date_on_user_id_enq_purpose  \\\n",
       "2                                            0   \n",
       "5                                            0   \n",
       "6                                            4   \n",
       "11                                           4   \n",
       "12                                           9   \n",
       "\n",
       "    unique_enquiry_purpose_on_user_id_enq_purpose  \\\n",
       "2                                               0   \n",
       "5                                               0   \n",
       "6                                               4   \n",
       "11                                              4   \n",
       "12                                              6   \n",
       "\n",
       "    total_enq_amt_on_user_id_enq_purpose  output  \n",
       "2                                      0       0  \n",
       "5                                      0       0  \n",
       "6                                 100000       0  \n",
       "11                                300000       0  \n",
       "12                                525000       0  \n",
       "\n",
       "[5 rows x 42 columns]"
      ]
     },
     "execution_count": 144,
     "metadata": {},
     "output_type": "execute_result"
    }
   ],
   "source": [
    "df.head()"
   ]
  },
  {
   "cell_type": "code",
   "execution_count": 145,
   "id": "5a2690b5",
   "metadata": {},
   "outputs": [
    {
     "data": {
      "text/plain": [
       "576"
      ]
     },
     "execution_count": 145,
     "metadata": {},
     "output_type": "execute_result"
    }
   ],
   "source": [
    "len(df.user_id.unique())"
   ]
  },
  {
   "cell_type": "code",
   "execution_count": 146,
   "id": "b3899eba",
   "metadata": {},
   "outputs": [
    {
     "data": {
      "text/plain": [
       "('2022-10-01', '2005-01-01')"
      ]
     },
     "execution_count": 146,
     "metadata": {},
     "output_type": "execute_result"
    }
   ],
   "source": [
    "max(df['datetime_formatted']),min(df['datetime_formatted'])"
   ]
  },
  {
   "cell_type": "code",
   "execution_count": 147,
   "id": "9f2d1925",
   "metadata": {},
   "outputs": [
    {
     "data": {
      "text/plain": [
       "(333, 42)"
      ]
     },
     "execution_count": 147,
     "metadata": {},
     "output_type": "execute_result"
    }
   ],
   "source": [
    "df_2021_08 = df[df['datetime_formatted'] >= '2021-08-01']\n",
    "df_2021_08.shape"
   ]
  },
  {
   "cell_type": "code",
   "execution_count": 148,
   "id": "dee85ece",
   "metadata": {},
   "outputs": [
    {
     "data": {
      "text/plain": [
       "143"
      ]
     },
     "execution_count": 148,
     "metadata": {},
     "output_type": "execute_result"
    }
   ],
   "source": [
    "len(df_2021_08.user_id.unique())"
   ]
  },
  {
   "cell_type": "code",
   "execution_count": 149,
   "id": "46d2f644",
   "metadata": {},
   "outputs": [
    {
     "data": {
      "text/plain": [
       "0    321\n",
       "1     12\n",
       "Name: output, dtype: int64"
      ]
     },
     "execution_count": 149,
     "metadata": {},
     "output_type": "execute_result"
    }
   ],
   "source": [
    "df_2021_08.output.value_counts()"
   ]
  },
  {
   "cell_type": "code",
   "execution_count": 150,
   "id": "e5acbc9f",
   "metadata": {},
   "outputs": [],
   "source": [
    "df_2021_08_0 = df_2021_08[df_2021_08['output']==0]\n",
    "df_2021_08_1 = df_2021_08[df_2021_08['output']==1]"
   ]
  },
  {
   "cell_type": "code",
   "execution_count": 151,
   "id": "11d95ddb",
   "metadata": {},
   "outputs": [
    {
     "data": {
      "text/plain": [
       "((321, 42), (12, 42))"
      ]
     },
     "execution_count": 151,
     "metadata": {},
     "output_type": "execute_result"
    }
   ],
   "source": [
    "df_2021_08_0.shape, df_2021_08_1.shape"
   ]
  },
  {
   "cell_type": "code",
   "execution_count": 152,
   "id": "d06f8378",
   "metadata": {},
   "outputs": [],
   "source": [
    "df_2021_08_0_users = df_2021_08_0.user_id.unique()\n",
    "df_2021_08_1_users = df_2021_08_1.user_id.unique()"
   ]
  },
  {
   "cell_type": "code",
   "execution_count": 153,
   "id": "07cd80f8",
   "metadata": {},
   "outputs": [
    {
     "data": {
      "text/plain": [
       "((136,), (11,))"
      ]
     },
     "execution_count": 153,
     "metadata": {},
     "output_type": "execute_result"
    }
   ],
   "source": [
    "df_2021_08_0_users.shape, df_2021_08_1_users.shape"
   ]
  },
  {
   "cell_type": "code",
   "execution_count": 154,
   "id": "a2c9a791",
   "metadata": {},
   "outputs": [],
   "source": [
    "from random import sample"
   ]
  },
  {
   "cell_type": "code",
   "execution_count": 156,
   "id": "f8099f32",
   "metadata": {},
   "outputs": [],
   "source": [
    "df_2021_08_0_users_train = sample(list(df_2021_08_0_users), 108)"
   ]
  },
  {
   "cell_type": "code",
   "execution_count": 157,
   "id": "34239d8a",
   "metadata": {},
   "outputs": [],
   "source": [
    "df_2021_08_1_users_train = sample(list(df_2021_08_1_users), 8)"
   ]
  },
  {
   "cell_type": "code",
   "execution_count": 158,
   "id": "cf92757c",
   "metadata": {},
   "outputs": [
    {
     "data": {
      "text/plain": [
       "(28, 136, 108)"
      ]
     },
     "execution_count": 158,
     "metadata": {},
     "output_type": "execute_result"
    }
   ],
   "source": [
    "df_2021_08_0_users_test = set(list(df_2021_08_0_users)) - set(df_2021_08_0_users_train)\n",
    "len(df_2021_08_0_users_test),len(df_2021_08_0_users),len(df_2021_08_0_users_train)"
   ]
  },
  {
   "cell_type": "code",
   "execution_count": 159,
   "id": "5d8ea5a8",
   "metadata": {},
   "outputs": [
    {
     "data": {
      "text/plain": [
       "(3, 11, 8)"
      ]
     },
     "execution_count": 159,
     "metadata": {},
     "output_type": "execute_result"
    }
   ],
   "source": [
    "df_2021_08_1_users_test = set(list(df_2021_08_1_users)) - set(df_2021_08_1_users_train)\n",
    "len(df_2021_08_1_users_test),len(df_2021_08_1_users),len(df_2021_08_1_users_train)"
   ]
  },
  {
   "cell_type": "code",
   "execution_count": 160,
   "id": "0d3b6a1a",
   "metadata": {},
   "outputs": [],
   "source": [
    "df_train = df[df['datetime_formatted'] < '2021-08-01']\n",
    "df_valid = df[df['datetime_formatted'] >= '2021-08-01']"
   ]
  },
  {
   "cell_type": "code",
   "execution_count": 161,
   "id": "bd04a8e2",
   "metadata": {},
   "outputs": [
    {
     "name": "stdout",
     "output_type": "stream",
     "text": [
      "(2063, 42)\n",
      "(2057, 42)\n"
     ]
    }
   ],
   "source": [
    "# remove test user from df_train_2022\n",
    "print(df_train.shape)\n",
    "df_train = df_train[~df_train['user_id'].isin(df_2021_08_1_users_test)]\n",
    "print(df_train.shape)"
   ]
  },
  {
   "cell_type": "code",
   "execution_count": 162,
   "id": "19576ec6",
   "metadata": {},
   "outputs": [
    {
     "name": "stdout",
     "output_type": "stream",
     "text": [
      "(2057, 42)\n",
      "(1896, 42)\n"
     ]
    }
   ],
   "source": [
    "# remove test user from df_train_2022\n",
    "print(df_train.shape)\n",
    "df_train = df_train[~df_train['user_id'].isin(df_2021_08_0_users_test)]\n",
    "print(df_train.shape)"
   ]
  },
  {
   "cell_type": "code",
   "execution_count": 163,
   "id": "e1f843e3",
   "metadata": {},
   "outputs": [
    {
     "name": "stdout",
     "output_type": "stream",
     "text": [
      "(333, 42)\n",
      "(326, 42)\n"
     ]
    }
   ],
   "source": [
    "# add some 2021 data into users\n",
    "print(df_2021_08.shape)\n",
    "df_2021_08_revised = df_2021_08[~df_2021_08['user_id'].isin(df_2021_08_1_users_test)]\n",
    "print(df_2021_08_revised.shape)"
   ]
  },
  {
   "cell_type": "code",
   "execution_count": 164,
   "id": "94bce860",
   "metadata": {},
   "outputs": [
    {
     "name": "stdout",
     "output_type": "stream",
     "text": [
      "(326, 42)\n",
      "(273, 42)\n"
     ]
    }
   ],
   "source": [
    "# add some 2021 data into users\n",
    "print(df_2021_08_revised.shape)\n",
    "df_2021_08_revised = df_2021_08_revised[~df_2021_08_revised['user_id'].isin(df_2021_08_0_users_test)]\n",
    "print(df_2021_08_revised.shape)"
   ]
  },
  {
   "cell_type": "code",
   "execution_count": 165,
   "id": "2da6b8c9",
   "metadata": {},
   "outputs": [],
   "source": [
    "df_train=df_train.append(df_2021_08_revised)"
   ]
  },
  {
   "cell_type": "code",
   "execution_count": 166,
   "id": "a97b2c14",
   "metadata": {},
   "outputs": [
    {
     "data": {
      "text/plain": [
       "(2169, 42)"
      ]
     },
     "execution_count": 166,
     "metadata": {},
     "output_type": "execute_result"
    }
   ],
   "source": [
    "df_train.shape"
   ]
  },
  {
   "cell_type": "code",
   "execution_count": 167,
   "id": "d858b838",
   "metadata": {},
   "outputs": [
    {
     "data": {
      "text/plain": [
       "0    1798\n",
       "1     371\n",
       "Name: output, dtype: int64"
      ]
     },
     "execution_count": 167,
     "metadata": {},
     "output_type": "execute_result"
    }
   ],
   "source": [
    "df_train['output'].value_counts()"
   ]
  },
  {
   "cell_type": "code",
   "execution_count": 168,
   "id": "34da9fb9",
   "metadata": {},
   "outputs": [
    {
     "data": {
      "text/plain": [
       "0    321\n",
       "1     12\n",
       "Name: output, dtype: int64"
      ]
     },
     "execution_count": 168,
     "metadata": {},
     "output_type": "execute_result"
    }
   ],
   "source": [
    "df_valid['output'].value_counts()"
   ]
  },
  {
   "cell_type": "code",
   "execution_count": 197,
   "id": "e7274584",
   "metadata": {},
   "outputs": [
    {
     "data": {
      "text/plain": [
       "(333, 42)"
      ]
     },
     "execution_count": 197,
     "metadata": {},
     "output_type": "execute_result"
    }
   ],
   "source": [
    "df_valid.shape"
   ]
  },
  {
   "cell_type": "code",
   "execution_count": 169,
   "id": "ae8ff931",
   "metadata": {},
   "outputs": [
    {
     "data": {
      "text/plain": [
       "0    1798\n",
       "1     371\n",
       "Name: output, dtype: int64"
      ]
     },
     "execution_count": 169,
     "metadata": {},
     "output_type": "execute_result"
    }
   ],
   "source": [
    "df_train['output'].value_counts()"
   ]
  },
  {
   "cell_type": "code",
   "execution_count": 170,
   "id": "7ab5fc9f",
   "metadata": {},
   "outputs": [],
   "source": [
    "df_train_0 = df_train[df_train['output']==0]\n",
    "df_train_1 = df_train[df_train['output']==1]"
   ]
  },
  {
   "cell_type": "code",
   "execution_count": 171,
   "id": "c230aabc",
   "metadata": {},
   "outputs": [
    {
     "data": {
      "text/plain": [
       "((1798, 42), (371, 42))"
      ]
     },
     "execution_count": 171,
     "metadata": {},
     "output_type": "execute_result"
    }
   ],
   "source": [
    "df_train_0.shape, df_train_1.shape"
   ]
  },
  {
   "cell_type": "code",
   "execution_count": 172,
   "id": "c297c3e0",
   "metadata": {},
   "outputs": [
    {
     "data": {
      "text/plain": [
       "(750, 42)"
      ]
     },
     "execution_count": 172,
     "metadata": {},
     "output_type": "execute_result"
    }
   ],
   "source": [
    "df_train_0 = df_train_0.sample(n=750, random_state=42)\n",
    "df_train_0.shape"
   ]
  },
  {
   "cell_type": "code",
   "execution_count": 173,
   "id": "69f402ec",
   "metadata": {},
   "outputs": [
    {
     "data": {
      "text/plain": [
       "(1121, 42)"
      ]
     },
     "execution_count": 173,
     "metadata": {},
     "output_type": "execute_result"
    }
   ],
   "source": [
    "df_train_sample = df_train_0.append(df_train_1)\n",
    "df_train_sample.shape"
   ]
  },
  {
   "cell_type": "code",
   "execution_count": 175,
   "id": "c5e009f1",
   "metadata": {},
   "outputs": [],
   "source": [
    "X_train = df_train_sample[['total_email',\n",
    "       'gender', 'age', 'open_loans', 'closed_loans', 'total_address','sanc_amount',\n",
    "        'total_phone_nos',\n",
    "        'loan_type', 'ownership',\n",
    "        'last_3_months_dpd_gl',\n",
    "       'last_6_months_dpd_gl', 'last_12_months_dpd_gl',\n",
    "       'last_36_months_dpd_gl','last_3_months_dpd_personal', 'last_6_months_dpd_personal',\n",
    "       'last_12_months_dpd_personal', 'last_36_months_dpd_personal','last_3_months_dpd_cvl', 'last_6_months_dpd_cvl',\n",
    "       'last_12_months_dpd_cvl', 'last_36_months_dpd_cvl','last_3_months_dpd_cc', 'last_6_months_dpd_cc', 'last_12_months_dpd_cc',\n",
    "       'last_36_months_dpd_cc',\n",
    "        'last_3_months_dpd_all', 'last_6_months_dpd_all', 'last_12_months_dpd_all','last_36_months_dpd_all']]\n",
    "       #'total_enq_till_date', 'unique_enquiry_purpose',\n",
    "       #'total_enq_amt',  \n",
    "       #'enquiry_purpose',\n",
    "       #'total_enq_till_date_on_user_id_enq_purpose',\n",
    "       #'unique_enquiry_purpose_on_user_id_enq_purpose',\n",
    "       #'total_enq_amt_on_user_id_enq_purpose']]\n",
    "\n",
    "y_train = df_train_sample[['output']]"
   ]
  },
  {
   "cell_type": "code",
   "execution_count": 176,
   "id": "5abfcaa8",
   "metadata": {},
   "outputs": [],
   "source": [
    "X_test = df_valid[['total_email',\n",
    "       'gender', 'age', 'open_loans', 'closed_loans', 'total_address','sanc_amount',\n",
    "        'total_phone_nos', \n",
    "        'loan_type', 'ownership',\n",
    "        'last_3_months_dpd_gl',\n",
    "       'last_6_months_dpd_gl', 'last_12_months_dpd_gl',\n",
    "       'last_36_months_dpd_gl','last_3_months_dpd_personal', 'last_6_months_dpd_personal',\n",
    "       'last_12_months_dpd_personal', 'last_36_months_dpd_personal','last_3_months_dpd_cvl', 'last_6_months_dpd_cvl',\n",
    "       'last_12_months_dpd_cvl', 'last_36_months_dpd_cvl','last_3_months_dpd_cc', 'last_6_months_dpd_cc', 'last_12_months_dpd_cc',\n",
    "       'last_36_months_dpd_cc',\n",
    "       'last_3_months_dpd_all', 'last_6_months_dpd_all', 'last_12_months_dpd_all','last_36_months_dpd_all']]\n",
    "       #'total_enq_till_date_on_user_id_enq_purpose',\n",
    "       #'total_enq_till_date_on_user_id_enq_purpose',\n",
    "       #'unique_enquiry_purpose_on_user_id_enq_purpose',\n",
    "       #'total_enq_amt_on_user_id_enq_purpose']]\n",
    "\n",
    "y_test = df_valid[['output']]"
   ]
  },
  {
   "cell_type": "code",
   "execution_count": 177,
   "id": "00a6ac35",
   "metadata": {},
   "outputs": [],
   "source": [
    "from sklearn.metrics import DistanceMetric\n"
   ]
  },
  {
   "cell_type": "code",
   "execution_count": 178,
   "id": "eba800a5",
   "metadata": {},
   "outputs": [
    {
     "data": {
      "text/plain": [
       "0    2002\n",
       "1     394\n",
       "Name: output, dtype: int64"
      ]
     },
     "execution_count": 178,
     "metadata": {},
     "output_type": "execute_result"
    }
   ],
   "source": [
    "y = df[['output']]\n",
    "y['output'].value_counts()"
   ]
  },
  {
   "cell_type": "code",
   "execution_count": 179,
   "id": "d0d6dfb3",
   "metadata": {},
   "outputs": [
    {
     "data": {
      "text/plain": [
       "0    750\n",
       "1    371\n",
       "Name: output, dtype: int64"
      ]
     },
     "execution_count": 179,
     "metadata": {},
     "output_type": "execute_result"
    }
   ],
   "source": [
    "y_train['output'].value_counts()"
   ]
  },
  {
   "cell_type": "code",
   "execution_count": 180,
   "id": "cebe580a",
   "metadata": {},
   "outputs": [
    {
     "data": {
      "text/plain": [
       "0    321\n",
       "1     12\n",
       "Name: output, dtype: int64"
      ]
     },
     "execution_count": 180,
     "metadata": {},
     "output_type": "execute_result"
    }
   ],
   "source": [
    "y_test['output'].value_counts()"
   ]
  },
  {
   "cell_type": "code",
   "execution_count": 181,
   "id": "6d143412",
   "metadata": {},
   "outputs": [
    {
     "data": {
      "text/plain": [
       "479.20000000000005"
      ]
     },
     "execution_count": 181,
     "metadata": {},
     "output_type": "execute_result"
    }
   ],
   "source": [
    ".20*df.shape[0]"
   ]
  },
  {
   "cell_type": "code",
   "execution_count": 182,
   "id": "86aa4a1e",
   "metadata": {},
   "outputs": [
    {
     "data": {
      "text/plain": [
       "((1121, 30), (333, 30))"
      ]
     },
     "execution_count": 182,
     "metadata": {},
     "output_type": "execute_result"
    }
   ],
   "source": [
    "X_train.shape, X_test.shape"
   ]
  },
  {
   "cell_type": "code",
   "execution_count": 183,
   "id": "51f66c79",
   "metadata": {},
   "outputs": [
    {
     "data": {
      "text/plain": [
       "((1121, 1), (333, 1))"
      ]
     },
     "execution_count": 183,
     "metadata": {},
     "output_type": "execute_result"
    }
   ],
   "source": [
    "y_train.shape, y_test.shape"
   ]
  },
  {
   "cell_type": "code",
   "execution_count": 184,
   "id": "e9b51f4f",
   "metadata": {},
   "outputs": [],
   "source": [
    "xgb_classifier =XGBClassifier(n_estimators=1000)"
   ]
  },
  {
   "cell_type": "code",
   "execution_count": 185,
   "id": "6a610bfa",
   "metadata": {},
   "outputs": [],
   "source": [
    "from sklearn.utils.class_weight import compute_sample_weight\n",
    "sample_weights = compute_sample_weight(\n",
    "    class_weight='balanced',\n",
    "    y=y_train['output'] #provide your own target name\n",
    ")\n",
    "# \n",
    "# xgb_classifier.fit(X, y, sample_weight=sample_weights)"
   ]
  },
  {
   "cell_type": "code",
   "execution_count": 186,
   "id": "b5be0369",
   "metadata": {},
   "outputs": [
    {
     "data": {
      "text/plain": [
       "1121"
      ]
     },
     "execution_count": 186,
     "metadata": {},
     "output_type": "execute_result"
    }
   ],
   "source": [
    "len(sample_weights)"
   ]
  },
  {
   "cell_type": "code",
   "execution_count": 187,
   "id": "0c35895c",
   "metadata": {},
   "outputs": [
    {
     "name": "stderr",
     "output_type": "stream",
     "text": [
      "/home/ubuntu/anaconda3/envs/faiss/lib/python3.8/site-packages/xgboost/sklearn.py:1224: UserWarning: The use of label encoder in XGBClassifier is deprecated and will be removed in a future release. To remove this warning, do the following: 1) Pass option use_label_encoder=False when constructing XGBClassifier object; and 2) Encode your labels (y) as integers starting with 0, i.e. 0, 1, 2, ..., [num_class - 1].\n",
      "  warnings.warn(label_encoder_deprecation_msg, UserWarning)\n",
      "/home/ubuntu/anaconda3/envs/faiss/lib/python3.8/site-packages/sklearn/preprocessing/_label.py:98: DataConversionWarning: A column-vector y was passed when a 1d array was expected. Please change the shape of y to (n_samples, ), for example using ravel().\n",
      "  y = column_or_1d(y, warn=True)\n",
      "/home/ubuntu/anaconda3/envs/faiss/lib/python3.8/site-packages/sklearn/preprocessing/_label.py:133: DataConversionWarning: A column-vector y was passed when a 1d array was expected. Please change the shape of y to (n_samples, ), for example using ravel().\n",
      "  y = column_or_1d(y, warn=True)\n"
     ]
    },
    {
     "name": "stdout",
     "output_type": "stream",
     "text": [
      "[10:17:27] WARNING: ../src/learner.cc:1115: Starting in XGBoost 1.3.0, the default evaluation metric used with the objective 'binary:logistic' was changed from 'error' to 'logloss'. Explicitly set eval_metric if you'd like to restore the old behavior.\n"
     ]
    },
    {
     "data": {
      "text/plain": [
       "XGBClassifier(base_score=0.5, booster='gbtree', colsample_bylevel=1,\n",
       "              colsample_bynode=1, colsample_bytree=1, enable_categorical=False,\n",
       "              gamma=0, gpu_id=-1, importance_type=None,\n",
       "              interaction_constraints='', learning_rate=0.300000012,\n",
       "              max_delta_step=0, max_depth=6, min_child_weight=1, missing=nan,\n",
       "              monotone_constraints='()', n_estimators=1000, n_jobs=4,\n",
       "              num_parallel_tree=1, predictor='auto', random_state=0,\n",
       "              reg_alpha=0, reg_lambda=1, scale_pos_weight=1, subsample=1,\n",
       "              tree_method='exact', validate_parameters=1, verbosity=None)"
      ]
     },
     "execution_count": 187,
     "metadata": {},
     "output_type": "execute_result"
    }
   ],
   "source": [
    "xgb_classifier.fit(X_train,y_train,sample_weight=sample_weights)\n",
    "#xgb_classifier.fit(X_train,y_train)\n"
   ]
  },
  {
   "cell_type": "code",
   "execution_count": 188,
   "id": "eed73813",
   "metadata": {},
   "outputs": [],
   "source": [
    "predictions = xgb_classifier.predict(X_test)\n"
   ]
  },
  {
   "cell_type": "code",
   "execution_count": 189,
   "id": "81c67c8e",
   "metadata": {},
   "outputs": [],
   "source": [
    "y_proba = xgb_classifier.predict_proba(X_test)"
   ]
  },
  {
   "cell_type": "code",
   "execution_count": 190,
   "id": "842487b7",
   "metadata": {},
   "outputs": [
    {
     "name": "stdout",
     "output_type": "stream",
     "text": [
      "Accuracy of Model:: 0.9459459459459459\n"
     ]
    }
   ],
   "source": [
    "print(\"Accuracy of Model::\",accuracy_score(y_test,predictions))\n"
   ]
  },
  {
   "cell_type": "code",
   "execution_count": 191,
   "id": "5e4a87e3",
   "metadata": {},
   "outputs": [],
   "source": [
    "#print(\"Accuracy of Model::\",accuracy_score(y_test,predictions))\n"
   ]
  },
  {
   "cell_type": "code",
   "execution_count": 192,
   "id": "9c9e41c2",
   "metadata": {},
   "outputs": [
    {
     "data": {
      "text/plain": [
       "0    321\n",
       "1     12\n",
       "Name: output, dtype: int64"
      ]
     },
     "execution_count": 192,
     "metadata": {},
     "output_type": "execute_result"
    }
   ],
   "source": [
    "y_test['output'].value_counts()"
   ]
  },
  {
   "cell_type": "code",
   "execution_count": 193,
   "id": "2043fdf3",
   "metadata": {},
   "outputs": [],
   "source": [
    "import matplotlib.pyplot as plt\n",
    "from sklearn.metrics import accuracy_score, confusion_matrix, roc_auc_score, roc_curve,classification_report\n",
    "\n",
    "def plot_roc_curve(true_y, y_prob):\n",
    "    \"\"\"\n",
    "    plots the roc curve based of the probabilities\n",
    "    \"\"\"\n",
    "\n",
    "    fpr, tpr, thresholds = roc_curve(true_y, y_prob)\n",
    "    plt.plot(fpr, tpr)\n",
    "    plt.xlabel('False Positive Rate')\n",
    "    plt.ylabel('True Positive Rate')"
   ]
  },
  {
   "cell_type": "code",
   "execution_count": 194,
   "id": "a8257b22",
   "metadata": {},
   "outputs": [
    {
     "name": "stdout",
     "output_type": "stream",
     "text": [
      "[[306  15]\n",
      " [  3   9]]\n"
     ]
    }
   ],
   "source": [
    "print(confusion_matrix(y_test,predictions))"
   ]
  },
  {
   "cell_type": "code",
   "execution_count": 195,
   "id": "57bf1555",
   "metadata": {},
   "outputs": [
    {
     "name": "stdout",
     "output_type": "stream",
     "text": [
      "              precision    recall  f1-score   support\n",
      "\n",
      "           0       0.99      0.95      0.97       321\n",
      "           1       0.38      0.75      0.50        12\n",
      "\n",
      "    accuracy                           0.95       333\n",
      "   macro avg       0.68      0.85      0.74       333\n",
      "weighted avg       0.97      0.95      0.95       333\n",
      "\n"
     ]
    }
   ],
   "source": [
    "print(classification_report(y_test, predictions))"
   ]
  },
  {
   "cell_type": "code",
   "execution_count": 196,
   "id": "30855841",
   "metadata": {},
   "outputs": [],
   "source": [
    "import pickle\n",
    "file_name = \"./dw_out/xgb_cibil_classifier.pkl\"\n",
    "\n",
    "# save\n",
    "pickle.dump(xgb_classifier, open(file_name, \"wb\"))\n"
   ]
  },
  {
   "cell_type": "code",
   "execution_count": 205,
   "id": "b2b383e0",
   "metadata": {},
   "outputs": [],
   "source": [
    "# "
   ]
  },
  {
   "cell_type": "code",
   "execution_count": 210,
   "id": "ba83f515",
   "metadata": {},
   "outputs": [
    {
     "data": {
      "text/plain": [
       "<Figure size 2880x1440 with 0 Axes>"
      ]
     },
     "metadata": {},
     "output_type": "display_data"
    },
    {
     "data": {
      "image/png": "[encoded data removed]",
      "text/plain": [
       "<Figure size 432x288 with 1 Axes>"
      ]
     },
     "metadata": {
      "needs_background": "light"
     },
     "output_type": "display_data"
    }
   ],
   "source": [
    "from xgboost import plot_importance\n",
    "from matplotlib import pyplot\n",
    "plt.figure(figsize=(40,20))\n",
    "\n",
    "plot_importance(xgb_classifier)\n",
    "plt.rcParams[\"figure.figsize\"] = (30,100)\n",
    "plt.show()\n"
   ]
  },
  {
   "cell_type": "code",
   "execution_count": null,
   "id": "3764265e",
   "metadata": {},
   "outputs": [],
   "source": []
  }
 ],
 "metadata": {
  "kernelspec": {
   "display_name": "Python [conda env:faiss] *",
   "language": "python",
   "name": "conda-env-faiss-py"
  },
  "language_info": {
   "codemirror_mode": {
    "name": "ipython",
    "version": 3
   },
   "file_extension": ".py",
   "mimetype": "text/x-python",
   "name": "python",
   "nbconvert_exporter": "python",
   "pygments_lexer": "ipython3",
   "version": "3.8.12"
  }
 },
 "nbformat": 4,
 "nbformat_minor": 5
}
