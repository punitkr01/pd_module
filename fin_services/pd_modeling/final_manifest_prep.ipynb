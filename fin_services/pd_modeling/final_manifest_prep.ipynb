{
 "cells": [
  {
   "cell_type": "code",
   "execution_count": 2,
   "id": "324fcf6d",
   "metadata": {},
   "outputs": [],
   "source": [
    "import pandas as pd\n",
    "import numpy as np\n",
    "import dateutil.tz\n",
    "import datetime as dt\n",
    "import json\n",
    "\n",
    "from io import StringIO\n",
    "import urllib3\n",
    "import logging\n",
    "import sys\n",
    "from json import dumps\n",
    "import time\n",
    "import glob\n",
    "def get_ymd(datetime):\n",
    "    year = datetime.year\n",
    "    month = datetime.month\n",
    "    day = datetime.day\n",
    "            \n",
    "    if month < 10:\n",
    "        month = '0' + str(month)\n",
    "    if day < 10:\n",
    "        day = '0' + str(day)\n",
    "    return year, month, day\n",
    "\n",
    "def first_day_next_month(date):\n",
    "    return (date.replace(day=1) + dt.timedelta(days=32)).replace(day=1)\n",
    "\n",
    "def last_second_of_month(date: str) -> str:\n",
    "    return str((pd.event_timestamp(date) + pd.offsets.MonthEnd(0)).date()) + \" 23:59:59\"\n",
    "\n",
    "def first_second_of_month(date: str) -> str:\n",
    "    return str((pd.event_timestamp(date) + pd.offsets.MonthBegin(0)).date()) + \" 00:00:00\"\n",
    "\n",
    "streamer = StringIO()\n",
    "\n",
    "def setup_logging():\n",
    "    logger = logging.getLogger()\n",
    "    for h in logger.handlers:\n",
    "        logger.removeHandler(h)\n",
    "     \n",
    "    h = logging.StreamHandler(stream = streamer)\n",
    "    h.setFormatter(logging.Formatter(\"%(asctime)s %(levelname)s: %(message)s\",\n",
    "                              \"%Y-%m-%d %H:%M:%S\"))\n",
    "    logger.addHandler(h)\n",
    "    logger.setLevel(logging.INFO)\n",
    "    return logger\n",
    "\n",
    "def query_log(query_id, table, logger):\n",
    "    status = wr.athena.get_query_execution(query_id)['Status']['State']\n",
    "    if wr.athena.get_query_execution(query_id)['Status']['State'] in ['FAILED', 'CANCELLED']:\n",
    "        logger.critical(table + ': query is in ' + status + ' State. ' + 'QueryID: ' + query_id)\n",
    "    else:\n",
    "        logger.info(table + ': query is in ' + status + ' State. ' + 'QueryID: ' + query_id)\n",
    "    return None\n"
   ]
  },
  {
   "cell_type": "code",
   "execution_count": 6,
   "id": "799b6715",
   "metadata": {},
   "outputs": [],
   "source": [
    "all_files = glob.glob('../cibil_data/parsed_data_v2/parsed_data/*.csv')"
   ]
  },
  {
   "cell_type": "code",
   "execution_count": 11,
   "id": "d48e19a4",
   "metadata": {},
   "outputs": [],
   "source": [
    "df_val = []\n",
    "for file in all_files:\n",
    "    df_val.append(pd.read_csv(file))"
   ]
  },
  {
   "cell_type": "code",
   "execution_count": 12,
   "id": "740ccae6",
   "metadata": {},
   "outputs": [],
   "source": [
    "df_val = pd.concat(df_val)"
   ]
  },
  {
   "cell_type": "code",
   "execution_count": 13,
   "id": "57994fbc",
   "metadata": {},
   "outputs": [],
   "source": [
    "df_val = df_val[df_val['output'].notna()]"
   ]
  },
  {
   "cell_type": "code",
   "execution_count": 14,
   "id": "5bc2d350",
   "metadata": {},
   "outputs": [],
   "source": [
    "def get_cibil_score(cibil_info):\n",
    "    t=0\n",
    "    for item in eval(cibil_info):\n",
    "        if item.isnumeric():\n",
    "            t=int(item)\n",
    "            return int(item)\n",
    "    if t==0:\n",
    "        print(cibil_info)\n",
    "    return -1"
   ]
  },
  {
   "cell_type": "code",
   "execution_count": 15,
   "id": "069f59f6",
   "metadata": {},
   "outputs": [
    {
     "name": "stdout",
     "output_type": "stream",
     "text": [
      "['CIBILTUSC3', '-1']\n"
     ]
    }
   ],
   "source": [
    "df_val['cibil_score'] = df_val['cibil_info_with_factors'].apply(lambda x:get_cibil_score(x))"
   ]
  },
  {
   "cell_type": "code",
   "execution_count": 16,
   "id": "576b4e81",
   "metadata": {},
   "outputs": [],
   "source": [
    "df_val = df_val[df_val['cibil_score'].notna()]"
   ]
  },
  {
   "cell_type": "code",
   "execution_count": 27,
   "id": "58f37f80",
   "metadata": {},
   "outputs": [],
   "source": [
    "def map_bb_files_with_val(df_bb,df_val):\n",
    "    \n",
    "    dfs=[]\n",
    "    for i,r in df_val.iterrows():\n",
    "        name=phone=cibil_score=output=is_ok=''\n",
    "        name=r['name']\n",
    "        uid = eval(r['user_identifier'])\n",
    "        pan_id = ''\n",
    "        if 'PAN' in uid:\n",
    "            pan_id=uid['PAN']\n",
    "        phone_nos = eval(r['phone_no'])\n",
    "        \n",
    "        if pan_id !='':\n",
    "            is_ok_l = df_bb[df_bb['Borrower PAN']==pan_id]['TS 3: BB Sanctioned'].tolist()\n",
    "            if len(is_ok_l)>0:\n",
    "                print(is_ok_l)\n",
    "                is_ok=is_ok_l[0]\n",
    "                \n",
    "        elif len(phone_nos)>0:\n",
    "#             print(phone_nos)\n",
    "            for ph_no in phone_nos:\n",
    "                t=df_bb[df_bb['Applicant Mob #']==ph_no]['TS 3: BB Sanctioned'].tolist()\n",
    "                if len(t)>0:\n",
    "                    is_ok=t[0]\n",
    "                    break\n",
    "        else:\n",
    "            pass\n",
    "                \n",
    "\n",
    "        temp_df = pd.DataFrame({'name':[name],'cibil_score':[r['cibil_score']],'output':[r['output']], 'is_ok_bb':[is_ok]}\n",
    "                              )\n",
    "        dfs.append(temp_df)\n",
    "    return pd.concat(dfs)\n",
    "        \n",
    "        \n",
    "        \n",
    "    "
   ]
  },
  {
   "cell_type": "code",
   "execution_count": 19,
   "id": "708f7aae",
   "metadata": {},
   "outputs": [],
   "source": [
    "# v1 = map_bb_files_with_val(df_bb,df_val)"
   ]
  },
  {
   "cell_type": "code",
   "execution_count": 3,
   "id": "ea1d25a2",
   "metadata": {},
   "outputs": [],
   "source": [
    "df_bb = pd.read_csv('../cibil_data/bb_val_sample/FS OwnBook - Loan Status Tracker Nov\\'22 (Confidential) - 3.Cibil Check Master.csv')"
   ]
  },
  {
   "cell_type": "code",
   "execution_count": 4,
   "id": "94b2612b",
   "metadata": {},
   "outputs": [],
   "source": [
    "df_bb.columns = df_bb.iloc[0]"
   ]
  },
  {
   "cell_type": "code",
   "execution_count": 5,
   "id": "da971ef3",
   "metadata": {},
   "outputs": [],
   "source": [
    "df_bb['Borrower Name'] = df_bb['Borrower Name'].apply(lambda x:x.strip() if type(x)=='str' else x)"
   ]
  },
  {
   "cell_type": "code",
   "execution_count": 20,
   "id": "da12866f",
   "metadata": {},
   "outputs": [],
   "source": [
    "df_bb1 = pd.read_csv('../cibil_data/bb_val_sample/FS OwnBook - Loan Status Tracker Nov\\'22 (Confidential) - 5.Files Master.csv')"
   ]
  },
  {
   "cell_type": "code",
   "execution_count": 21,
   "id": "ee83fd4c",
   "metadata": {},
   "outputs": [],
   "source": [
    "df_bb1 = df_bb1[['Back to Index','Unnamed: 1','Unnamed: 2','Unnamed: 27']].dropna()"
   ]
  },
  {
   "cell_type": "code",
   "execution_count": 22,
   "id": "d6218d3d",
   "metadata": {},
   "outputs": [],
   "source": [
    "df_bb1.columns = df_bb1.iloc[0]"
   ]
  },
  {
   "cell_type": "code",
   "execution_count": 23,
   "id": "47dd6ef9",
   "metadata": {},
   "outputs": [],
   "source": [
    "df_bb1 = df_bb1[1:]"
   ]
  },
  {
   "cell_type": "code",
   "execution_count": 24,
   "id": "294dec01",
   "metadata": {},
   "outputs": [],
   "source": [
    "df_merge = df_bb.merge(df_bb1,left_on='Applicant Mob #',right_on='Applicant Mobile Number')"
   ]
  },
  {
   "cell_type": "code",
   "execution_count": 29,
   "id": "c059587a",
   "metadata": {},
   "outputs": [],
   "source": [
    "df_map = pd.read_csv('../cibil_data/mapped_truck_data.csv')"
   ]
  },
  {
   "cell_type": "code",
   "execution_count": 31,
   "id": "1c675c0b",
   "metadata": {},
   "outputs": [],
   "source": [
    "test_list = glob.glob('/home/ubuntu/fin_services/cibil_data/parsed_data/*.csv')"
   ]
  },
  {
   "cell_type": "code",
   "execution_count": 34,
   "id": "95a0ba92",
   "metadata": {},
   "outputs": [],
   "source": [
    "gps_trucks = pd.read_csv('../trucks_idle_profiling/gps_idle_ratio.csv')['truck_number'].tolist()"
   ]
  },
  {
   "cell_type": "code",
   "execution_count": 73,
   "id": "9c1bd424",
   "metadata": {},
   "outputs": [],
   "source": [
    "ldf=[]\n",
    "for item in test_list:\n",
    "    \n",
    "    df_temp = pd.read_csv(item)\n",
    "    pdf_link = item.replace('parsed_data','test/cibil_pdf').replace('.csv','.PDF')\n",
    "    phone_nos = eval(df_temp['phone_no'][0])\n",
    "    uid = eval(df_temp['user_identifier'][0])\n",
    "    pan_id = ''\n",
    "    if 'PAN' in uid:\n",
    "        pan_id=uid['PAN']\n",
    "    truck_no = ''\n",
    "    is_verified=False\n",
    "    if (len(phone_nos))>0:\n",
    "        for mob_no in phone_nos:\n",
    "            tk_list=df_merge[df_merge['Applicant Mob #']==mob_no]['Truck Number'].tolist()\n",
    "            if len(tk_list)>0:\n",
    "                truck_no=tk_list[0]\n",
    "                t = df_merge[df_merge['Applicant Mob #']==mob_no]['TS 3: BB Sanctioned'].tolist()\n",
    "                if len(t)>0:\n",
    "                    is_verified=True\n",
    "    fo_id=''\n",
    "    \n",
    "    if truck_no !='':\n",
    "        fo_id = df_map[df_map['truck_number']==truck_no]['fleet_owner_id'].tolist()\n",
    "        if len(fo_id)>0:\n",
    "            fo_id=fo_id[0]\n",
    "        else:\n",
    "            fo_id=''\n",
    "    else:\n",
    "        for mob_no in phone_nos:\n",
    "            mapped_tk_list = df_map[df_map['mobile_no']==mob_no]['truck_number'].tolist()\n",
    "            if len(mapped_tk_list)>0:\n",
    "                truck_no=mapped_tk_list[0]\n",
    "    is_gps = False\n",
    "    if truck_no in  gps_trucks:\n",
    "        is_gps=True\n",
    "            \n",
    "    \n",
    "    \n",
    "    ldf.append(pd.DataFrame({'truck_number':[truck_no],'mobile_no':[phone_nos],'pdf_link':[pdf_link],'pan_id':[pan_id],'fo_id':[fo_id],'is_approved':[is_verified],'is_train':[False],'is_gps':[is_gps]}))\n",
    "        \n",
    "    "
   ]
  },
  {
   "cell_type": "code",
   "execution_count": 74,
   "id": "b41599ea",
   "metadata": {},
   "outputs": [],
   "source": [
    "test_df = pd.concat(ldf)"
   ]
  },
  {
   "cell_type": "code",
   "execution_count": 75,
   "id": "c9d49ada",
   "metadata": {},
   "outputs": [],
   "source": [
    "train_link =  glob.glob('/home/ubuntu/fin_services/cibil_data/train/cibil_out/*.csv') +  glob.glob('/home/ubuntu/fin_services/cibil_data/train/new_cibil_out/*.csv')\n"
   ]
  },
  {
   "cell_type": "code",
   "execution_count": 90,
   "id": "2cc49864",
   "metadata": {},
   "outputs": [
    {
     "data": {
      "text/html": [
       "<div>\n",
       "<style scoped>\n",
       "    .dataframe tbody tr th:only-of-type {\n",
       "        vertical-align: middle;\n",
       "    }\n",
       "\n",
       "    .dataframe tbody tr th {\n",
       "        vertical-align: top;\n",
       "    }\n",
       "\n",
       "    .dataframe thead th {\n",
       "        text-align: right;\n",
       "    }\n",
       "</style>\n",
       "<table border=\"1\" class=\"dataframe\">\n",
       "  <thead>\n",
       "    <tr style=\"text-align: right;\">\n",
       "      <th></th>\n",
       "      <th>name</th>\n",
       "      <th>gender</th>\n",
       "      <th>cibil_info_with_factors</th>\n",
       "      <th>cibil_name</th>\n",
       "      <th>user_identifier</th>\n",
       "      <th>dob</th>\n",
       "      <th>address</th>\n",
       "      <th>phone_no</th>\n",
       "      <th>email</th>\n",
       "      <th>acc_summary</th>\n",
       "      <th>account_info</th>\n",
       "      <th>enquiry</th>\n",
       "      <th>account_info_new</th>\n",
       "    </tr>\n",
       "  </thead>\n",
       "  <tbody>\n",
       "    <tr>\n",
       "      <th>0</th>\n",
       "      <td>SK SHAKEEL</td>\n",
       "      <td>MALE</td>\n",
       "      <td>['CIBILTUSC3', '-1']</td>\n",
       "      <td>CIBILTUSC3</td>\n",
       "      <td>{'PAN': 'HWDPS6622A', 'UNIVERSAL ID': '9283493...</td>\n",
       "      <td>01/12/1998</td>\n",
       "      <td>[{'address': ' 10 56 2 GOLLA BASTI MEDCHAL MED...</td>\n",
       "      <td>['7989314960']</td>\n",
       "      <td>[]</td>\n",
       "      <td>{'total': ' 0', 'overdue': ' 0', 'zero_balance...</td>\n",
       "      <td>[]</td>\n",
       "      <td>[{'member': 'NOT DISCLOSED', 'enquiry_date': '...</td>\n",
       "      <td>[]</td>\n",
       "    </tr>\n",
       "  </tbody>\n",
       "</table>\n",
       "</div>"
      ],
      "text/plain": [
       "          name gender cibil_info_with_factors  cibil_name  \\\n",
       "0   SK SHAKEEL   MALE    ['CIBILTUSC3', '-1']  CIBILTUSC3   \n",
       "\n",
       "                                     user_identifier          dob  \\\n",
       "0  {'PAN': 'HWDPS6622A', 'UNIVERSAL ID': '9283493...   01/12/1998   \n",
       "\n",
       "                                             address        phone_no email  \\\n",
       "0  [{'address': ' 10 56 2 GOLLA BASTI MEDCHAL MED...  ['7989314960']    []   \n",
       "\n",
       "                                         acc_summary account_info  \\\n",
       "0  {'total': ' 0', 'overdue': ' 0', 'zero_balance...           []   \n",
       "\n",
       "                                             enquiry account_info_new  \n",
       "0  [{'member': 'NOT DISCLOSED', 'enquiry_date': '...               []  "
      ]
     },
     "execution_count": 90,
     "metadata": {},
     "output_type": "execute_result"
    }
   ],
   "source": [
    "pd.read_csv('../cibil_data/train/cibil_out/SHAIK SHAKEEL CIBIL_Report - Shaik Wassi.csv')"
   ]
  },
  {
   "cell_type": "code",
   "execution_count": 88,
   "id": "e12be83c",
   "metadata": {},
   "outputs": [],
   "source": [
    "ldf=[]\n",
    "for item in train_link:\n",
    "    \n",
    "    df_temp = pd.read_csv(item)\n",
    "    pdf_link=''\n",
    "    if 'cibil_out' in item.split('/'):\n",
    "        pdf_link = item.replace('train/cibil_out','train/cibil_pdf').replace('.csv','.PDF')\n",
    "    elif 'new_cibil_out' in item.split('/'):\n",
    "        pdf_link = item.replace('new_cibil_out','new_cibil_pdf').replace('.csv','.PDF')\n",
    "    else:\n",
    "        print(item)\n",
    "\n",
    "        \n",
    "    phone_nos = eval(df_temp['phone_no'][0])\n",
    "    uid = eval(df_temp['user_identifier'][0])\n",
    "    pan_id = ''\n",
    "    if 'PAN' in uid:\n",
    "        pan_id=uid['PAN']\n",
    "    truck_no = ''\n",
    "    is_verified=False\n",
    "    if (len(phone_nos))>0:\n",
    "        for mob_no in phone_nos:\n",
    "            tk_list=df_merge[df_merge['Applicant Mob #']==mob_no]['Truck Number'].tolist()\n",
    "            if len(tk_list)>0:\n",
    "                truck_no=tk_list[0]\n",
    "                t = df_merge[df_merge['Applicant Mob #']==mob_no]['TS 3: BB Sanctioned'].tolist()\n",
    "                if len(t)>0:\n",
    "                    is_verified=True\n",
    "                \n",
    "    fo_id=''\n",
    "    \n",
    "    if truck_no !='':\n",
    "        fo_id = df_map[df_map['truck_number']==truck_no]['fleet_owner_id'].tolist()\n",
    "        if len(fo_id)>0:\n",
    "            fo_id=fo_id[0]\n",
    "        else:\n",
    "            fo_id=''\n",
    "    else:\n",
    "        for mob_no in phone_nos:\n",
    "            mapped_tk_list = df_map[df_map['mobile_no']==mob_no]['truck_number'].tolist()\n",
    "            if len(mapped_tk_list)>0:\n",
    "                truck_no=mapped_tk_list[0]\n",
    "    is_gps = False\n",
    "    if truck_no in  gps_trucks or truck_no in ['AP09TB3411','AP29TB8644']:\n",
    "        is_gps=True\n",
    "            \n",
    "    \n",
    "    \n",
    "    ldf.append(pd.DataFrame({'truck_number':[truck_no],'mobile_no':[phone_nos],'pdf_link':[pdf_link],'pan_id':[pan_id],'fo_id':[fo_id],'is_approved':[is_verified],'is_train':[True],'is_gps':[is_gps]}))\n",
    "        \n",
    "    "
   ]
  },
  {
   "cell_type": "code",
   "execution_count": 89,
   "id": "71985319",
   "metadata": {},
   "outputs": [],
   "source": [
    "train_df = pd.concat(ldf)"
   ]
  },
  {
   "cell_type": "code",
   "execution_count": 78,
   "id": "b701c073",
   "metadata": {},
   "outputs": [],
   "source": [
    "df_all = pd.concat([test_df,train_df])"
   ]
  },
  {
   "cell_type": "code",
   "execution_count": 79,
   "id": "9607ddf9",
   "metadata": {},
   "outputs": [],
   "source": [
    "df_all.reset_index(inplace=True)"
   ]
  },
  {
   "cell_type": "code",
   "execution_count": 80,
   "id": "55a49620",
   "metadata": {},
   "outputs": [],
   "source": [
    "df_all.drop(['index'],axis=1,inplace=True)"
   ]
  },
  {
   "cell_type": "code",
   "execution_count": 81,
   "id": "9559d205",
   "metadata": {},
   "outputs": [],
   "source": [
    "df_all.to_csv('../cibil_data/cibil_bb_info_pdf_link.csv',index=False)"
   ]
  },
  {
   "cell_type": "code",
   "execution_count": 82,
   "id": "bff594a2",
   "metadata": {},
   "outputs": [
    {
     "name": "stdout",
     "output_type": "stream",
     "text": [
      "'/home/ubuntu/fin_services/cibil_data/test/cibil_pdf/NAVNATH HANUMANT PHADKE CIBIL_Report - Shaik Wassi.PDF'\r\n"
     ]
    }
   ],
   "source": [
    "!ls '/home/ubuntu/fin_services/cibil_data/test/cibil_pdf/NAVNATH HANUMANT PHADKE CIBIL_Report - Shaik Wassi.PDF'"
   ]
  },
  {
   "cell_type": "code",
   "execution_count": 83,
   "id": "7caf40fb",
   "metadata": {},
   "outputs": [],
   "source": [
    "# !head '/home/ubuntu/fin_services/cibil_data/cibil_bb_info_pdf_link.csv'"
   ]
  },
  {
   "cell_type": "code",
   "execution_count": 84,
   "id": "89d853f8",
   "metadata": {},
   "outputs": [
    {
     "data": {
      "text/html": [
       "<div>\n",
       "<style scoped>\n",
       "    .dataframe tbody tr th:only-of-type {\n",
       "        vertical-align: middle;\n",
       "    }\n",
       "\n",
       "    .dataframe tbody tr th {\n",
       "        vertical-align: top;\n",
       "    }\n",
       "\n",
       "    .dataframe thead th {\n",
       "        text-align: right;\n",
       "    }\n",
       "</style>\n",
       "<table border=\"1\" class=\"dataframe\">\n",
       "  <thead>\n",
       "    <tr style=\"text-align: right;\">\n",
       "      <th></th>\n",
       "      <th>truck_number</th>\n",
       "      <th>mobile_no</th>\n",
       "      <th>pdf_link</th>\n",
       "      <th>pan_id</th>\n",
       "      <th>fo_id</th>\n",
       "      <th>is_approved</th>\n",
       "      <th>is_train</th>\n",
       "      <th>is_gps</th>\n",
       "    </tr>\n",
       "  </thead>\n",
       "  <tbody>\n",
       "    <tr>\n",
       "      <th>717</th>\n",
       "      <td>AP09TB3411</td>\n",
       "      <td>[9010107400]</td>\n",
       "      <td>/home/ubuntu/fin_services/cibil_data/train/new...</td>\n",
       "      <td></td>\n",
       "      <td></td>\n",
       "      <td>True</td>\n",
       "      <td>True</td>\n",
       "      <td>True</td>\n",
       "    </tr>\n",
       "    <tr>\n",
       "      <th>1056</th>\n",
       "      <td>AP09TB3411</td>\n",
       "      <td>[9010107400, 9010107400, 7702104150, 7702104150]</td>\n",
       "      <td>/home/ubuntu/fin_services/cibil_data/train/new...</td>\n",
       "      <td>AQLPD4585A</td>\n",
       "      <td></td>\n",
       "      <td>True</td>\n",
       "      <td>True</td>\n",
       "      <td>True</td>\n",
       "    </tr>\n",
       "  </tbody>\n",
       "</table>\n",
       "</div>"
      ],
      "text/plain": [
       "     truck_number                                         mobile_no  \\\n",
       "717    AP09TB3411                                      [9010107400]   \n",
       "1056   AP09TB3411  [9010107400, 9010107400, 7702104150, 7702104150]   \n",
       "\n",
       "                                               pdf_link      pan_id fo_id  \\\n",
       "717   /home/ubuntu/fin_services/cibil_data/train/new...                     \n",
       "1056  /home/ubuntu/fin_services/cibil_data/train/new...  AQLPD4585A         \n",
       "\n",
       "      is_approved  is_train  is_gps  \n",
       "717          True      True    True  \n",
       "1056         True      True    True  "
      ]
     },
     "execution_count": 84,
     "metadata": {},
     "output_type": "execute_result"
    }
   ],
   "source": [
    "df_all[df_all['is_gps']]"
   ]
  },
  {
   "cell_type": "code",
   "execution_count": 85,
   "id": "28933670",
   "metadata": {},
   "outputs": [
    {
     "data": {
      "text/plain": [
       "['/home/ubuntu/fin_services/cibil_data/train/new_cibil_pdf/DONTHI DURGABAI - Kala Venkatarambabu.PDF',\n",
       " '/home/ubuntu/fin_services/cibil_data/train/new_cibil_pdf/D MADHU SUDHAN REDDY - Kala Venkatarambabu.PDF']"
      ]
     },
     "execution_count": 85,
     "metadata": {},
     "output_type": "execute_result"
    }
   ],
   "source": [
    "df_all[df_all['is_gps']]['pdf_link'].tolist()"
   ]
  },
  {
   "cell_type": "code",
   "execution_count": 86,
   "id": "9ae4d699",
   "metadata": {},
   "outputs": [],
   "source": [
    "# train_df[train_df['truck_number']=='AP29TB8644']"
   ]
  },
  {
   "cell_type": "code",
   "execution_count": 92,
   "id": "6bf3f0c8",
   "metadata": {},
   "outputs": [
    {
     "data": {
      "text/html": [
       "<div>\n",
       "<style scoped>\n",
       "    .dataframe tbody tr th:only-of-type {\n",
       "        vertical-align: middle;\n",
       "    }\n",
       "\n",
       "    .dataframe tbody tr th {\n",
       "        vertical-align: top;\n",
       "    }\n",
       "\n",
       "    .dataframe thead th {\n",
       "        text-align: right;\n",
       "    }\n",
       "</style>\n",
       "<table border=\"1\" class=\"dataframe\">\n",
       "  <thead>\n",
       "    <tr style=\"text-align: right;\">\n",
       "      <th></th>\n",
       "      <th>truck_number</th>\n",
       "      <th>mobile_no</th>\n",
       "      <th>pdf_link</th>\n",
       "      <th>pan_id</th>\n",
       "      <th>fo_id</th>\n",
       "      <th>is_approved</th>\n",
       "      <th>is_train</th>\n",
       "      <th>is_gps</th>\n",
       "    </tr>\n",
       "  </thead>\n",
       "  <tbody>\n",
       "  </tbody>\n",
       "</table>\n",
       "</div>"
      ],
      "text/plain": [
       "Empty DataFrame\n",
       "Columns: [truck_number, mobile_no, pdf_link, pan_id, fo_id, is_approved, is_train, is_gps]\n",
       "Index: []"
      ]
     },
     "execution_count": 92,
     "metadata": {},
     "output_type": "execute_result"
    }
   ],
   "source": [
    " df_all[df_all['truck_number']=='AP29TB8644']"
   ]
  },
  {
   "cell_type": "code",
   "execution_count": null,
   "id": "b7db4135",
   "metadata": {},
   "outputs": [],
   "source": []
  }
 ],
 "metadata": {
  "kernelspec": {
   "display_name": "Python [conda env:faiss] *",
   "language": "python",
   "name": "conda-env-faiss-py"
  },
  "language_info": {
   "codemirror_mode": {
    "name": "ipython",
    "version": 3
   },
   "file_extension": ".py",
   "mimetype": "text/x-python",
   "name": "python",
   "nbconvert_exporter": "python",
   "pygments_lexer": "ipython3",
   "version": "3.8.12"
  }
 },
 "nbformat": 4,
 "nbformat_minor": 5
}
