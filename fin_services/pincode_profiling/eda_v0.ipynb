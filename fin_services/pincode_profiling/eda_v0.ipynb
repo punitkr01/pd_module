{
 "cells": [
  {
   "cell_type": "code",
   "execution_count": 1,
   "id": "f65f8a4b",
   "metadata": {},
   "outputs": [],
   "source": [
    "import pandas as pd"
   ]
  },
  {
   "cell_type": "code",
   "execution_count": 2,
   "id": "e8de3412",
   "metadata": {},
   "outputs": [
    {
     "data": {
      "text/plain": [
       "(6979200, 15)"
      ]
     },
     "execution_count": 2,
     "metadata": {},
     "output_type": "execute_result"
    }
   ],
   "source": [
    "dfData = pd.read_csv('BLACKBUCK_Trade_Sizing_Mar22.csv')\n",
    "dfData.shape"
   ]
  },
  {
   "cell_type": "code",
   "execution_count": 3,
   "id": "5787e2b1",
   "metadata": {},
   "outputs": [
    {
     "data": {
      "text/html": [
       "<div>\n",
       "<style scoped>\n",
       "    .dataframe tbody tr th:only-of-type {\n",
       "        vertical-align: middle;\n",
       "    }\n",
       "\n",
       "    .dataframe tbody tr th {\n",
       "        vertical-align: top;\n",
       "    }\n",
       "\n",
       "    .dataframe thead th {\n",
       "        text-align: right;\n",
       "    }\n",
       "</style>\n",
       "<table border=\"1\" class=\"dataframe\">\n",
       "  <thead>\n",
       "    <tr style=\"text-align: right;\">\n",
       "      <th></th>\n",
       "      <th>pincode</th>\n",
       "      <th>state</th>\n",
       "      <th>district</th>\n",
       "      <th>tier</th>\n",
       "      <th>opened</th>\n",
       "      <th>score_band</th>\n",
       "      <th>ticket_size</th>\n",
       "      <th>product</th>\n",
       "      <th>member_group</th>\n",
       "      <th>live_closed</th>\n",
       "      <th>dpd_status</th>\n",
       "      <th>flag_derog</th>\n",
       "      <th>trades</th>\n",
       "      <th>sanctioned_amount</th>\n",
       "      <th>current_balance</th>\n",
       "    </tr>\n",
       "  </thead>\n",
       "  <tbody>\n",
       "    <tr>\n",
       "      <th>0</th>\n",
       "      <td>NaN</td>\n",
       "      <td>NaN</td>\n",
       "      <td>NaN</td>\n",
       "      <td>NaN</td>\n",
       "      <td>BEFORE 2017</td>\n",
       "      <td>771-790</td>\n",
       "      <td>12L-15L</td>\n",
       "      <td>COMMERCIAL VEHICLE LOANS</td>\n",
       "      <td>NBFC</td>\n",
       "      <td>CLOSED</td>\n",
       "      <td>CLOSED</td>\n",
       "      <td>DEROG</td>\n",
       "      <td>2</td>\n",
       "      <td>2664907</td>\n",
       "      <td>606727</td>\n",
       "    </tr>\n",
       "    <tr>\n",
       "      <th>1</th>\n",
       "      <td>NaN</td>\n",
       "      <td>NaN</td>\n",
       "      <td>NaN</td>\n",
       "      <td>NaN</td>\n",
       "      <td>BEFORE 2017</td>\n",
       "      <td>731-770</td>\n",
       "      <td>12L-15L</td>\n",
       "      <td>COMMERCIAL VEHICLE LOANS</td>\n",
       "      <td>NBFC</td>\n",
       "      <td>LIVE</td>\n",
       "      <td>0-STD</td>\n",
       "      <td>NON-DEROG</td>\n",
       "      <td>1</td>\n",
       "      <td>1213000</td>\n",
       "      <td>179270</td>\n",
       "    </tr>\n",
       "    <tr>\n",
       "      <th>2</th>\n",
       "      <td>NaN</td>\n",
       "      <td>NaN</td>\n",
       "      <td>NaN</td>\n",
       "      <td>NaN</td>\n",
       "      <td>BEFORE 2017</td>\n",
       "      <td>300-680</td>\n",
       "      <td>12L-15L</td>\n",
       "      <td>COMMERCIAL VEHICLE LOANS</td>\n",
       "      <td>NBFC</td>\n",
       "      <td>LIVE</td>\n",
       "      <td>180-359/LSS</td>\n",
       "      <td>DEROG</td>\n",
       "      <td>3</td>\n",
       "      <td>4090000</td>\n",
       "      <td>2430353</td>\n",
       "    </tr>\n",
       "    <tr>\n",
       "      <th>3</th>\n",
       "      <td>NaN</td>\n",
       "      <td>NaN</td>\n",
       "      <td>NaN</td>\n",
       "      <td>NaN</td>\n",
       "      <td>BEFORE 2017</td>\n",
       "      <td>300-680</td>\n",
       "      <td>12L-15L</td>\n",
       "      <td>COMMERCIAL VEHICLE LOANS</td>\n",
       "      <td>NBFC</td>\n",
       "      <td>LIVE</td>\n",
       "      <td>720-900</td>\n",
       "      <td>DEROG</td>\n",
       "      <td>2</td>\n",
       "      <td>2684590</td>\n",
       "      <td>2047383</td>\n",
       "    </tr>\n",
       "    <tr>\n",
       "      <th>4</th>\n",
       "      <td>NaN</td>\n",
       "      <td>NaN</td>\n",
       "      <td>NaN</td>\n",
       "      <td>NaN</td>\n",
       "      <td>BEFORE 2017</td>\n",
       "      <td>731-770</td>\n",
       "      <td>12L-15L</td>\n",
       "      <td>COMMERCIAL VEHICLE LOANS</td>\n",
       "      <td>OTHERS</td>\n",
       "      <td>CLOSED</td>\n",
       "      <td>CLOSED</td>\n",
       "      <td>NON-DEROG</td>\n",
       "      <td>3</td>\n",
       "      <td>4300000</td>\n",
       "      <td>0</td>\n",
       "    </tr>\n",
       "  </tbody>\n",
       "</table>\n",
       "</div>"
      ],
      "text/plain": [
       "   pincode state district tier       opened score_band ticket_size  \\\n",
       "0      NaN   NaN      NaN  NaN  BEFORE 2017    771-790     12L-15L   \n",
       "1      NaN   NaN      NaN  NaN  BEFORE 2017    731-770     12L-15L   \n",
       "2      NaN   NaN      NaN  NaN  BEFORE 2017    300-680     12L-15L   \n",
       "3      NaN   NaN      NaN  NaN  BEFORE 2017    300-680     12L-15L   \n",
       "4      NaN   NaN      NaN  NaN  BEFORE 2017    731-770     12L-15L   \n",
       "\n",
       "                    product member_group live_closed   dpd_status flag_derog  \\\n",
       "0  COMMERCIAL VEHICLE LOANS         NBFC      CLOSED       CLOSED      DEROG   \n",
       "1  COMMERCIAL VEHICLE LOANS         NBFC        LIVE        0-STD  NON-DEROG   \n",
       "2  COMMERCIAL VEHICLE LOANS         NBFC        LIVE  180-359/LSS      DEROG   \n",
       "3  COMMERCIAL VEHICLE LOANS         NBFC        LIVE      720-900      DEROG   \n",
       "4  COMMERCIAL VEHICLE LOANS       OTHERS      CLOSED       CLOSED  NON-DEROG   \n",
       "\n",
       "   trades  sanctioned_amount  current_balance  \n",
       "0       2            2664907           606727  \n",
       "1       1            1213000           179270  \n",
       "2       3            4090000          2430353  \n",
       "3       2            2684590          2047383  \n",
       "4       3            4300000                0  "
      ]
     },
     "execution_count": 3,
     "metadata": {},
     "output_type": "execute_result"
    }
   ],
   "source": [
    "dfData.head()"
   ]
  },
  {
   "cell_type": "code",
   "execution_count": 4,
   "id": "c8875f68",
   "metadata": {},
   "outputs": [
    {
     "data": {
      "text/plain": [
       "(21516, 37, 641, 6)"
      ]
     },
     "execution_count": 4,
     "metadata": {},
     "output_type": "execute_result"
    }
   ],
   "source": [
    "len(dfData.pincode.unique()),len(dfData.state.unique()),len(dfData.district.unique()),len(dfData.score_band.unique())"
   ]
  },
  {
   "cell_type": "code",
   "execution_count": 5,
   "id": "8fe037f0",
   "metadata": {},
   "outputs": [],
   "source": [
    "dfData = dfData[~dfData['pincode'].isna()]"
   ]
  },
  {
   "cell_type": "code",
   "execution_count": 7,
   "id": "883f7ce5",
   "metadata": {},
   "outputs": [],
   "source": [
    "dfData['product']=dfData['product'].astype(str)\n",
    "dfData['pincode']=dfData['pincode'].astype(str)\n",
    "dfData['state']=dfData['state'].astype(str)\n",
    "dfData['sanctioned_amount']=dfData['sanctioned_amount'].astype(int)\n",
    "dfData['dpd_status']=dfData['dpd_status'].astype(str)\n",
    "dfData['district']=dfData['district'].astype(str)\n",
    "dfData['tier']=dfData['tier'].astype(str)\n",
    "dfData['opened']=dfData['opened'].astype(str)\n",
    "dfData['score_band']=dfData['score_band'].astype(str)\n",
    "dfData['ticket_size']=dfData['ticket_size'].astype(str)\n",
    "dfData['flag_derog']=dfData['flag_derog'].astype(str)\n",
    "dfData['trades']=dfData['trades'].astype(int)\n",
    "\n"
   ]
  },
  {
   "cell_type": "code",
   "execution_count": 9,
   "id": "61f056c2",
   "metadata": {},
   "outputs": [],
   "source": [
    "dfData['member_group']=dfData['member_group'].astype(str)\n"
   ]
  },
  {
   "cell_type": "code",
   "execution_count": 19,
   "id": "47120d10",
   "metadata": {},
   "outputs": [],
   "source": [
    "dfData['dpd_status_bb']='nan' #CLOSED"
   ]
  },
  {
   "cell_type": "code",
   "execution_count": 20,
   "id": "5b266332",
   "metadata": {},
   "outputs": [],
   "source": [
    "dfData.loc[dfData['dpd_status']=='CLOSED','dpd_status_bb']='loan_closed'\n",
    "dfData.loc[dfData['dpd_status']=='0-STD','dpd_status_bb']='performing_well'\n",
    "dfData.loc[dfData['dpd_status']=='720-900','dpd_status_bb']='90+'\n",
    "dfData.loc[dfData['dpd_status']=='150-179/DBT','dpd_status_bb']='90+'\n",
    "dfData.loc[dfData['dpd_status']=='360-719','dpd_status_bb']='90+'\n",
    "dfData.loc[dfData['dpd_status']=='90-149/SUB','dpd_status_bb']='90+'\n",
    "dfData.loc[dfData['dpd_status']=='1-29','dpd_status_bb']='Bucket_1'\n",
    "dfData.loc[dfData['dpd_status']=='180-359/LSS','dpd_status_bb']='90+'\n",
    "dfData.loc[dfData['dpd_status']=='60-89/SMA','dpd_status_bb']='Bucket_3'\n",
    "dfData.loc[dfData['dpd_status']=='30-59','dpd_status_bb']='Bucket_2'\n"
   ]
  },
  {
   "cell_type": "code",
   "execution_count": 26,
   "id": "938d3e9a",
   "metadata": {},
   "outputs": [
    {
     "data": {
      "text/plain": [
       "(6960131, 17)"
      ]
     },
     "execution_count": 26,
     "metadata": {},
     "output_type": "execute_result"
    }
   ],
   "source": [
    "dfData[~(dfData['dpd_status_bb']=='nan')].shape"
   ]
  },
  {
   "cell_type": "code",
   "execution_count": 27,
   "id": "fd8e9e6b",
   "metadata": {},
   "outputs": [
    {
     "name": "stdout",
     "output_type": "stream",
     "text": [
      "(6960150, 17)\n",
      "(6960131, 17)\n"
     ]
    }
   ],
   "source": [
    "print(dfData.shape)\n",
    "dfData = dfData[~(dfData['dpd_status_bb']=='nan')]\n",
    "print(dfData.shape)"
   ]
  },
  {
   "cell_type": "code",
   "execution_count": 28,
   "id": "d2aa9b78",
   "metadata": {},
   "outputs": [
    {
     "data": {
      "text/plain": [
       "array(['loan_closed', 'performing_well', '90+', 'Bucket_1', 'Bucket_3',\n",
       "       'Bucket_2'], dtype=object)"
      ]
     },
     "execution_count": 28,
     "metadata": {},
     "output_type": "execute_result"
    }
   ],
   "source": [
    "dfData['dpd_status_bb'].unique()"
   ]
  },
  {
   "cell_type": "code",
   "execution_count": 29,
   "id": "9f00f3fa",
   "metadata": {},
   "outputs": [
    {
     "data": {
      "text/plain": [
       "array(['CLOSED', '0-STD', '720-900', '150-179/DBT', '360-719',\n",
       "       '90-149/SUB', '1-29', '180-359/LSS', '60-89/SMA', '30-59'],\n",
       "      dtype=object)"
      ]
     },
     "execution_count": 29,
     "metadata": {},
     "output_type": "execute_result"
    }
   ],
   "source": [
    "dfData['dpd_status'].unique()"
   ]
  },
  {
   "cell_type": "code",
   "execution_count": 30,
   "id": "0a940bcf",
   "metadata": {},
   "outputs": [],
   "source": [
    "dfData['dpd_status_bb']=dfData['dpd_status_bb'].astype(str)"
   ]
  },
  {
   "cell_type": "code",
   "execution_count": 31,
   "id": "e138c1fd",
   "metadata": {},
   "outputs": [
    {
     "data": {
      "text/plain": [
       "array(['12L-15L', '15L+', '2L-4L', '4L-5L', '5L-7L', '7L-9L', '9L-12L',\n",
       "       'nan', 'LT ZERO'], dtype=object)"
      ]
     },
     "execution_count": 31,
     "metadata": {},
     "output_type": "execute_result"
    }
   ],
   "source": [
    "dfData['ticket_size'].unique()"
   ]
  },
  {
   "cell_type": "code",
   "execution_count": 12,
   "id": "83d53d4e",
   "metadata": {},
   "outputs": [],
   "source": [
    "dfData['ticket_size_bb']='nan' #CLOSED"
   ]
  },
  {
   "cell_type": "code",
   "execution_count": 32,
   "id": "87461e5a",
   "metadata": {},
   "outputs": [],
   "source": [
    "dfData.loc[dfData['ticket_size']=='LT ZERO','ticket_size_bb']= 'lt_zero'\n",
    "dfData.loc[dfData['ticket_size']=='2L-4L','ticket_size_bb']= 'scv'\n",
    "dfData.loc[dfData['ticket_size']=='4L-5L','ticket_size_bb']= 'pickup'\n",
    "dfData.loc[dfData['ticket_size']=='5L-7L','ticket_size_bb']= 'lcv_1'\n",
    "dfData.loc[dfData['ticket_size']=='7L-9L','ticket_size_bb']= 'lcv_2'\n",
    "dfData.loc[dfData['ticket_size']=='9L-12L','ticket_size_bb']= 'mhcv_1'\n",
    "dfData.loc[dfData['ticket_size']=='12L-15L','ticket_size_bb']= 'mhcv_2'\n",
    "dfData.loc[dfData['ticket_size']=='15L+','ticket_size_bb']= 'mhcv_3'"
   ]
  },
  {
   "cell_type": "code",
   "execution_count": 33,
   "id": "8f32aa25",
   "metadata": {},
   "outputs": [
    {
     "name": "stdout",
     "output_type": "stream",
     "text": [
      "(6960131, 17)\n",
      "(6960131, 17)\n"
     ]
    }
   ],
   "source": [
    "print(dfData.shape)\n",
    "dfData = dfData[~(dfData['ticket_size_bb']=='nan')]\n",
    "print(dfData.shape)"
   ]
  },
  {
   "cell_type": "code",
   "execution_count": 34,
   "id": "71c73b4c",
   "metadata": {},
   "outputs": [
    {
     "data": {
      "text/plain": [
       "(3819, 17)"
      ]
     },
     "execution_count": 34,
     "metadata": {},
     "output_type": "execute_result"
    }
   ],
   "source": [
    "dfData[(dfData['ticket_size_bb']=='lt_zero')].shape"
   ]
  },
  {
   "cell_type": "code",
   "execution_count": 35,
   "id": "07c9bb21",
   "metadata": {},
   "outputs": [
    {
     "data": {
      "text/plain": [
       "array(['300-680', '681-730', '771-790', '791-900', '731-770', 'nan'],\n",
       "      dtype=object)"
      ]
     },
     "execution_count": 35,
     "metadata": {},
     "output_type": "execute_result"
    }
   ],
   "source": [
    "dfData['score_band'].unique()"
   ]
  },
  {
   "cell_type": "code",
   "execution_count": 37,
   "id": "d64497b9",
   "metadata": {},
   "outputs": [],
   "source": [
    "dfData['score_band_bb']='nan' #CLOSED"
   ]
  },
  {
   "cell_type": "code",
   "execution_count": 40,
   "id": "b3fb9156",
   "metadata": {},
   "outputs": [],
   "source": [
    "dfData.loc[dfData['score_band']=='300-680','score_band_bb']= 'low'\n",
    "dfData.loc[dfData['score_band']=='681-730','score_band_bb']= 'band_1'\n",
    "dfData.loc[dfData['score_band']=='731-770','score_band_bb']= 'band_2'\n",
    "dfData.loc[dfData['score_band']=='771-790','score_band_bb']= 'band_3'\n",
    "dfData.loc[dfData['score_band']=='791-900','score_band_bb']= 'band_4'\n"
   ]
  },
  {
   "cell_type": "code",
   "execution_count": null,
   "id": "f4ed4a74",
   "metadata": {},
   "outputs": [],
   "source": [
    "#['band_4','band_3','band_2','band_1','low']"
   ]
  },
  {
   "cell_type": "code",
   "execution_count": 41,
   "id": "cc779df6",
   "metadata": {},
   "outputs": [
    {
     "data": {
      "text/plain": [
       "(86816, 18)"
      ]
     },
     "execution_count": 41,
     "metadata": {},
     "output_type": "execute_result"
    }
   ],
   "source": [
    "dfData[(dfData['score_band_bb']=='nan')].shape"
   ]
  },
  {
   "cell_type": "code",
   "execution_count": 42,
   "id": "8e6c4c37",
   "metadata": {},
   "outputs": [
    {
     "name": "stdout",
     "output_type": "stream",
     "text": [
      "(6960131, 18)\n",
      "(6873315, 18)\n"
     ]
    }
   ],
   "source": [
    "print(dfData.shape)\n",
    "dfData = dfData[~(dfData['score_band_bb']=='nan')]\n",
    "print(dfData.shape)"
   ]
  },
  {
   "cell_type": "code",
   "execution_count": 43,
   "id": "8135b8ad",
   "metadata": {},
   "outputs": [],
   "source": [
    "dfData.to_csv('dfData_bb_trade_sizing_mar_22.csv')"
   ]
  },
  {
   "cell_type": "code",
   "execution_count": 101,
   "id": "c39e6a4c",
   "metadata": {},
   "outputs": [
    {
     "data": {
      "text/plain": [
       "(3002542, 18)"
      ]
     },
     "execution_count": 101,
     "metadata": {},
     "output_type": "execute_result"
    }
   ],
   "source": [
    "dfData[dfData['dpd_status_bb']=='loan_closed'].shape"
   ]
  },
  {
   "cell_type": "code",
   "execution_count": null,
   "id": "0d6edcb2",
   "metadata": {},
   "outputs": [],
   "source": []
  },
  {
   "cell_type": "code",
   "execution_count": 105,
   "id": "c139dd85",
   "metadata": {},
   "outputs": [],
   "source": [
    "temp_1=dfData[dfData['dpd_status_bb']!='loan_closed']"
   ]
  },
  {
   "cell_type": "code",
   "execution_count": 106,
   "id": "02782548",
   "metadata": {},
   "outputs": [
    {
     "data": {
      "text/html": [
       "<div>\n",
       "<style scoped>\n",
       "    .dataframe tbody tr th:only-of-type {\n",
       "        vertical-align: middle;\n",
       "    }\n",
       "\n",
       "    .dataframe tbody tr th {\n",
       "        vertical-align: top;\n",
       "    }\n",
       "\n",
       "    .dataframe thead th {\n",
       "        text-align: right;\n",
       "    }\n",
       "</style>\n",
       "<table border=\"1\" class=\"dataframe\">\n",
       "  <thead>\n",
       "    <tr style=\"text-align: right;\">\n",
       "      <th></th>\n",
       "      <th>pincode</th>\n",
       "      <th>state</th>\n",
       "      <th>district</th>\n",
       "      <th>tier</th>\n",
       "      <th>opened</th>\n",
       "      <th>score_band</th>\n",
       "      <th>ticket_size</th>\n",
       "      <th>product</th>\n",
       "      <th>member_group</th>\n",
       "      <th>live_closed</th>\n",
       "      <th>dpd_status</th>\n",
       "      <th>flag_derog</th>\n",
       "      <th>trades</th>\n",
       "      <th>sanctioned_amount</th>\n",
       "      <th>current_balance</th>\n",
       "      <th>dpd_status_bb</th>\n",
       "      <th>ticket_size_bb</th>\n",
       "      <th>score_band_bb</th>\n",
       "    </tr>\n",
       "  </thead>\n",
       "  <tbody>\n",
       "    <tr>\n",
       "      <th>3785</th>\n",
       "      <td>110001.0</td>\n",
       "      <td>Delhi</td>\n",
       "      <td>Central Delhi</td>\n",
       "      <td>METRO</td>\n",
       "      <td>BEFORE 2017</td>\n",
       "      <td>731-770</td>\n",
       "      <td>2L-4L</td>\n",
       "      <td>COMMERCIAL VEHICLE LOANS</td>\n",
       "      <td>NBFC</td>\n",
       "      <td>LIVE</td>\n",
       "      <td>0-STD</td>\n",
       "      <td>DEROG</td>\n",
       "      <td>1</td>\n",
       "      <td>315000</td>\n",
       "      <td>109515</td>\n",
       "      <td>performing_well</td>\n",
       "      <td>scv</td>\n",
       "      <td>band_2</td>\n",
       "    </tr>\n",
       "    <tr>\n",
       "      <th>3786</th>\n",
       "      <td>110001.0</td>\n",
       "      <td>Delhi</td>\n",
       "      <td>Central Delhi</td>\n",
       "      <td>METRO</td>\n",
       "      <td>BEFORE 2017</td>\n",
       "      <td>681-730</td>\n",
       "      <td>2L-4L</td>\n",
       "      <td>COMMERCIAL VEHICLE LOANS</td>\n",
       "      <td>NBFC</td>\n",
       "      <td>LIVE</td>\n",
       "      <td>720-900</td>\n",
       "      <td>NON-DEROG</td>\n",
       "      <td>1</td>\n",
       "      <td>379000</td>\n",
       "      <td>1096372</td>\n",
       "      <td>90+</td>\n",
       "      <td>scv</td>\n",
       "      <td>band_1</td>\n",
       "    </tr>\n",
       "    <tr>\n",
       "      <th>3789</th>\n",
       "      <td>110001.0</td>\n",
       "      <td>Delhi</td>\n",
       "      <td>Central Delhi</td>\n",
       "      <td>METRO</td>\n",
       "      <td>BEFORE 2017</td>\n",
       "      <td>300-680</td>\n",
       "      <td>2L-4L</td>\n",
       "      <td>COMMERCIAL VEHICLE LOANS</td>\n",
       "      <td>PSU</td>\n",
       "      <td>LIVE</td>\n",
       "      <td>150-179/DBT</td>\n",
       "      <td>NON-DEROG</td>\n",
       "      <td>1</td>\n",
       "      <td>320000</td>\n",
       "      <td>36226</td>\n",
       "      <td>90+</td>\n",
       "      <td>scv</td>\n",
       "      <td>low</td>\n",
       "    </tr>\n",
       "    <tr>\n",
       "      <th>3790</th>\n",
       "      <td>110001.0</td>\n",
       "      <td>Delhi</td>\n",
       "      <td>Central Delhi</td>\n",
       "      <td>METRO</td>\n",
       "      <td>BEFORE 2017</td>\n",
       "      <td>300-680</td>\n",
       "      <td>2L-4L</td>\n",
       "      <td>COMMERCIAL VEHICLE LOANS</td>\n",
       "      <td>PSU</td>\n",
       "      <td>LIVE</td>\n",
       "      <td>720-900</td>\n",
       "      <td>DEROG</td>\n",
       "      <td>1</td>\n",
       "      <td>365000</td>\n",
       "      <td>505396</td>\n",
       "      <td>90+</td>\n",
       "      <td>scv</td>\n",
       "      <td>low</td>\n",
       "    </tr>\n",
       "    <tr>\n",
       "      <th>3792</th>\n",
       "      <td>110001.0</td>\n",
       "      <td>Delhi</td>\n",
       "      <td>Central Delhi</td>\n",
       "      <td>METRO</td>\n",
       "      <td>BEFORE 2017</td>\n",
       "      <td>681-730</td>\n",
       "      <td>2L-4L</td>\n",
       "      <td>COMMERCIAL VEHICLE LOANS</td>\n",
       "      <td>PVT</td>\n",
       "      <td>LIVE</td>\n",
       "      <td>0-STD</td>\n",
       "      <td>NON-DEROG</td>\n",
       "      <td>1</td>\n",
       "      <td>352000</td>\n",
       "      <td>1109</td>\n",
       "      <td>performing_well</td>\n",
       "      <td>scv</td>\n",
       "      <td>band_1</td>\n",
       "    </tr>\n",
       "  </tbody>\n",
       "</table>\n",
       "</div>"
      ],
      "text/plain": [
       "       pincode  state       district   tier       opened score_band  \\\n",
       "3785  110001.0  Delhi  Central Delhi  METRO  BEFORE 2017    731-770   \n",
       "3786  110001.0  Delhi  Central Delhi  METRO  BEFORE 2017    681-730   \n",
       "3789  110001.0  Delhi  Central Delhi  METRO  BEFORE 2017    300-680   \n",
       "3790  110001.0  Delhi  Central Delhi  METRO  BEFORE 2017    300-680   \n",
       "3792  110001.0  Delhi  Central Delhi  METRO  BEFORE 2017    681-730   \n",
       "\n",
       "     ticket_size                   product member_group live_closed  \\\n",
       "3785       2L-4L  COMMERCIAL VEHICLE LOANS         NBFC        LIVE   \n",
       "3786       2L-4L  COMMERCIAL VEHICLE LOANS         NBFC        LIVE   \n",
       "3789       2L-4L  COMMERCIAL VEHICLE LOANS          PSU        LIVE   \n",
       "3790       2L-4L  COMMERCIAL VEHICLE LOANS          PSU        LIVE   \n",
       "3792       2L-4L  COMMERCIAL VEHICLE LOANS          PVT        LIVE   \n",
       "\n",
       "       dpd_status flag_derog  trades  sanctioned_amount  current_balance  \\\n",
       "3785        0-STD      DEROG       1             315000           109515   \n",
       "3786      720-900  NON-DEROG       1             379000          1096372   \n",
       "3789  150-179/DBT  NON-DEROG       1             320000            36226   \n",
       "3790      720-900      DEROG       1             365000           505396   \n",
       "3792        0-STD  NON-DEROG       1             352000             1109   \n",
       "\n",
       "        dpd_status_bb ticket_size_bb score_band_bb  \n",
       "3785  performing_well            scv        band_2  \n",
       "3786              90+            scv        band_1  \n",
       "3789              90+            scv           low  \n",
       "3790              90+            scv           low  \n",
       "3792  performing_well            scv        band_1  "
      ]
     },
     "execution_count": 106,
     "metadata": {},
     "output_type": "execute_result"
    }
   ],
   "source": [
    "temp_1.head()"
   ]
  },
  {
   "cell_type": "code",
   "execution_count": 108,
   "id": "500260fe",
   "metadata": {},
   "outputs": [],
   "source": [
    "temp_1.to_csv('dfData_bb_trade_sizing_mar_22_live.csv')"
   ]
  },
  {
   "cell_type": "code",
   "execution_count": 107,
   "id": "bc56cdf1",
   "metadata": {},
   "outputs": [
    {
     "data": {
      "text/plain": [
       "5232302"
      ]
     },
     "execution_count": 107,
     "metadata": {},
     "output_type": "execute_result"
    }
   ],
   "source": [
    "temp_1['trades'].sum()"
   ]
  },
  {
   "cell_type": "code",
   "execution_count": null,
   "id": "8432d460",
   "metadata": {},
   "outputs": [],
   "source": []
  },
  {
   "cell_type": "code",
   "execution_count": null,
   "id": "56e7d5c0",
   "metadata": {},
   "outputs": [],
   "source": []
  },
  {
   "cell_type": "code",
   "execution_count": 44,
   "id": "f3b1149f",
   "metadata": {},
   "outputs": [],
   "source": [
    "temp=dfData[['pincode','opened','trades','live_closed','sanctioned_amount','current_balance','dpd_status_bb']]\n"
   ]
  },
  {
   "cell_type": "code",
   "execution_count": null,
   "id": "58efa64a",
   "metadata": {},
   "outputs": [],
   "source": []
  },
  {
   "cell_type": "code",
   "execution_count": 45,
   "id": "364c6b26",
   "metadata": {},
   "outputs": [],
   "source": [
    "temp=temp[temp['trades']>0]\n",
    "temp=temp.sort_values(['trades'],ascending=False)\n",
    "temp['sanctioned_amount_mean']=temp['sanctioned_amount']/temp['trades']\n"
   ]
  },
  {
   "cell_type": "code",
   "execution_count": 51,
   "id": "512b34db",
   "metadata": {},
   "outputs": [],
   "source": [
    "temp_group= temp.groupby(['pincode','dpd_status_bb'],as_index=False).agg({'trades':['count','sum'],'sanctioned_amount_mean':'mean'})\n"
   ]
  },
  {
   "cell_type": "code",
   "execution_count": 52,
   "id": "bc11031c",
   "metadata": {},
   "outputs": [
    {
     "data": {
      "text/html": [
       "<div>\n",
       "<style scoped>\n",
       "    .dataframe tbody tr th:only-of-type {\n",
       "        vertical-align: middle;\n",
       "    }\n",
       "\n",
       "    .dataframe tbody tr th {\n",
       "        vertical-align: top;\n",
       "    }\n",
       "\n",
       "    .dataframe thead th {\n",
       "        text-align: right;\n",
       "    }\n",
       "</style>\n",
       "<table border=\"1\" class=\"dataframe\">\n",
       "  <thead>\n",
       "    <tr style=\"text-align: right;\">\n",
       "      <th></th>\n",
       "      <th>pincode</th>\n",
       "      <th>dpd_status_bb</th>\n",
       "      <th>count_trades</th>\n",
       "      <th>num_trades</th>\n",
       "      <th>mean_sanctioned_amount</th>\n",
       "    </tr>\n",
       "  </thead>\n",
       "  <tbody>\n",
       "    <tr>\n",
       "      <th>0</th>\n",
       "      <td>110001.0</td>\n",
       "      <td>90+</td>\n",
       "      <td>407</td>\n",
       "      <td>601</td>\n",
       "      <td>8.397447e+05</td>\n",
       "    </tr>\n",
       "    <tr>\n",
       "      <th>1</th>\n",
       "      <td>110001.0</td>\n",
       "      <td>Bucket_1</td>\n",
       "      <td>209</td>\n",
       "      <td>256</td>\n",
       "      <td>9.333190e+05</td>\n",
       "    </tr>\n",
       "    <tr>\n",
       "      <th>2</th>\n",
       "      <td>110001.0</td>\n",
       "      <td>Bucket_2</td>\n",
       "      <td>140</td>\n",
       "      <td>165</td>\n",
       "      <td>8.213625e+05</td>\n",
       "    </tr>\n",
       "    <tr>\n",
       "      <th>3</th>\n",
       "      <td>110001.0</td>\n",
       "      <td>Bucket_3</td>\n",
       "      <td>86</td>\n",
       "      <td>112</td>\n",
       "      <td>1.136971e+06</td>\n",
       "    </tr>\n",
       "    <tr>\n",
       "      <th>4</th>\n",
       "      <td>110001.0</td>\n",
       "      <td>loan_closed</td>\n",
       "      <td>1120</td>\n",
       "      <td>4061</td>\n",
       "      <td>8.286690e+05</td>\n",
       "    </tr>\n",
       "  </tbody>\n",
       "</table>\n",
       "</div>"
      ],
      "text/plain": [
       "    pincode dpd_status_bb  count_trades  num_trades  mean_sanctioned_amount\n",
       "0  110001.0           90+           407         601            8.397447e+05\n",
       "1  110001.0      Bucket_1           209         256            9.333190e+05\n",
       "2  110001.0      Bucket_2           140         165            8.213625e+05\n",
       "3  110001.0      Bucket_3            86         112            1.136971e+06\n",
       "4  110001.0   loan_closed          1120        4061            8.286690e+05"
      ]
     },
     "execution_count": 52,
     "metadata": {},
     "output_type": "execute_result"
    }
   ],
   "source": [
    "temp_group.columns=['pincode','dpd_status_bb','count_trades','num_trades','mean_sanctioned_amount']\n",
    "temp_group.head()"
   ]
  },
  {
   "cell_type": "code",
   "execution_count": 56,
   "id": "29690bc1",
   "metadata": {},
   "outputs": [
    {
     "data": {
      "text/html": [
       "<div>\n",
       "<style scoped>\n",
       "    .dataframe tbody tr th:only-of-type {\n",
       "        vertical-align: middle;\n",
       "    }\n",
       "\n",
       "    .dataframe tbody tr th {\n",
       "        vertical-align: top;\n",
       "    }\n",
       "\n",
       "    .dataframe thead th {\n",
       "        text-align: right;\n",
       "    }\n",
       "</style>\n",
       "<table border=\"1\" class=\"dataframe\">\n",
       "  <thead>\n",
       "    <tr style=\"text-align: right;\">\n",
       "      <th></th>\n",
       "      <th>pincode</th>\n",
       "      <th>sum_num_trades</th>\n",
       "    </tr>\n",
       "  </thead>\n",
       "  <tbody>\n",
       "    <tr>\n",
       "      <th>0</th>\n",
       "      <td>110001.0</td>\n",
       "      <td>6870</td>\n",
       "    </tr>\n",
       "    <tr>\n",
       "      <th>1</th>\n",
       "      <td>110002.0</td>\n",
       "      <td>1034</td>\n",
       "    </tr>\n",
       "    <tr>\n",
       "      <th>2</th>\n",
       "      <td>110003.0</td>\n",
       "      <td>1149</td>\n",
       "    </tr>\n",
       "    <tr>\n",
       "      <th>3</th>\n",
       "      <td>110004.0</td>\n",
       "      <td>272</td>\n",
       "    </tr>\n",
       "    <tr>\n",
       "      <th>4</th>\n",
       "      <td>110005.0</td>\n",
       "      <td>2153</td>\n",
       "    </tr>\n",
       "  </tbody>\n",
       "</table>\n",
       "</div>"
      ],
      "text/plain": [
       "    pincode  sum_num_trades\n",
       "0  110001.0            6870\n",
       "1  110002.0            1034\n",
       "2  110003.0            1149\n",
       "3  110004.0             272\n",
       "4  110005.0            2153"
      ]
     },
     "execution_count": 56,
     "metadata": {},
     "output_type": "execute_result"
    }
   ],
   "source": [
    "temp_group_group = temp_group.groupby(['pincode'],as_index=False).agg({'num_trades':'sum'})\n",
    "temp_group_group.columns=['pincode','sum_num_trades']\n",
    "temp_group_group.head()"
   ]
  },
  {
   "cell_type": "code",
   "execution_count": 58,
   "id": "5574d332",
   "metadata": {},
   "outputs": [
    {
     "data": {
      "text/html": [
       "<div>\n",
       "<style scoped>\n",
       "    .dataframe tbody tr th:only-of-type {\n",
       "        vertical-align: middle;\n",
       "    }\n",
       "\n",
       "    .dataframe tbody tr th {\n",
       "        vertical-align: top;\n",
       "    }\n",
       "\n",
       "    .dataframe thead th {\n",
       "        text-align: right;\n",
       "    }\n",
       "</style>\n",
       "<table border=\"1\" class=\"dataframe\">\n",
       "  <thead>\n",
       "    <tr style=\"text-align: right;\">\n",
       "      <th></th>\n",
       "      <th>pincode</th>\n",
       "      <th>dpd_status_bb</th>\n",
       "      <th>count_trades</th>\n",
       "      <th>num_trades</th>\n",
       "      <th>mean_sanctioned_amount</th>\n",
       "      <th>sum_num_trades</th>\n",
       "    </tr>\n",
       "  </thead>\n",
       "  <tbody>\n",
       "    <tr>\n",
       "      <th>0</th>\n",
       "      <td>110001.0</td>\n",
       "      <td>90+</td>\n",
       "      <td>407</td>\n",
       "      <td>601</td>\n",
       "      <td>8.397447e+05</td>\n",
       "      <td>6870</td>\n",
       "    </tr>\n",
       "    <tr>\n",
       "      <th>1</th>\n",
       "      <td>110001.0</td>\n",
       "      <td>Bucket_1</td>\n",
       "      <td>209</td>\n",
       "      <td>256</td>\n",
       "      <td>9.333190e+05</td>\n",
       "      <td>6870</td>\n",
       "    </tr>\n",
       "    <tr>\n",
       "      <th>2</th>\n",
       "      <td>110001.0</td>\n",
       "      <td>Bucket_2</td>\n",
       "      <td>140</td>\n",
       "      <td>165</td>\n",
       "      <td>8.213625e+05</td>\n",
       "      <td>6870</td>\n",
       "    </tr>\n",
       "    <tr>\n",
       "      <th>3</th>\n",
       "      <td>110001.0</td>\n",
       "      <td>Bucket_3</td>\n",
       "      <td>86</td>\n",
       "      <td>112</td>\n",
       "      <td>1.136971e+06</td>\n",
       "      <td>6870</td>\n",
       "    </tr>\n",
       "    <tr>\n",
       "      <th>4</th>\n",
       "      <td>110001.0</td>\n",
       "      <td>loan_closed</td>\n",
       "      <td>1120</td>\n",
       "      <td>4061</td>\n",
       "      <td>8.286690e+05</td>\n",
       "      <td>6870</td>\n",
       "    </tr>\n",
       "  </tbody>\n",
       "</table>\n",
       "</div>"
      ],
      "text/plain": [
       "    pincode dpd_status_bb  count_trades  num_trades  mean_sanctioned_amount  \\\n",
       "0  110001.0           90+           407         601            8.397447e+05   \n",
       "1  110001.0      Bucket_1           209         256            9.333190e+05   \n",
       "2  110001.0      Bucket_2           140         165            8.213625e+05   \n",
       "3  110001.0      Bucket_3            86         112            1.136971e+06   \n",
       "4  110001.0   loan_closed          1120        4061            8.286690e+05   \n",
       "\n",
       "   sum_num_trades  \n",
       "0            6870  \n",
       "1            6870  \n",
       "2            6870  \n",
       "3            6870  \n",
       "4            6870  "
      ]
     },
     "execution_count": 58,
     "metadata": {},
     "output_type": "execute_result"
    }
   ],
   "source": [
    "temp_group=pd.merge(temp_group,temp_group_group,on='pincode')\n",
    "temp_group.head()"
   ]
  },
  {
   "cell_type": "code",
   "execution_count": 59,
   "id": "a27426ee",
   "metadata": {},
   "outputs": [
    {
     "data": {
      "text/html": [
       "<div>\n",
       "<style scoped>\n",
       "    .dataframe tbody tr th:only-of-type {\n",
       "        vertical-align: middle;\n",
       "    }\n",
       "\n",
       "    .dataframe tbody tr th {\n",
       "        vertical-align: top;\n",
       "    }\n",
       "\n",
       "    .dataframe thead th {\n",
       "        text-align: right;\n",
       "    }\n",
       "</style>\n",
       "<table border=\"1\" class=\"dataframe\">\n",
       "  <thead>\n",
       "    <tr style=\"text-align: right;\">\n",
       "      <th></th>\n",
       "      <th>pincode</th>\n",
       "      <th>dpd_status_bb</th>\n",
       "      <th>count_trades</th>\n",
       "      <th>num_trades</th>\n",
       "      <th>mean_sanctioned_amount</th>\n",
       "      <th>sum_num_trades</th>\n",
       "    </tr>\n",
       "  </thead>\n",
       "  <tbody>\n",
       "    <tr>\n",
       "      <th>0</th>\n",
       "      <td>110001.0</td>\n",
       "      <td>90+</td>\n",
       "      <td>407</td>\n",
       "      <td>601</td>\n",
       "      <td>8.397447e+05</td>\n",
       "      <td>6870</td>\n",
       "    </tr>\n",
       "    <tr>\n",
       "      <th>1</th>\n",
       "      <td>110001.0</td>\n",
       "      <td>Bucket_1</td>\n",
       "      <td>209</td>\n",
       "      <td>256</td>\n",
       "      <td>9.333190e+05</td>\n",
       "      <td>6870</td>\n",
       "    </tr>\n",
       "    <tr>\n",
       "      <th>2</th>\n",
       "      <td>110001.0</td>\n",
       "      <td>Bucket_2</td>\n",
       "      <td>140</td>\n",
       "      <td>165</td>\n",
       "      <td>8.213625e+05</td>\n",
       "      <td>6870</td>\n",
       "    </tr>\n",
       "    <tr>\n",
       "      <th>3</th>\n",
       "      <td>110001.0</td>\n",
       "      <td>Bucket_3</td>\n",
       "      <td>86</td>\n",
       "      <td>112</td>\n",
       "      <td>1.136971e+06</td>\n",
       "      <td>6870</td>\n",
       "    </tr>\n",
       "    <tr>\n",
       "      <th>4</th>\n",
       "      <td>110001.0</td>\n",
       "      <td>loan_closed</td>\n",
       "      <td>1120</td>\n",
       "      <td>4061</td>\n",
       "      <td>8.286690e+05</td>\n",
       "      <td>6870</td>\n",
       "    </tr>\n",
       "    <tr>\n",
       "      <th>5</th>\n",
       "      <td>110001.0</td>\n",
       "      <td>performing_well</td>\n",
       "      <td>920</td>\n",
       "      <td>1675</td>\n",
       "      <td>1.017516e+06</td>\n",
       "      <td>6870</td>\n",
       "    </tr>\n",
       "    <tr>\n",
       "      <th>6</th>\n",
       "      <td>110002.0</td>\n",
       "      <td>90+</td>\n",
       "      <td>56</td>\n",
       "      <td>79</td>\n",
       "      <td>7.161089e+05</td>\n",
       "      <td>1034</td>\n",
       "    </tr>\n",
       "    <tr>\n",
       "      <th>7</th>\n",
       "      <td>110002.0</td>\n",
       "      <td>Bucket_1</td>\n",
       "      <td>25</td>\n",
       "      <td>28</td>\n",
       "      <td>9.929536e+05</td>\n",
       "      <td>1034</td>\n",
       "    </tr>\n",
       "    <tr>\n",
       "      <th>8</th>\n",
       "      <td>110002.0</td>\n",
       "      <td>Bucket_2</td>\n",
       "      <td>15</td>\n",
       "      <td>15</td>\n",
       "      <td>7.665095e+05</td>\n",
       "      <td>1034</td>\n",
       "    </tr>\n",
       "    <tr>\n",
       "      <th>9</th>\n",
       "      <td>110002.0</td>\n",
       "      <td>Bucket_3</td>\n",
       "      <td>14</td>\n",
       "      <td>23</td>\n",
       "      <td>9.996499e+05</td>\n",
       "      <td>1034</td>\n",
       "    </tr>\n",
       "    <tr>\n",
       "      <th>10</th>\n",
       "      <td>110002.0</td>\n",
       "      <td>loan_closed</td>\n",
       "      <td>344</td>\n",
       "      <td>535</td>\n",
       "      <td>7.115560e+05</td>\n",
       "      <td>1034</td>\n",
       "    </tr>\n",
       "    <tr>\n",
       "      <th>11</th>\n",
       "      <td>110002.0</td>\n",
       "      <td>performing_well</td>\n",
       "      <td>245</td>\n",
       "      <td>354</td>\n",
       "      <td>9.907892e+05</td>\n",
       "      <td>1034</td>\n",
       "    </tr>\n",
       "    <tr>\n",
       "      <th>12</th>\n",
       "      <td>110003.0</td>\n",
       "      <td>90+</td>\n",
       "      <td>68</td>\n",
       "      <td>81</td>\n",
       "      <td>7.567191e+05</td>\n",
       "      <td>1149</td>\n",
       "    </tr>\n",
       "    <tr>\n",
       "      <th>13</th>\n",
       "      <td>110003.0</td>\n",
       "      <td>Bucket_1</td>\n",
       "      <td>31</td>\n",
       "      <td>32</td>\n",
       "      <td>7.724955e+05</td>\n",
       "      <td>1149</td>\n",
       "    </tr>\n",
       "    <tr>\n",
       "      <th>14</th>\n",
       "      <td>110003.0</td>\n",
       "      <td>Bucket_2</td>\n",
       "      <td>23</td>\n",
       "      <td>23</td>\n",
       "      <td>8.210380e+05</td>\n",
       "      <td>1149</td>\n",
       "    </tr>\n",
       "    <tr>\n",
       "      <th>15</th>\n",
       "      <td>110003.0</td>\n",
       "      <td>Bucket_3</td>\n",
       "      <td>8</td>\n",
       "      <td>8</td>\n",
       "      <td>4.900485e+05</td>\n",
       "      <td>1149</td>\n",
       "    </tr>\n",
       "    <tr>\n",
       "      <th>16</th>\n",
       "      <td>110003.0</td>\n",
       "      <td>loan_closed</td>\n",
       "      <td>340</td>\n",
       "      <td>603</td>\n",
       "      <td>7.915896e+05</td>\n",
       "      <td>1149</td>\n",
       "    </tr>\n",
       "    <tr>\n",
       "      <th>17</th>\n",
       "      <td>110003.0</td>\n",
       "      <td>performing_well</td>\n",
       "      <td>266</td>\n",
       "      <td>402</td>\n",
       "      <td>9.878661e+05</td>\n",
       "      <td>1149</td>\n",
       "    </tr>\n",
       "    <tr>\n",
       "      <th>18</th>\n",
       "      <td>110004.0</td>\n",
       "      <td>90+</td>\n",
       "      <td>23</td>\n",
       "      <td>30</td>\n",
       "      <td>8.473083e+05</td>\n",
       "      <td>272</td>\n",
       "    </tr>\n",
       "    <tr>\n",
       "      <th>19</th>\n",
       "      <td>110004.0</td>\n",
       "      <td>Bucket_1</td>\n",
       "      <td>16</td>\n",
       "      <td>18</td>\n",
       "      <td>1.177974e+06</td>\n",
       "      <td>272</td>\n",
       "    </tr>\n",
       "  </tbody>\n",
       "</table>\n",
       "</div>"
      ],
      "text/plain": [
       "     pincode    dpd_status_bb  count_trades  num_trades  \\\n",
       "0   110001.0              90+           407         601   \n",
       "1   110001.0         Bucket_1           209         256   \n",
       "2   110001.0         Bucket_2           140         165   \n",
       "3   110001.0         Bucket_3            86         112   \n",
       "4   110001.0      loan_closed          1120        4061   \n",
       "5   110001.0  performing_well           920        1675   \n",
       "6   110002.0              90+            56          79   \n",
       "7   110002.0         Bucket_1            25          28   \n",
       "8   110002.0         Bucket_2            15          15   \n",
       "9   110002.0         Bucket_3            14          23   \n",
       "10  110002.0      loan_closed           344         535   \n",
       "11  110002.0  performing_well           245         354   \n",
       "12  110003.0              90+            68          81   \n",
       "13  110003.0         Bucket_1            31          32   \n",
       "14  110003.0         Bucket_2            23          23   \n",
       "15  110003.0         Bucket_3             8           8   \n",
       "16  110003.0      loan_closed           340         603   \n",
       "17  110003.0  performing_well           266         402   \n",
       "18  110004.0              90+            23          30   \n",
       "19  110004.0         Bucket_1            16          18   \n",
       "\n",
       "    mean_sanctioned_amount  sum_num_trades  \n",
       "0             8.397447e+05            6870  \n",
       "1             9.333190e+05            6870  \n",
       "2             8.213625e+05            6870  \n",
       "3             1.136971e+06            6870  \n",
       "4             8.286690e+05            6870  \n",
       "5             1.017516e+06            6870  \n",
       "6             7.161089e+05            1034  \n",
       "7             9.929536e+05            1034  \n",
       "8             7.665095e+05            1034  \n",
       "9             9.996499e+05            1034  \n",
       "10            7.115560e+05            1034  \n",
       "11            9.907892e+05            1034  \n",
       "12            7.567191e+05            1149  \n",
       "13            7.724955e+05            1149  \n",
       "14            8.210380e+05            1149  \n",
       "15            4.900485e+05            1149  \n",
       "16            7.915896e+05            1149  \n",
       "17            9.878661e+05            1149  \n",
       "18            8.473083e+05             272  \n",
       "19            1.177974e+06             272  "
      ]
     },
     "execution_count": 59,
     "metadata": {},
     "output_type": "execute_result"
    }
   ],
   "source": [
    "temp_group.head(20)"
   ]
  },
  {
   "cell_type": "code",
   "execution_count": 60,
   "id": "652155ce",
   "metadata": {},
   "outputs": [
    {
     "data": {
      "text/html": [
       "<div>\n",
       "<style scoped>\n",
       "    .dataframe tbody tr th:only-of-type {\n",
       "        vertical-align: middle;\n",
       "    }\n",
       "\n",
       "    .dataframe tbody tr th {\n",
       "        vertical-align: top;\n",
       "    }\n",
       "\n",
       "    .dataframe thead th {\n",
       "        text-align: right;\n",
       "    }\n",
       "</style>\n",
       "<table border=\"1\" class=\"dataframe\">\n",
       "  <thead>\n",
       "    <tr style=\"text-align: right;\">\n",
       "      <th></th>\n",
       "      <th>pincode</th>\n",
       "      <th>dpd_status_bb</th>\n",
       "      <th>count_trades</th>\n",
       "      <th>num_trades</th>\n",
       "      <th>mean_sanctioned_amount</th>\n",
       "      <th>sum_num_trades</th>\n",
       "      <th>dpd_%_contrib</th>\n",
       "    </tr>\n",
       "  </thead>\n",
       "  <tbody>\n",
       "    <tr>\n",
       "      <th>0</th>\n",
       "      <td>110001.0</td>\n",
       "      <td>90+</td>\n",
       "      <td>407</td>\n",
       "      <td>601</td>\n",
       "      <td>8.397447e+05</td>\n",
       "      <td>6870</td>\n",
       "      <td>8.748180</td>\n",
       "    </tr>\n",
       "    <tr>\n",
       "      <th>1</th>\n",
       "      <td>110001.0</td>\n",
       "      <td>Bucket_1</td>\n",
       "      <td>209</td>\n",
       "      <td>256</td>\n",
       "      <td>9.333190e+05</td>\n",
       "      <td>6870</td>\n",
       "      <td>3.726346</td>\n",
       "    </tr>\n",
       "    <tr>\n",
       "      <th>2</th>\n",
       "      <td>110001.0</td>\n",
       "      <td>Bucket_2</td>\n",
       "      <td>140</td>\n",
       "      <td>165</td>\n",
       "      <td>8.213625e+05</td>\n",
       "      <td>6870</td>\n",
       "      <td>2.401747</td>\n",
       "    </tr>\n",
       "    <tr>\n",
       "      <th>3</th>\n",
       "      <td>110001.0</td>\n",
       "      <td>Bucket_3</td>\n",
       "      <td>86</td>\n",
       "      <td>112</td>\n",
       "      <td>1.136971e+06</td>\n",
       "      <td>6870</td>\n",
       "      <td>1.630277</td>\n",
       "    </tr>\n",
       "    <tr>\n",
       "      <th>4</th>\n",
       "      <td>110001.0</td>\n",
       "      <td>loan_closed</td>\n",
       "      <td>1120</td>\n",
       "      <td>4061</td>\n",
       "      <td>8.286690e+05</td>\n",
       "      <td>6870</td>\n",
       "      <td>59.112082</td>\n",
       "    </tr>\n",
       "  </tbody>\n",
       "</table>\n",
       "</div>"
      ],
      "text/plain": [
       "    pincode dpd_status_bb  count_trades  num_trades  mean_sanctioned_amount  \\\n",
       "0  110001.0           90+           407         601            8.397447e+05   \n",
       "1  110001.0      Bucket_1           209         256            9.333190e+05   \n",
       "2  110001.0      Bucket_2           140         165            8.213625e+05   \n",
       "3  110001.0      Bucket_3            86         112            1.136971e+06   \n",
       "4  110001.0   loan_closed          1120        4061            8.286690e+05   \n",
       "\n",
       "   sum_num_trades  dpd_%_contrib  \n",
       "0            6870       8.748180  \n",
       "1            6870       3.726346  \n",
       "2            6870       2.401747  \n",
       "3            6870       1.630277  \n",
       "4            6870      59.112082  "
      ]
     },
     "execution_count": 60,
     "metadata": {},
     "output_type": "execute_result"
    }
   ],
   "source": [
    "temp_group['dpd_%_contrib'] = (temp_group['num_trades'] / temp_group['sum_num_trades']) * 100\n",
    "temp_group.head()"
   ]
  },
  {
   "cell_type": "code",
   "execution_count": 61,
   "id": "97e4b17d",
   "metadata": {},
   "outputs": [],
   "source": [
    "import numpy as np\n",
    "temp_group['dpd_%_contrib'] = np.round(temp_group['dpd_%_contrib'], decimals = 3)\n"
   ]
  },
  {
   "cell_type": "code",
   "execution_count": 62,
   "id": "cd72b053",
   "metadata": {},
   "outputs": [
    {
     "data": {
      "text/html": [
       "<div>\n",
       "<style scoped>\n",
       "    .dataframe tbody tr th:only-of-type {\n",
       "        vertical-align: middle;\n",
       "    }\n",
       "\n",
       "    .dataframe tbody tr th {\n",
       "        vertical-align: top;\n",
       "    }\n",
       "\n",
       "    .dataframe thead th {\n",
       "        text-align: right;\n",
       "    }\n",
       "</style>\n",
       "<table border=\"1\" class=\"dataframe\">\n",
       "  <thead>\n",
       "    <tr style=\"text-align: right;\">\n",
       "      <th></th>\n",
       "      <th>pincode</th>\n",
       "      <th>dpd_status_bb</th>\n",
       "      <th>count_trades</th>\n",
       "      <th>num_trades</th>\n",
       "      <th>mean_sanctioned_amount</th>\n",
       "      <th>sum_num_trades</th>\n",
       "      <th>dpd_%_contrib</th>\n",
       "    </tr>\n",
       "  </thead>\n",
       "  <tbody>\n",
       "    <tr>\n",
       "      <th>0</th>\n",
       "      <td>110001.0</td>\n",
       "      <td>90+</td>\n",
       "      <td>407</td>\n",
       "      <td>601</td>\n",
       "      <td>8.397447e+05</td>\n",
       "      <td>6870</td>\n",
       "      <td>8.748</td>\n",
       "    </tr>\n",
       "    <tr>\n",
       "      <th>1</th>\n",
       "      <td>110001.0</td>\n",
       "      <td>Bucket_1</td>\n",
       "      <td>209</td>\n",
       "      <td>256</td>\n",
       "      <td>9.333190e+05</td>\n",
       "      <td>6870</td>\n",
       "      <td>3.726</td>\n",
       "    </tr>\n",
       "    <tr>\n",
       "      <th>2</th>\n",
       "      <td>110001.0</td>\n",
       "      <td>Bucket_2</td>\n",
       "      <td>140</td>\n",
       "      <td>165</td>\n",
       "      <td>8.213625e+05</td>\n",
       "      <td>6870</td>\n",
       "      <td>2.402</td>\n",
       "    </tr>\n",
       "    <tr>\n",
       "      <th>3</th>\n",
       "      <td>110001.0</td>\n",
       "      <td>Bucket_3</td>\n",
       "      <td>86</td>\n",
       "      <td>112</td>\n",
       "      <td>1.136971e+06</td>\n",
       "      <td>6870</td>\n",
       "      <td>1.630</td>\n",
       "    </tr>\n",
       "    <tr>\n",
       "      <th>4</th>\n",
       "      <td>110001.0</td>\n",
       "      <td>loan_closed</td>\n",
       "      <td>1120</td>\n",
       "      <td>4061</td>\n",
       "      <td>8.286690e+05</td>\n",
       "      <td>6870</td>\n",
       "      <td>59.112</td>\n",
       "    </tr>\n",
       "  </tbody>\n",
       "</table>\n",
       "</div>"
      ],
      "text/plain": [
       "    pincode dpd_status_bb  count_trades  num_trades  mean_sanctioned_amount  \\\n",
       "0  110001.0           90+           407         601            8.397447e+05   \n",
       "1  110001.0      Bucket_1           209         256            9.333190e+05   \n",
       "2  110001.0      Bucket_2           140         165            8.213625e+05   \n",
       "3  110001.0      Bucket_3            86         112            1.136971e+06   \n",
       "4  110001.0   loan_closed          1120        4061            8.286690e+05   \n",
       "\n",
       "   sum_num_trades  dpd_%_contrib  \n",
       "0            6870          8.748  \n",
       "1            6870          3.726  \n",
       "2            6870          2.402  \n",
       "3            6870          1.630  \n",
       "4            6870         59.112  "
      ]
     },
     "execution_count": 62,
     "metadata": {},
     "output_type": "execute_result"
    }
   ],
   "source": [
    "temp_group.head()"
   ]
  },
  {
   "cell_type": "code",
   "execution_count": 64,
   "id": "96521915",
   "metadata": {},
   "outputs": [
    {
     "data": {
      "text/plain": [
       "21513"
      ]
     },
     "execution_count": 64,
     "metadata": {},
     "output_type": "execute_result"
    }
   ],
   "source": [
    "len(temp_group.pincode.unique())"
   ]
  },
  {
   "cell_type": "code",
   "execution_count": 65,
   "id": "ddf99c96",
   "metadata": {},
   "outputs": [
    {
     "data": {
      "text/plain": [
       "(20165, 7)"
      ]
     },
     "execution_count": 65,
     "metadata": {},
     "output_type": "execute_result"
    }
   ],
   "source": [
    "pincodes_90plus=temp_group[temp_group['dpd_status_bb']=='90+']\n",
    "pincodes_90plus.shape"
   ]
  },
  {
   "cell_type": "code",
   "execution_count": 66,
   "id": "dc237411",
   "metadata": {},
   "outputs": [
    {
     "data": {
      "text/html": [
       "<div>\n",
       "<style scoped>\n",
       "    .dataframe tbody tr th:only-of-type {\n",
       "        vertical-align: middle;\n",
       "    }\n",
       "\n",
       "    .dataframe tbody tr th {\n",
       "        vertical-align: top;\n",
       "    }\n",
       "\n",
       "    .dataframe thead th {\n",
       "        text-align: right;\n",
       "    }\n",
       "</style>\n",
       "<table border=\"1\" class=\"dataframe\">\n",
       "  <thead>\n",
       "    <tr style=\"text-align: right;\">\n",
       "      <th></th>\n",
       "      <th>pincode</th>\n",
       "      <th>dpd_status_bb</th>\n",
       "      <th>count_trades</th>\n",
       "      <th>num_trades</th>\n",
       "      <th>mean_sanctioned_amount</th>\n",
       "      <th>sum_num_trades</th>\n",
       "      <th>dpd_%_contrib</th>\n",
       "    </tr>\n",
       "  </thead>\n",
       "  <tbody>\n",
       "    <tr>\n",
       "      <th>0</th>\n",
       "      <td>110001.0</td>\n",
       "      <td>90+</td>\n",
       "      <td>407</td>\n",
       "      <td>601</td>\n",
       "      <td>839744.703303</td>\n",
       "      <td>6870</td>\n",
       "      <td>8.748</td>\n",
       "    </tr>\n",
       "    <tr>\n",
       "      <th>6</th>\n",
       "      <td>110002.0</td>\n",
       "      <td>90+</td>\n",
       "      <td>56</td>\n",
       "      <td>79</td>\n",
       "      <td>716108.922619</td>\n",
       "      <td>1034</td>\n",
       "      <td>7.640</td>\n",
       "    </tr>\n",
       "    <tr>\n",
       "      <th>12</th>\n",
       "      <td>110003.0</td>\n",
       "      <td>90+</td>\n",
       "      <td>68</td>\n",
       "      <td>81</td>\n",
       "      <td>756719.134804</td>\n",
       "      <td>1149</td>\n",
       "      <td>7.050</td>\n",
       "    </tr>\n",
       "    <tr>\n",
       "      <th>18</th>\n",
       "      <td>110004.0</td>\n",
       "      <td>90+</td>\n",
       "      <td>23</td>\n",
       "      <td>30</td>\n",
       "      <td>847308.282609</td>\n",
       "      <td>272</td>\n",
       "      <td>11.029</td>\n",
       "    </tr>\n",
       "    <tr>\n",
       "      <th>24</th>\n",
       "      <td>110005.0</td>\n",
       "      <td>90+</td>\n",
       "      <td>91</td>\n",
       "      <td>125</td>\n",
       "      <td>654727.335296</td>\n",
       "      <td>2153</td>\n",
       "      <td>5.806</td>\n",
       "    </tr>\n",
       "  </tbody>\n",
       "</table>\n",
       "</div>"
      ],
      "text/plain": [
       "     pincode dpd_status_bb  count_trades  num_trades  mean_sanctioned_amount  \\\n",
       "0   110001.0           90+           407         601           839744.703303   \n",
       "6   110002.0           90+            56          79           716108.922619   \n",
       "12  110003.0           90+            68          81           756719.134804   \n",
       "18  110004.0           90+            23          30           847308.282609   \n",
       "24  110005.0           90+            91         125           654727.335296   \n",
       "\n",
       "    sum_num_trades  dpd_%_contrib  \n",
       "0             6870          8.748  \n",
       "6             1034          7.640  \n",
       "12            1149          7.050  \n",
       "18             272         11.029  \n",
       "24            2153          5.806  "
      ]
     },
     "execution_count": 66,
     "metadata": {},
     "output_type": "execute_result"
    }
   ],
   "source": [
    "pincodes_90plus.head()"
   ]
  },
  {
   "cell_type": "code",
   "execution_count": 67,
   "id": "b2987e96",
   "metadata": {},
   "outputs": [
    {
     "data": {
      "text/plain": [
       "(17478, 7)"
      ]
     },
     "execution_count": 67,
     "metadata": {},
     "output_type": "execute_result"
    }
   ],
   "source": [
    "pincodes_90plus_npa_5=pincodes_90plus[pincodes_90plus['dpd_%_contrib']>5]\n",
    "pincodes_90plus_npa_5.shape"
   ]
  },
  {
   "cell_type": "code",
   "execution_count": 68,
   "id": "82c62ae6",
   "metadata": {},
   "outputs": [
    {
     "data": {
      "text/plain": [
       "0.866749318125465"
      ]
     },
     "execution_count": 68,
     "metadata": {},
     "output_type": "execute_result"
    }
   ],
   "source": [
    "17478/20165"
   ]
  },
  {
   "cell_type": "code",
   "execution_count": 117,
   "id": "d05a3b83",
   "metadata": {},
   "outputs": [
    {
     "data": {
      "text/plain": [
       "(3870773, 18)"
      ]
     },
     "execution_count": 117,
     "metadata": {},
     "output_type": "execute_result"
    }
   ],
   "source": [
    "temp_1.shape"
   ]
  },
  {
   "cell_type": "code",
   "execution_count": 112,
   "id": "c8145517",
   "metadata": {},
   "outputs": [],
   "source": [
    "temp_gr=temp_1[['state','district','pincode','tier','member_group','ticket_size','ticket_size_bb','score_band_bb','opened','trades','live_closed','sanctioned_amount','current_balance','dpd_status_bb']]\n"
   ]
  },
  {
   "cell_type": "code",
   "execution_count": 113,
   "id": "aa1121b9",
   "metadata": {},
   "outputs": [
    {
     "name": "stderr",
     "output_type": "stream",
     "text": [
      "/tmp/ipykernel_121923/1980830573.py:1: UserWarning: Boolean Series key will be reindexed to match DataFrame index.\n",
      "  temp_gr=temp_gr[temp['trades']>0]\n"
     ]
    }
   ],
   "source": [
    "temp_gr=temp_gr[temp['trades']>0]\n",
    "temp_gr=temp_gr.sort_values(['trades'],ascending=False)\n",
    "temp_gr['sanctioned_amount_mean']=temp_gr['sanctioned_amount']/temp_gr['trades']\n",
    "temp_gr_gr= temp_gr.groupby(['state','district','tier','pincode','member_group','ticket_size_bb','score_band_bb','dpd_status_bb'],as_index=False).agg({'trades':['count','sum'],'sanctioned_amount_mean':'mean'})\n"
   ]
  },
  {
   "cell_type": "code",
   "execution_count": 114,
   "id": "f1b4d1bf",
   "metadata": {},
   "outputs": [
    {
     "data": {
      "text/html": [
       "<div>\n",
       "<style scoped>\n",
       "    .dataframe tbody tr th:only-of-type {\n",
       "        vertical-align: middle;\n",
       "    }\n",
       "\n",
       "    .dataframe tbody tr th {\n",
       "        vertical-align: top;\n",
       "    }\n",
       "\n",
       "    .dataframe thead th {\n",
       "        text-align: right;\n",
       "    }\n",
       "</style>\n",
       "<table border=\"1\" class=\"dataframe\">\n",
       "  <thead>\n",
       "    <tr style=\"text-align: right;\">\n",
       "      <th></th>\n",
       "      <th>state</th>\n",
       "      <th>district</th>\n",
       "      <th>tier</th>\n",
       "      <th>pincode</th>\n",
       "      <th>member_group</th>\n",
       "      <th>ticket_size_bb</th>\n",
       "      <th>score_band_bb</th>\n",
       "      <th>dpd_status_bb</th>\n",
       "      <th>count_trades</th>\n",
       "      <th>num_trades</th>\n",
       "      <th>mean_sanctioned_amount</th>\n",
       "    </tr>\n",
       "  </thead>\n",
       "  <tbody>\n",
       "    <tr>\n",
       "      <th>0</th>\n",
       "      <td>Andaman &amp; Nicobar Islands</td>\n",
       "      <td>North And Middle Andaman</td>\n",
       "      <td>RURAL</td>\n",
       "      <td>744201.0</td>\n",
       "      <td>NBFC</td>\n",
       "      <td>mhcv_1</td>\n",
       "      <td>low</td>\n",
       "      <td>Bucket_1</td>\n",
       "      <td>1</td>\n",
       "      <td>1</td>\n",
       "      <td>108149.0</td>\n",
       "    </tr>\n",
       "    <tr>\n",
       "      <th>1</th>\n",
       "      <td>Andaman &amp; Nicobar Islands</td>\n",
       "      <td>North And Middle Andaman</td>\n",
       "      <td>RURAL</td>\n",
       "      <td>744201.0</td>\n",
       "      <td>NBFC</td>\n",
       "      <td>mhcv_1</td>\n",
       "      <td>low</td>\n",
       "      <td>Bucket_3</td>\n",
       "      <td>1</td>\n",
       "      <td>1</td>\n",
       "      <td>126874.0</td>\n",
       "    </tr>\n",
       "    <tr>\n",
       "      <th>2</th>\n",
       "      <td>Andaman &amp; Nicobar Islands</td>\n",
       "      <td>North And Middle Andaman</td>\n",
       "      <td>RURAL</td>\n",
       "      <td>744201.0</td>\n",
       "      <td>NBFC</td>\n",
       "      <td>mhcv_2</td>\n",
       "      <td>band_1</td>\n",
       "      <td>performing_well</td>\n",
       "      <td>1</td>\n",
       "      <td>1</td>\n",
       "      <td>1500000.0</td>\n",
       "    </tr>\n",
       "    <tr>\n",
       "      <th>3</th>\n",
       "      <td>Andaman &amp; Nicobar Islands</td>\n",
       "      <td>North And Middle Andaman</td>\n",
       "      <td>RURAL</td>\n",
       "      <td>744201.0</td>\n",
       "      <td>NBFC</td>\n",
       "      <td>mhcv_3</td>\n",
       "      <td>band_1</td>\n",
       "      <td>Bucket_2</td>\n",
       "      <td>1</td>\n",
       "      <td>2</td>\n",
       "      <td>1700000.0</td>\n",
       "    </tr>\n",
       "    <tr>\n",
       "      <th>4</th>\n",
       "      <td>Andaman &amp; Nicobar Islands</td>\n",
       "      <td>North And Middle Andaman</td>\n",
       "      <td>RURAL</td>\n",
       "      <td>744202.0</td>\n",
       "      <td>NBFC</td>\n",
       "      <td>mhcv_1</td>\n",
       "      <td>band_1</td>\n",
       "      <td>performing_well</td>\n",
       "      <td>1</td>\n",
       "      <td>2</td>\n",
       "      <td>1200000.0</td>\n",
       "    </tr>\n",
       "  </tbody>\n",
       "</table>\n",
       "</div>"
      ],
      "text/plain": [
       "                       state                  district   tier   pincode  \\\n",
       "0  Andaman & Nicobar Islands  North And Middle Andaman  RURAL  744201.0   \n",
       "1  Andaman & Nicobar Islands  North And Middle Andaman  RURAL  744201.0   \n",
       "2  Andaman & Nicobar Islands  North And Middle Andaman  RURAL  744201.0   \n",
       "3  Andaman & Nicobar Islands  North And Middle Andaman  RURAL  744201.0   \n",
       "4  Andaman & Nicobar Islands  North And Middle Andaman  RURAL  744202.0   \n",
       "\n",
       "  member_group ticket_size_bb score_band_bb    dpd_status_bb  count_trades  \\\n",
       "0         NBFC         mhcv_1           low         Bucket_1             1   \n",
       "1         NBFC         mhcv_1           low         Bucket_3             1   \n",
       "2         NBFC         mhcv_2        band_1  performing_well             1   \n",
       "3         NBFC         mhcv_3        band_1         Bucket_2             1   \n",
       "4         NBFC         mhcv_1        band_1  performing_well             1   \n",
       "\n",
       "   num_trades  mean_sanctioned_amount  \n",
       "0           1                108149.0  \n",
       "1           1                126874.0  \n",
       "2           1               1500000.0  \n",
       "3           2               1700000.0  \n",
       "4           2               1200000.0  "
      ]
     },
     "execution_count": 114,
     "metadata": {},
     "output_type": "execute_result"
    }
   ],
   "source": [
    "temp_gr_gr.columns=['state','district','tier','pincode','member_group','ticket_size_bb','score_band_bb','dpd_status_bb','count_trades','num_trades','mean_sanctioned_amount']\n",
    "temp_gr_gr.head()\n"
   ]
  },
  {
   "cell_type": "code",
   "execution_count": 115,
   "id": "55da1c16",
   "metadata": {},
   "outputs": [
    {
     "data": {
      "text/plain": [
       "(1486812, 11)"
      ]
     },
     "execution_count": 115,
     "metadata": {},
     "output_type": "execute_result"
    }
   ],
   "source": [
    "temp_gr_gr.shape"
   ]
  },
  {
   "cell_type": "code",
   "execution_count": 116,
   "id": "0b483133",
   "metadata": {},
   "outputs": [],
   "source": [
    "temp_gr_gr.to_csv('dfData_bb_trade_sizing_mar_22_live_groupby.csv')"
   ]
  },
  {
   "cell_type": "code",
   "execution_count": null,
   "id": "1384aa41",
   "metadata": {},
   "outputs": [],
   "source": [
    "# do it wrt score bamd"
   ]
  },
  {
   "cell_type": "code",
   "execution_count": 70,
   "id": "6099b32a",
   "metadata": {},
   "outputs": [],
   "source": [
    "temp=dfData[['state','pincode','score_band_bb','opened','trades','live_closed','sanctioned_amount','current_balance','dpd_status_bb']]\n"
   ]
  },
  {
   "cell_type": "code",
   "execution_count": 71,
   "id": "44caae09",
   "metadata": {},
   "outputs": [],
   "source": [
    "temp=temp[temp['trades']>0]\n",
    "temp=temp.sort_values(['trades'],ascending=False)\n",
    "temp['sanctioned_amount_mean']=temp['sanctioned_amount']/temp['trades']\n",
    "temp_group= temp.groupby(['pincode','score_band_bb','dpd_status_bb'],as_index=False).agg({'trades':['count','sum'],'sanctioned_amount_mean':'mean'})\n"
   ]
  },
  {
   "cell_type": "code",
   "execution_count": 72,
   "id": "1c3fe867",
   "metadata": {},
   "outputs": [
    {
     "data": {
      "text/html": [
       "<div>\n",
       "<style scoped>\n",
       "    .dataframe tbody tr th:only-of-type {\n",
       "        vertical-align: middle;\n",
       "    }\n",
       "\n",
       "    .dataframe tbody tr th {\n",
       "        vertical-align: top;\n",
       "    }\n",
       "\n",
       "    .dataframe thead th {\n",
       "        text-align: right;\n",
       "    }\n",
       "</style>\n",
       "<table border=\"1\" class=\"dataframe\">\n",
       "  <thead>\n",
       "    <tr style=\"text-align: right;\">\n",
       "      <th></th>\n",
       "      <th>pincode</th>\n",
       "      <th>score_band_bb</th>\n",
       "      <th>dpd_status_bb</th>\n",
       "      <th>count_trades</th>\n",
       "      <th>num_trades</th>\n",
       "      <th>mean_sanctioned_amount</th>\n",
       "    </tr>\n",
       "  </thead>\n",
       "  <tbody>\n",
       "    <tr>\n",
       "      <th>0</th>\n",
       "      <td>110001.0</td>\n",
       "      <td>band_1</td>\n",
       "      <td>90+</td>\n",
       "      <td>55</td>\n",
       "      <td>61</td>\n",
       "      <td>1.117250e+06</td>\n",
       "    </tr>\n",
       "    <tr>\n",
       "      <th>1</th>\n",
       "      <td>110001.0</td>\n",
       "      <td>band_1</td>\n",
       "      <td>Bucket_1</td>\n",
       "      <td>70</td>\n",
       "      <td>83</td>\n",
       "      <td>8.987611e+05</td>\n",
       "    </tr>\n",
       "    <tr>\n",
       "      <th>2</th>\n",
       "      <td>110001.0</td>\n",
       "      <td>band_1</td>\n",
       "      <td>Bucket_2</td>\n",
       "      <td>42</td>\n",
       "      <td>46</td>\n",
       "      <td>9.742731e+05</td>\n",
       "    </tr>\n",
       "    <tr>\n",
       "      <th>3</th>\n",
       "      <td>110001.0</td>\n",
       "      <td>band_1</td>\n",
       "      <td>Bucket_3</td>\n",
       "      <td>19</td>\n",
       "      <td>25</td>\n",
       "      <td>1.187694e+06</td>\n",
       "    </tr>\n",
       "    <tr>\n",
       "      <th>4</th>\n",
       "      <td>110001.0</td>\n",
       "      <td>band_1</td>\n",
       "      <td>loan_closed</td>\n",
       "      <td>319</td>\n",
       "      <td>1203</td>\n",
       "      <td>8.509756e+05</td>\n",
       "    </tr>\n",
       "  </tbody>\n",
       "</table>\n",
       "</div>"
      ],
      "text/plain": [
       "    pincode score_band_bb dpd_status_bb  count_trades  num_trades  \\\n",
       "0  110001.0        band_1           90+            55          61   \n",
       "1  110001.0        band_1      Bucket_1            70          83   \n",
       "2  110001.0        band_1      Bucket_2            42          46   \n",
       "3  110001.0        band_1      Bucket_3            19          25   \n",
       "4  110001.0        band_1   loan_closed           319        1203   \n",
       "\n",
       "   mean_sanctioned_amount  \n",
       "0            1.117250e+06  \n",
       "1            8.987611e+05  \n",
       "2            9.742731e+05  \n",
       "3            1.187694e+06  \n",
       "4            8.509756e+05  "
      ]
     },
     "execution_count": 72,
     "metadata": {},
     "output_type": "execute_result"
    }
   ],
   "source": [
    "temp_group.columns=['pincode','score_band_bb','dpd_status_bb','count_trades','num_trades','mean_sanctioned_amount']\n",
    "temp_group.head()\n"
   ]
  },
  {
   "cell_type": "code",
   "execution_count": 73,
   "id": "751d7b4f",
   "metadata": {},
   "outputs": [
    {
     "data": {
      "text/html": [
       "<div>\n",
       "<style scoped>\n",
       "    .dataframe tbody tr th:only-of-type {\n",
       "        vertical-align: middle;\n",
       "    }\n",
       "\n",
       "    .dataframe tbody tr th {\n",
       "        vertical-align: top;\n",
       "    }\n",
       "\n",
       "    .dataframe thead th {\n",
       "        text-align: right;\n",
       "    }\n",
       "</style>\n",
       "<table border=\"1\" class=\"dataframe\">\n",
       "  <thead>\n",
       "    <tr style=\"text-align: right;\">\n",
       "      <th></th>\n",
       "      <th>pincode</th>\n",
       "      <th>score_band_bb</th>\n",
       "      <th>sum_num_trades</th>\n",
       "    </tr>\n",
       "  </thead>\n",
       "  <tbody>\n",
       "    <tr>\n",
       "      <th>0</th>\n",
       "      <td>110001.0</td>\n",
       "      <td>band_1</td>\n",
       "      <td>1961</td>\n",
       "    </tr>\n",
       "    <tr>\n",
       "      <th>1</th>\n",
       "      <td>110001.0</td>\n",
       "      <td>band_2</td>\n",
       "      <td>1369</td>\n",
       "    </tr>\n",
       "    <tr>\n",
       "      <th>2</th>\n",
       "      <td>110001.0</td>\n",
       "      <td>band_3</td>\n",
       "      <td>376</td>\n",
       "    </tr>\n",
       "    <tr>\n",
       "      <th>3</th>\n",
       "      <td>110001.0</td>\n",
       "      <td>band_4</td>\n",
       "      <td>243</td>\n",
       "    </tr>\n",
       "    <tr>\n",
       "      <th>4</th>\n",
       "      <td>110001.0</td>\n",
       "      <td>low</td>\n",
       "      <td>2921</td>\n",
       "    </tr>\n",
       "  </tbody>\n",
       "</table>\n",
       "</div>"
      ],
      "text/plain": [
       "    pincode score_band_bb  sum_num_trades\n",
       "0  110001.0        band_1            1961\n",
       "1  110001.0        band_2            1369\n",
       "2  110001.0        band_3             376\n",
       "3  110001.0        band_4             243\n",
       "4  110001.0           low            2921"
      ]
     },
     "execution_count": 73,
     "metadata": {},
     "output_type": "execute_result"
    }
   ],
   "source": [
    "temp_group_group = temp_group.groupby(['pincode','score_band_bb'],as_index=False).agg({'num_trades':'sum'})\n",
    "temp_group_group.columns=['pincode','score_band_bb','sum_num_trades']\n",
    "temp_group_group.head()\n"
   ]
  },
  {
   "cell_type": "code",
   "execution_count": 74,
   "id": "d965b936",
   "metadata": {},
   "outputs": [
    {
     "data": {
      "text/html": [
       "<div>\n",
       "<style scoped>\n",
       "    .dataframe tbody tr th:only-of-type {\n",
       "        vertical-align: middle;\n",
       "    }\n",
       "\n",
       "    .dataframe tbody tr th {\n",
       "        vertical-align: top;\n",
       "    }\n",
       "\n",
       "    .dataframe thead th {\n",
       "        text-align: right;\n",
       "    }\n",
       "</style>\n",
       "<table border=\"1\" class=\"dataframe\">\n",
       "  <thead>\n",
       "    <tr style=\"text-align: right;\">\n",
       "      <th></th>\n",
       "      <th>pincode</th>\n",
       "      <th>score_band_bb</th>\n",
       "      <th>dpd_status_bb</th>\n",
       "      <th>count_trades</th>\n",
       "      <th>num_trades</th>\n",
       "      <th>mean_sanctioned_amount</th>\n",
       "      <th>sum_num_trades</th>\n",
       "    </tr>\n",
       "  </thead>\n",
       "  <tbody>\n",
       "    <tr>\n",
       "      <th>0</th>\n",
       "      <td>110001.0</td>\n",
       "      <td>band_1</td>\n",
       "      <td>90+</td>\n",
       "      <td>55</td>\n",
       "      <td>61</td>\n",
       "      <td>1.117250e+06</td>\n",
       "      <td>1961</td>\n",
       "    </tr>\n",
       "    <tr>\n",
       "      <th>1</th>\n",
       "      <td>110001.0</td>\n",
       "      <td>band_1</td>\n",
       "      <td>Bucket_1</td>\n",
       "      <td>70</td>\n",
       "      <td>83</td>\n",
       "      <td>8.987611e+05</td>\n",
       "      <td>1961</td>\n",
       "    </tr>\n",
       "    <tr>\n",
       "      <th>2</th>\n",
       "      <td>110001.0</td>\n",
       "      <td>band_1</td>\n",
       "      <td>Bucket_2</td>\n",
       "      <td>42</td>\n",
       "      <td>46</td>\n",
       "      <td>9.742731e+05</td>\n",
       "      <td>1961</td>\n",
       "    </tr>\n",
       "    <tr>\n",
       "      <th>3</th>\n",
       "      <td>110001.0</td>\n",
       "      <td>band_1</td>\n",
       "      <td>Bucket_3</td>\n",
       "      <td>19</td>\n",
       "      <td>25</td>\n",
       "      <td>1.187694e+06</td>\n",
       "      <td>1961</td>\n",
       "    </tr>\n",
       "    <tr>\n",
       "      <th>4</th>\n",
       "      <td>110001.0</td>\n",
       "      <td>band_1</td>\n",
       "      <td>loan_closed</td>\n",
       "      <td>319</td>\n",
       "      <td>1203</td>\n",
       "      <td>8.509756e+05</td>\n",
       "      <td>1961</td>\n",
       "    </tr>\n",
       "  </tbody>\n",
       "</table>\n",
       "</div>"
      ],
      "text/plain": [
       "    pincode score_band_bb dpd_status_bb  count_trades  num_trades  \\\n",
       "0  110001.0        band_1           90+            55          61   \n",
       "1  110001.0        band_1      Bucket_1            70          83   \n",
       "2  110001.0        band_1      Bucket_2            42          46   \n",
       "3  110001.0        band_1      Bucket_3            19          25   \n",
       "4  110001.0        band_1   loan_closed           319        1203   \n",
       "\n",
       "   mean_sanctioned_amount  sum_num_trades  \n",
       "0            1.117250e+06            1961  \n",
       "1            8.987611e+05            1961  \n",
       "2            9.742731e+05            1961  \n",
       "3            1.187694e+06            1961  \n",
       "4            8.509756e+05            1961  "
      ]
     },
     "execution_count": 74,
     "metadata": {},
     "output_type": "execute_result"
    }
   ],
   "source": [
    "temp_group=pd.merge(temp_group,temp_group_group,on=['pincode','score_band_bb'])\n",
    "temp_group.head()\n"
   ]
  },
  {
   "cell_type": "code",
   "execution_count": 75,
   "id": "643aa747",
   "metadata": {},
   "outputs": [
    {
     "data": {
      "text/html": [
       "<div>\n",
       "<style scoped>\n",
       "    .dataframe tbody tr th:only-of-type {\n",
       "        vertical-align: middle;\n",
       "    }\n",
       "\n",
       "    .dataframe tbody tr th {\n",
       "        vertical-align: top;\n",
       "    }\n",
       "\n",
       "    .dataframe thead th {\n",
       "        text-align: right;\n",
       "    }\n",
       "</style>\n",
       "<table border=\"1\" class=\"dataframe\">\n",
       "  <thead>\n",
       "    <tr style=\"text-align: right;\">\n",
       "      <th></th>\n",
       "      <th>pincode</th>\n",
       "      <th>score_band_bb</th>\n",
       "      <th>dpd_status_bb</th>\n",
       "      <th>count_trades</th>\n",
       "      <th>num_trades</th>\n",
       "      <th>mean_sanctioned_amount</th>\n",
       "      <th>sum_num_trades</th>\n",
       "      <th>dpd_%_contrib</th>\n",
       "    </tr>\n",
       "  </thead>\n",
       "  <tbody>\n",
       "    <tr>\n",
       "      <th>0</th>\n",
       "      <td>110001.0</td>\n",
       "      <td>band_1</td>\n",
       "      <td>90+</td>\n",
       "      <td>55</td>\n",
       "      <td>61</td>\n",
       "      <td>1.117250e+06</td>\n",
       "      <td>1961</td>\n",
       "      <td>3.110658</td>\n",
       "    </tr>\n",
       "    <tr>\n",
       "      <th>1</th>\n",
       "      <td>110001.0</td>\n",
       "      <td>band_1</td>\n",
       "      <td>Bucket_1</td>\n",
       "      <td>70</td>\n",
       "      <td>83</td>\n",
       "      <td>8.987611e+05</td>\n",
       "      <td>1961</td>\n",
       "      <td>4.232534</td>\n",
       "    </tr>\n",
       "    <tr>\n",
       "      <th>2</th>\n",
       "      <td>110001.0</td>\n",
       "      <td>band_1</td>\n",
       "      <td>Bucket_2</td>\n",
       "      <td>42</td>\n",
       "      <td>46</td>\n",
       "      <td>9.742731e+05</td>\n",
       "      <td>1961</td>\n",
       "      <td>2.345742</td>\n",
       "    </tr>\n",
       "    <tr>\n",
       "      <th>3</th>\n",
       "      <td>110001.0</td>\n",
       "      <td>band_1</td>\n",
       "      <td>Bucket_3</td>\n",
       "      <td>19</td>\n",
       "      <td>25</td>\n",
       "      <td>1.187694e+06</td>\n",
       "      <td>1961</td>\n",
       "      <td>1.274860</td>\n",
       "    </tr>\n",
       "    <tr>\n",
       "      <th>4</th>\n",
       "      <td>110001.0</td>\n",
       "      <td>band_1</td>\n",
       "      <td>loan_closed</td>\n",
       "      <td>319</td>\n",
       "      <td>1203</td>\n",
       "      <td>8.509756e+05</td>\n",
       "      <td>1961</td>\n",
       "      <td>61.346252</td>\n",
       "    </tr>\n",
       "  </tbody>\n",
       "</table>\n",
       "</div>"
      ],
      "text/plain": [
       "    pincode score_band_bb dpd_status_bb  count_trades  num_trades  \\\n",
       "0  110001.0        band_1           90+            55          61   \n",
       "1  110001.0        band_1      Bucket_1            70          83   \n",
       "2  110001.0        band_1      Bucket_2            42          46   \n",
       "3  110001.0        band_1      Bucket_3            19          25   \n",
       "4  110001.0        band_1   loan_closed           319        1203   \n",
       "\n",
       "   mean_sanctioned_amount  sum_num_trades  dpd_%_contrib  \n",
       "0            1.117250e+06            1961       3.110658  \n",
       "1            8.987611e+05            1961       4.232534  \n",
       "2            9.742731e+05            1961       2.345742  \n",
       "3            1.187694e+06            1961       1.274860  \n",
       "4            8.509756e+05            1961      61.346252  "
      ]
     },
     "execution_count": 75,
     "metadata": {},
     "output_type": "execute_result"
    }
   ],
   "source": [
    "temp_group['dpd_%_contrib'] = (temp_group['num_trades'] / temp_group['sum_num_trades']) * 100\n",
    "temp_group.head()\n"
   ]
  },
  {
   "cell_type": "code",
   "execution_count": null,
   "id": "d71ecfef",
   "metadata": {},
   "outputs": [],
   "source": []
  },
  {
   "cell_type": "code",
   "execution_count": null,
   "id": "0b76b48e",
   "metadata": {},
   "outputs": [],
   "source": []
  },
  {
   "cell_type": "code",
   "execution_count": null,
   "id": "86572868",
   "metadata": {},
   "outputs": [],
   "source": []
  },
  {
   "cell_type": "code",
   "execution_count": null,
   "id": "f2044b60",
   "metadata": {},
   "outputs": [],
   "source": []
  },
  {
   "cell_type": "code",
   "execution_count": 69,
   "id": "548a2b12",
   "metadata": {},
   "outputs": [],
   "source": [
    "temp=dfData[['pincode','opened','trades','live_closed','sanctioned_amount','current_balance','dpd_status_bb']]\n",
    "\n",
    "temp=temp[temp['trades']>0]\n",
    "temp=temp.sort_values(['trades'],ascending=False)\n",
    "temp['sanctioned_amount_mean']=temp['sanctioned_amount']/temp['trades']\n",
    "temp_group= temp.groupby(['pincode','dpd_status_bb'],as_index=False).agg({'trades':['count','sum'],'sanctioned_amount_mean':'mean'})\n",
    "\n",
    "temp_group.columns=['pincode','dpd_status_bb','count_trades','num_trades','mean_sanctioned_amount']\n",
    "#temp_group.head()\n",
    "\n",
    "temp_group_group = temp_group.groupby(['pincode'],as_index=False).agg({'num_trades':'sum'})\n",
    "temp_group_group.columns=['pincode','sum_num_trades']\n",
    "temp_group_group.head()\n",
    "\n",
    "temp_group=pd.merge(temp_group,temp_group_group,on='pincode')\n",
    "temp_group.head()\n",
    "\n",
    "temp_group['dpd_%_contrib'] = (temp_group['num_trades'] / temp_group['sum_num_trades']) * 100\n",
    "temp_group.head()\n",
    "\n"
   ]
  },
  {
   "cell_type": "code",
   "execution_count": null,
   "id": "8e0bfd09",
   "metadata": {},
   "outputs": [],
   "source": [
    "#band_4: 15894 dsitricts, no districts with 90+ \n",
    "#band_3: 19429 dsitricts, 58 districts with 90+ , 5 districts with >5%\n",
    "#band_2: 20702 dsitricts, 842 districts with 90+ , 28 districts with >5%\n",
    "#band_1: 20915 dsitricts, 10411 districts with 90+ , 1958 districts with >5%\n",
    "#band_low: 21090 dsitricts, 20090 districts with 90+ , 19918 districts with >5%"
   ]
  },
  {
   "cell_type": "code",
   "execution_count": null,
   "id": "009ed8b3",
   "metadata": {},
   "outputs": [],
   "source": [
    "#band_1"
   ]
  },
  {
   "cell_type": "code",
   "execution_count": 98,
   "id": "466a5043",
   "metadata": {},
   "outputs": [
    {
     "data": {
      "text/plain": [
       "21090"
      ]
     },
     "execution_count": 98,
     "metadata": {},
     "output_type": "execute_result"
    }
   ],
   "source": [
    "temp_group_4 = temp_group[temp_group['score_band_bb']=='low']\n",
    "len(temp_group_4.pincode.unique())"
   ]
  },
  {
   "cell_type": "code",
   "execution_count": 99,
   "id": "f15aa0ef",
   "metadata": {},
   "outputs": [
    {
     "data": {
      "text/plain": [
       "(20090, 8)"
      ]
     },
     "execution_count": 99,
     "metadata": {},
     "output_type": "execute_result"
    }
   ],
   "source": [
    "pincodes_90plus=temp_group_4[temp_group_4['dpd_status_bb']=='90+']\n",
    "pincodes_90plus.shape"
   ]
  },
  {
   "cell_type": "code",
   "execution_count": 100,
   "id": "518b1b7b",
   "metadata": {},
   "outputs": [
    {
     "data": {
      "text/plain": [
       "(19918, 8)"
      ]
     },
     "execution_count": 100,
     "metadata": {},
     "output_type": "execute_result"
    }
   ],
   "source": [
    "pincodes_90plus_npa_5=pincodes_90plus[pincodes_90plus['dpd_%_contrib']>5]\n",
    "pincodes_90plus_npa_5.shape"
   ]
  },
  {
   "cell_type": "code",
   "execution_count": 78,
   "id": "726c867b",
   "metadata": {},
   "outputs": [
    {
     "data": {
      "text/html": [
       "<div>\n",
       "<style scoped>\n",
       "    .dataframe tbody tr th:only-of-type {\n",
       "        vertical-align: middle;\n",
       "    }\n",
       "\n",
       "    .dataframe tbody tr th {\n",
       "        vertical-align: top;\n",
       "    }\n",
       "\n",
       "    .dataframe thead th {\n",
       "        text-align: right;\n",
       "    }\n",
       "</style>\n",
       "<table border=\"1\" class=\"dataframe\">\n",
       "  <thead>\n",
       "    <tr style=\"text-align: right;\">\n",
       "      <th></th>\n",
       "      <th>pincode</th>\n",
       "      <th>score_band_bb</th>\n",
       "      <th>dpd_status_bb</th>\n",
       "      <th>count_trades</th>\n",
       "      <th>num_trades</th>\n",
       "      <th>mean_sanctioned_amount</th>\n",
       "      <th>sum_num_trades</th>\n",
       "      <th>dpd_%_contrib</th>\n",
       "    </tr>\n",
       "  </thead>\n",
       "  <tbody>\n",
       "    <tr>\n",
       "      <th>17</th>\n",
       "      <td>110001.0</td>\n",
       "      <td>low</td>\n",
       "      <td>90+</td>\n",
       "      <td>352</td>\n",
       "      <td>540</td>\n",
       "      <td>796384.470864</td>\n",
       "      <td>2921</td>\n",
       "      <td>18.486820</td>\n",
       "    </tr>\n",
       "    <tr>\n",
       "      <th>38</th>\n",
       "      <td>110002.0</td>\n",
       "      <td>low</td>\n",
       "      <td>90+</td>\n",
       "      <td>54</td>\n",
       "      <td>77</td>\n",
       "      <td>735320.475309</td>\n",
       "      <td>333</td>\n",
       "      <td>23.123123</td>\n",
       "    </tr>\n",
       "    <tr>\n",
       "      <th>58</th>\n",
       "      <td>110003.0</td>\n",
       "      <td>low</td>\n",
       "      <td>90+</td>\n",
       "      <td>67</td>\n",
       "      <td>80</td>\n",
       "      <td>766520.912935</td>\n",
       "      <td>410</td>\n",
       "      <td>19.512195</td>\n",
       "    </tr>\n",
       "    <tr>\n",
       "      <th>74</th>\n",
       "      <td>110004.0</td>\n",
       "      <td>low</td>\n",
       "      <td>90+</td>\n",
       "      <td>23</td>\n",
       "      <td>30</td>\n",
       "      <td>847308.282609</td>\n",
       "      <td>95</td>\n",
       "      <td>31.578947</td>\n",
       "    </tr>\n",
       "    <tr>\n",
       "      <th>94</th>\n",
       "      <td>110005.0</td>\n",
       "      <td>low</td>\n",
       "      <td>90+</td>\n",
       "      <td>90</td>\n",
       "      <td>124</td>\n",
       "      <td>657557.639021</td>\n",
       "      <td>695</td>\n",
       "      <td>17.841727</td>\n",
       "    </tr>\n",
       "  </tbody>\n",
       "</table>\n",
       "</div>"
      ],
      "text/plain": [
       "     pincode score_band_bb dpd_status_bb  count_trades  num_trades  \\\n",
       "17  110001.0           low           90+           352         540   \n",
       "38  110002.0           low           90+            54          77   \n",
       "58  110003.0           low           90+            67          80   \n",
       "74  110004.0           low           90+            23          30   \n",
       "94  110005.0           low           90+            90         124   \n",
       "\n",
       "    mean_sanctioned_amount  sum_num_trades  dpd_%_contrib  \n",
       "17           796384.470864            2921      18.486820  \n",
       "38           735320.475309             333      23.123123  \n",
       "58           766520.912935             410      19.512195  \n",
       "74           847308.282609              95      31.578947  \n",
       "94           657557.639021             695      17.841727  "
      ]
     },
     "execution_count": 78,
     "metadata": {},
     "output_type": "execute_result"
    }
   ],
   "source": [
    "pincodes_90plus_npa_5.head()"
   ]
  },
  {
   "cell_type": "code",
   "execution_count": null,
   "id": "17deefc3",
   "metadata": {},
   "outputs": [],
   "source": []
  }
 ],
 "metadata": {
  "kernelspec": {
   "display_name": "Python [conda env:faiss] *",
   "language": "python",
   "name": "conda-env-faiss-py"
  },
  "language_info": {
   "codemirror_mode": {
    "name": "ipython",
    "version": 3
   },
   "file_extension": ".py",
   "mimetype": "text/x-python",
   "name": "python",
   "nbconvert_exporter": "python",
   "pygments_lexer": "ipython3",
   "version": "3.8.12"
  }
 },
 "nbformat": 4,
 "nbformat_minor": 5
}
