{
 "cells": [
  {
   "cell_type": "code",
   "execution_count": 1,
   "metadata": {},
   "outputs": [],
   "source": [
    "import pandas as pd"
   ]
  },
  {
   "cell_type": "code",
   "execution_count": 2,
   "metadata": {},
   "outputs": [
    {
     "data": {
      "text/plain": [
       "(6979200, 15)"
      ]
     },
     "execution_count": 2,
     "metadata": {},
     "output_type": "execute_result"
    }
   ],
   "source": [
    "dfData = pd.read_csv('BLACKBUCK_Trade_Sizing_Mar22.csv')\n",
    "dfData.shape"
   ]
  },
  {
   "cell_type": "code",
   "execution_count": 3,
   "metadata": {},
   "outputs": [
    {
     "data": {
      "text/html": [
       "<div>\n",
       "<style scoped>\n",
       "    .dataframe tbody tr th:only-of-type {\n",
       "        vertical-align: middle;\n",
       "    }\n",
       "\n",
       "    .dataframe tbody tr th {\n",
       "        vertical-align: top;\n",
       "    }\n",
       "\n",
       "    .dataframe thead th {\n",
       "        text-align: right;\n",
       "    }\n",
       "</style>\n",
       "<table border=\"1\" class=\"dataframe\">\n",
       "  <thead>\n",
       "    <tr style=\"text-align: right;\">\n",
       "      <th></th>\n",
       "      <th>pincode</th>\n",
       "      <th>state</th>\n",
       "      <th>district</th>\n",
       "      <th>tier</th>\n",
       "      <th>opened</th>\n",
       "      <th>score_band</th>\n",
       "      <th>ticket_size</th>\n",
       "      <th>product</th>\n",
       "      <th>member_group</th>\n",
       "      <th>live_closed</th>\n",
       "      <th>dpd_status</th>\n",
       "      <th>flag_derog</th>\n",
       "      <th>trades</th>\n",
       "      <th>sanctioned_amount</th>\n",
       "      <th>current_balance</th>\n",
       "    </tr>\n",
       "  </thead>\n",
       "  <tbody>\n",
       "    <tr>\n",
       "      <th>0</th>\n",
       "      <td>NaN</td>\n",
       "      <td>NaN</td>\n",
       "      <td>NaN</td>\n",
       "      <td>NaN</td>\n",
       "      <td>BEFORE 2017</td>\n",
       "      <td>771-790</td>\n",
       "      <td>12L-15L</td>\n",
       "      <td>COMMERCIAL VEHICLE LOANS</td>\n",
       "      <td>NBFC</td>\n",
       "      <td>CLOSED</td>\n",
       "      <td>CLOSED</td>\n",
       "      <td>DEROG</td>\n",
       "      <td>2</td>\n",
       "      <td>2664907</td>\n",
       "      <td>606727</td>\n",
       "    </tr>\n",
       "    <tr>\n",
       "      <th>1</th>\n",
       "      <td>NaN</td>\n",
       "      <td>NaN</td>\n",
       "      <td>NaN</td>\n",
       "      <td>NaN</td>\n",
       "      <td>BEFORE 2017</td>\n",
       "      <td>731-770</td>\n",
       "      <td>12L-15L</td>\n",
       "      <td>COMMERCIAL VEHICLE LOANS</td>\n",
       "      <td>NBFC</td>\n",
       "      <td>LIVE</td>\n",
       "      <td>0-STD</td>\n",
       "      <td>NON-DEROG</td>\n",
       "      <td>1</td>\n",
       "      <td>1213000</td>\n",
       "      <td>179270</td>\n",
       "    </tr>\n",
       "    <tr>\n",
       "      <th>2</th>\n",
       "      <td>NaN</td>\n",
       "      <td>NaN</td>\n",
       "      <td>NaN</td>\n",
       "      <td>NaN</td>\n",
       "      <td>BEFORE 2017</td>\n",
       "      <td>300-680</td>\n",
       "      <td>12L-15L</td>\n",
       "      <td>COMMERCIAL VEHICLE LOANS</td>\n",
       "      <td>NBFC</td>\n",
       "      <td>LIVE</td>\n",
       "      <td>180-359/LSS</td>\n",
       "      <td>DEROG</td>\n",
       "      <td>3</td>\n",
       "      <td>4090000</td>\n",
       "      <td>2430353</td>\n",
       "    </tr>\n",
       "    <tr>\n",
       "      <th>3</th>\n",
       "      <td>NaN</td>\n",
       "      <td>NaN</td>\n",
       "      <td>NaN</td>\n",
       "      <td>NaN</td>\n",
       "      <td>BEFORE 2017</td>\n",
       "      <td>300-680</td>\n",
       "      <td>12L-15L</td>\n",
       "      <td>COMMERCIAL VEHICLE LOANS</td>\n",
       "      <td>NBFC</td>\n",
       "      <td>LIVE</td>\n",
       "      <td>720-900</td>\n",
       "      <td>DEROG</td>\n",
       "      <td>2</td>\n",
       "      <td>2684590</td>\n",
       "      <td>2047383</td>\n",
       "    </tr>\n",
       "    <tr>\n",
       "      <th>4</th>\n",
       "      <td>NaN</td>\n",
       "      <td>NaN</td>\n",
       "      <td>NaN</td>\n",
       "      <td>NaN</td>\n",
       "      <td>BEFORE 2017</td>\n",
       "      <td>731-770</td>\n",
       "      <td>12L-15L</td>\n",
       "      <td>COMMERCIAL VEHICLE LOANS</td>\n",
       "      <td>OTHERS</td>\n",
       "      <td>CLOSED</td>\n",
       "      <td>CLOSED</td>\n",
       "      <td>NON-DEROG</td>\n",
       "      <td>3</td>\n",
       "      <td>4300000</td>\n",
       "      <td>0</td>\n",
       "    </tr>\n",
       "  </tbody>\n",
       "</table>\n",
       "</div>"
      ],
      "text/plain": [
       "   pincode state district tier       opened score_band ticket_size  \\\n",
       "0      NaN   NaN      NaN  NaN  BEFORE 2017    771-790     12L-15L   \n",
       "1      NaN   NaN      NaN  NaN  BEFORE 2017    731-770     12L-15L   \n",
       "2      NaN   NaN      NaN  NaN  BEFORE 2017    300-680     12L-15L   \n",
       "3      NaN   NaN      NaN  NaN  BEFORE 2017    300-680     12L-15L   \n",
       "4      NaN   NaN      NaN  NaN  BEFORE 2017    731-770     12L-15L   \n",
       "\n",
       "                    product member_group live_closed   dpd_status flag_derog  \\\n",
       "0  COMMERCIAL VEHICLE LOANS         NBFC      CLOSED       CLOSED      DEROG   \n",
       "1  COMMERCIAL VEHICLE LOANS         NBFC        LIVE        0-STD  NON-DEROG   \n",
       "2  COMMERCIAL VEHICLE LOANS         NBFC        LIVE  180-359/LSS      DEROG   \n",
       "3  COMMERCIAL VEHICLE LOANS         NBFC        LIVE      720-900      DEROG   \n",
       "4  COMMERCIAL VEHICLE LOANS       OTHERS      CLOSED       CLOSED  NON-DEROG   \n",
       "\n",
       "   trades  sanctioned_amount  current_balance  \n",
       "0       2            2664907           606727  \n",
       "1       1            1213000           179270  \n",
       "2       3            4090000          2430353  \n",
       "3       2            2684590          2047383  \n",
       "4       3            4300000                0  "
      ]
     },
     "execution_count": 3,
     "metadata": {},
     "output_type": "execute_result"
    }
   ],
   "source": [
    "dfData.head()"
   ]
  },
  {
   "cell_type": "code",
   "execution_count": 7,
   "metadata": {},
   "outputs": [
    {
     "data": {
      "text/plain": [
       "(21516, 37, 641, 6)"
      ]
     },
     "execution_count": 7,
     "metadata": {},
     "output_type": "execute_result"
    }
   ],
   "source": [
    "len(dfData.pincode.unique()),len(dfData.state.unique()),len(dfData.district.unique()),len(dfData.score_band.unique())"
   ]
  },
  {
   "cell_type": "code",
   "execution_count": 12,
   "metadata": {},
   "outputs": [
    {
     "data": {
      "text/plain": [
       "9"
      ]
     },
     "execution_count": 12,
     "metadata": {},
     "output_type": "execute_result"
    }
   ],
   "source": [
    "len(dfData.ticket_size.unique())\n"
   ]
  },
  {
   "cell_type": "code",
   "execution_count": 24,
   "metadata": {},
   "outputs": [
    {
     "data": {
      "text/plain": [
       "array(['CLOSED', '0-STD', '180-359/LSS', '720-900', '60-89/SMA', '30-59',\n",
       "       '150-179/DBT', '360-719', '90-149/SUB', '1-29', nan], dtype=object)"
      ]
     },
     "execution_count": 24,
     "metadata": {},
     "output_type": "execute_result"
    }
   ],
   "source": [
    "dfData.dpd_status.unique()"
   ]
  },
  {
   "cell_type": "code",
   "execution_count": 11,
   "metadata": {},
   "outputs": [
    {
     "data": {
      "text/plain": [
       "11"
      ]
     },
     "execution_count": 11,
     "metadata": {},
     "output_type": "execute_result"
    }
   ],
   "source": [
    "len(dfData.dpd_status.unique())"
   ]
  },
  {
   "cell_type": "code",
   "execution_count": 6,
   "metadata": {},
   "outputs": [],
   "source": [
    "dfData = dfData[~dfData['pincode'].isna()]"
   ]
  },
  {
   "cell_type": "code",
   "execution_count": 7,
   "metadata": {},
   "outputs": [
    {
     "data": {
      "text/html": [
       "<div>\n",
       "<style scoped>\n",
       "    .dataframe tbody tr th:only-of-type {\n",
       "        vertical-align: middle;\n",
       "    }\n",
       "\n",
       "    .dataframe tbody tr th {\n",
       "        vertical-align: top;\n",
       "    }\n",
       "\n",
       "    .dataframe thead th {\n",
       "        text-align: right;\n",
       "    }\n",
       "</style>\n",
       "<table border=\"1\" class=\"dataframe\">\n",
       "  <thead>\n",
       "    <tr style=\"text-align: right;\">\n",
       "      <th></th>\n",
       "      <th>pincode</th>\n",
       "      <th>state</th>\n",
       "      <th>district</th>\n",
       "      <th>tier</th>\n",
       "      <th>opened</th>\n",
       "      <th>score_band</th>\n",
       "      <th>ticket_size</th>\n",
       "      <th>product</th>\n",
       "      <th>member_group</th>\n",
       "      <th>live_closed</th>\n",
       "      <th>dpd_status</th>\n",
       "      <th>flag_derog</th>\n",
       "      <th>trades</th>\n",
       "      <th>sanctioned_amount</th>\n",
       "      <th>current_balance</th>\n",
       "    </tr>\n",
       "  </thead>\n",
       "  <tbody>\n",
       "    <tr>\n",
       "      <th>3776</th>\n",
       "      <td>110001.0</td>\n",
       "      <td>Delhi</td>\n",
       "      <td>Central Delhi</td>\n",
       "      <td>METRO</td>\n",
       "      <td>BEFORE 2017</td>\n",
       "      <td>300-680</td>\n",
       "      <td>12L-15L</td>\n",
       "      <td>COMMERCIAL VEHICLE LOANS</td>\n",
       "      <td>PEER</td>\n",
       "      <td>CLOSED</td>\n",
       "      <td>CLOSED</td>\n",
       "      <td>DEROG</td>\n",
       "      <td>2</td>\n",
       "      <td>2584000</td>\n",
       "      <td>0</td>\n",
       "    </tr>\n",
       "    <tr>\n",
       "      <th>3777</th>\n",
       "      <td>110001.0</td>\n",
       "      <td>Delhi</td>\n",
       "      <td>Central Delhi</td>\n",
       "      <td>METRO</td>\n",
       "      <td>BEFORE 2017</td>\n",
       "      <td>300-680</td>\n",
       "      <td>12L-15L</td>\n",
       "      <td>COMMERCIAL VEHICLE LOANS</td>\n",
       "      <td>PVT</td>\n",
       "      <td>CLOSED</td>\n",
       "      <td>CLOSED</td>\n",
       "      <td>DEROG</td>\n",
       "      <td>1</td>\n",
       "      <td>1337000</td>\n",
       "      <td>0</td>\n",
       "    </tr>\n",
       "    <tr>\n",
       "      <th>3778</th>\n",
       "      <td>110001.0</td>\n",
       "      <td>Delhi</td>\n",
       "      <td>Central Delhi</td>\n",
       "      <td>METRO</td>\n",
       "      <td>BEFORE 2017</td>\n",
       "      <td>681-730</td>\n",
       "      <td>12L-15L</td>\n",
       "      <td>COMMERCIAL VEHICLE LOANS</td>\n",
       "      <td>PVT</td>\n",
       "      <td>CLOSED</td>\n",
       "      <td>CLOSED</td>\n",
       "      <td>DEROG</td>\n",
       "      <td>3</td>\n",
       "      <td>4198620</td>\n",
       "      <td>0</td>\n",
       "    </tr>\n",
       "    <tr>\n",
       "      <th>3779</th>\n",
       "      <td>110001.0</td>\n",
       "      <td>Delhi</td>\n",
       "      <td>Central Delhi</td>\n",
       "      <td>METRO</td>\n",
       "      <td>BEFORE 2017</td>\n",
       "      <td>771-790</td>\n",
       "      <td>15L+</td>\n",
       "      <td>COMMERCIAL VEHICLE LOANS</td>\n",
       "      <td>PEER</td>\n",
       "      <td>CLOSED</td>\n",
       "      <td>CLOSED</td>\n",
       "      <td>NON-DEROG</td>\n",
       "      <td>2</td>\n",
       "      <td>3907800</td>\n",
       "      <td>0</td>\n",
       "    </tr>\n",
       "    <tr>\n",
       "      <th>3780</th>\n",
       "      <td>110001.0</td>\n",
       "      <td>Delhi</td>\n",
       "      <td>Central Delhi</td>\n",
       "      <td>METRO</td>\n",
       "      <td>BEFORE 2017</td>\n",
       "      <td>300-680</td>\n",
       "      <td>15L+</td>\n",
       "      <td>COMMERCIAL VEHICLE LOANS</td>\n",
       "      <td>PEER</td>\n",
       "      <td>CLOSED</td>\n",
       "      <td>CLOSED</td>\n",
       "      <td>DEROG</td>\n",
       "      <td>1</td>\n",
       "      <td>2086000</td>\n",
       "      <td>0</td>\n",
       "    </tr>\n",
       "  </tbody>\n",
       "</table>\n",
       "</div>"
      ],
      "text/plain": [
       "       pincode  state       district   tier       opened score_band  \\\n",
       "3776  110001.0  Delhi  Central Delhi  METRO  BEFORE 2017    300-680   \n",
       "3777  110001.0  Delhi  Central Delhi  METRO  BEFORE 2017    300-680   \n",
       "3778  110001.0  Delhi  Central Delhi  METRO  BEFORE 2017    681-730   \n",
       "3779  110001.0  Delhi  Central Delhi  METRO  BEFORE 2017    771-790   \n",
       "3780  110001.0  Delhi  Central Delhi  METRO  BEFORE 2017    300-680   \n",
       "\n",
       "     ticket_size                   product member_group live_closed  \\\n",
       "3776     12L-15L  COMMERCIAL VEHICLE LOANS         PEER      CLOSED   \n",
       "3777     12L-15L  COMMERCIAL VEHICLE LOANS          PVT      CLOSED   \n",
       "3778     12L-15L  COMMERCIAL VEHICLE LOANS          PVT      CLOSED   \n",
       "3779        15L+  COMMERCIAL VEHICLE LOANS         PEER      CLOSED   \n",
       "3780        15L+  COMMERCIAL VEHICLE LOANS         PEER      CLOSED   \n",
       "\n",
       "     dpd_status flag_derog  trades  sanctioned_amount  current_balance  \n",
       "3776     CLOSED      DEROG       2            2584000                0  \n",
       "3777     CLOSED      DEROG       1            1337000                0  \n",
       "3778     CLOSED      DEROG       3            4198620                0  \n",
       "3779     CLOSED  NON-DEROG       2            3907800                0  \n",
       "3780     CLOSED      DEROG       1            2086000                0  "
      ]
     },
     "execution_count": 7,
     "metadata": {},
     "output_type": "execute_result"
    }
   ],
   "source": [
    "dfData.head()"
   ]
  },
  {
   "cell_type": "code",
   "execution_count": 8,
   "metadata": {},
   "outputs": [
    {
     "data": {
      "text/plain": [
       "array(['BEFORE 2017', 'M1-2020', 'M1-2021', 'M1-2022', 'M10-2020',\n",
       "       'M10-2021', 'M11-2020', 'M11-2021', 'M12-2020', 'M12-2021',\n",
       "       'M2-2020', 'M2-2021', 'M2-2022', 'M3-2020', 'M3-2021', 'M3-2022',\n",
       "       'M4-2020', 'M4-2021', 'M5-2020', 'M5-2021', 'M6-2020', 'M6-2021',\n",
       "       'M7-2020', 'M7-2021', 'M8-2020', 'M8-2021', 'M9-2020', 'M9-2021',\n",
       "       'Q1-2017', 'Q1-2018', 'Q1-2019', 'Q2-2017', 'Q2-2018', 'Q2-2019',\n",
       "       'Q3-2017', 'Q3-2018', 'Q3-2019', 'Q4-2017', 'Q4-2018', 'Q4-2019',\n",
       "       'MISSING'], dtype=object)"
      ]
     },
     "execution_count": 8,
     "metadata": {},
     "output_type": "execute_result"
    }
   ],
   "source": [
    "dfData.opened.unique()"
   ]
  },
  {
   "cell_type": "code",
   "execution_count": 9,
   "metadata": {},
   "outputs": [],
   "source": [
    "columns=['pincode','state','district','tier','opened',\n",
    "'score_band','ticket_size','member_group','live_closed',\n",
    "'dpd_status','sanctioned_amount','current_balance']"
   ]
  },
  {
   "cell_type": "code",
   "execution_count": 10,
   "metadata": {},
   "outputs": [
    {
     "data": {
      "text/html": [
       "<div>\n",
       "<style scoped>\n",
       "    .dataframe tbody tr th:only-of-type {\n",
       "        vertical-align: middle;\n",
       "    }\n",
       "\n",
       "    .dataframe tbody tr th {\n",
       "        vertical-align: top;\n",
       "    }\n",
       "\n",
       "    .dataframe thead th {\n",
       "        text-align: right;\n",
       "    }\n",
       "</style>\n",
       "<table border=\"1\" class=\"dataframe\">\n",
       "  <thead>\n",
       "    <tr style=\"text-align: right;\">\n",
       "      <th></th>\n",
       "      <th>pincode</th>\n",
       "      <th>state</th>\n",
       "      <th>district</th>\n",
       "      <th>tier</th>\n",
       "      <th>opened</th>\n",
       "      <th>score_band</th>\n",
       "      <th>ticket_size</th>\n",
       "      <th>member_group</th>\n",
       "      <th>live_closed</th>\n",
       "      <th>dpd_status</th>\n",
       "      <th>sanctioned_amount</th>\n",
       "      <th>current_balance</th>\n",
       "    </tr>\n",
       "  </thead>\n",
       "  <tbody>\n",
       "    <tr>\n",
       "      <th>3776</th>\n",
       "      <td>110001.0</td>\n",
       "      <td>Delhi</td>\n",
       "      <td>Central Delhi</td>\n",
       "      <td>METRO</td>\n",
       "      <td>BEFORE 2017</td>\n",
       "      <td>300-680</td>\n",
       "      <td>12L-15L</td>\n",
       "      <td>PEER</td>\n",
       "      <td>CLOSED</td>\n",
       "      <td>CLOSED</td>\n",
       "      <td>2584000</td>\n",
       "      <td>0</td>\n",
       "    </tr>\n",
       "    <tr>\n",
       "      <th>3777</th>\n",
       "      <td>110001.0</td>\n",
       "      <td>Delhi</td>\n",
       "      <td>Central Delhi</td>\n",
       "      <td>METRO</td>\n",
       "      <td>BEFORE 2017</td>\n",
       "      <td>300-680</td>\n",
       "      <td>12L-15L</td>\n",
       "      <td>PVT</td>\n",
       "      <td>CLOSED</td>\n",
       "      <td>CLOSED</td>\n",
       "      <td>1337000</td>\n",
       "      <td>0</td>\n",
       "    </tr>\n",
       "    <tr>\n",
       "      <th>3778</th>\n",
       "      <td>110001.0</td>\n",
       "      <td>Delhi</td>\n",
       "      <td>Central Delhi</td>\n",
       "      <td>METRO</td>\n",
       "      <td>BEFORE 2017</td>\n",
       "      <td>681-730</td>\n",
       "      <td>12L-15L</td>\n",
       "      <td>PVT</td>\n",
       "      <td>CLOSED</td>\n",
       "      <td>CLOSED</td>\n",
       "      <td>4198620</td>\n",
       "      <td>0</td>\n",
       "    </tr>\n",
       "    <tr>\n",
       "      <th>3779</th>\n",
       "      <td>110001.0</td>\n",
       "      <td>Delhi</td>\n",
       "      <td>Central Delhi</td>\n",
       "      <td>METRO</td>\n",
       "      <td>BEFORE 2017</td>\n",
       "      <td>771-790</td>\n",
       "      <td>15L+</td>\n",
       "      <td>PEER</td>\n",
       "      <td>CLOSED</td>\n",
       "      <td>CLOSED</td>\n",
       "      <td>3907800</td>\n",
       "      <td>0</td>\n",
       "    </tr>\n",
       "    <tr>\n",
       "      <th>3780</th>\n",
       "      <td>110001.0</td>\n",
       "      <td>Delhi</td>\n",
       "      <td>Central Delhi</td>\n",
       "      <td>METRO</td>\n",
       "      <td>BEFORE 2017</td>\n",
       "      <td>300-680</td>\n",
       "      <td>15L+</td>\n",
       "      <td>PEER</td>\n",
       "      <td>CLOSED</td>\n",
       "      <td>CLOSED</td>\n",
       "      <td>2086000</td>\n",
       "      <td>0</td>\n",
       "    </tr>\n",
       "  </tbody>\n",
       "</table>\n",
       "</div>"
      ],
      "text/plain": [
       "       pincode  state       district   tier       opened score_band  \\\n",
       "3776  110001.0  Delhi  Central Delhi  METRO  BEFORE 2017    300-680   \n",
       "3777  110001.0  Delhi  Central Delhi  METRO  BEFORE 2017    300-680   \n",
       "3778  110001.0  Delhi  Central Delhi  METRO  BEFORE 2017    681-730   \n",
       "3779  110001.0  Delhi  Central Delhi  METRO  BEFORE 2017    771-790   \n",
       "3780  110001.0  Delhi  Central Delhi  METRO  BEFORE 2017    300-680   \n",
       "\n",
       "     ticket_size member_group live_closed dpd_status  sanctioned_amount  \\\n",
       "3776     12L-15L         PEER      CLOSED     CLOSED            2584000   \n",
       "3777     12L-15L          PVT      CLOSED     CLOSED            1337000   \n",
       "3778     12L-15L          PVT      CLOSED     CLOSED            4198620   \n",
       "3779        15L+         PEER      CLOSED     CLOSED            3907800   \n",
       "3780        15L+         PEER      CLOSED     CLOSED            2086000   \n",
       "\n",
       "      current_balance  \n",
       "3776                0  \n",
       "3777                0  \n",
       "3778                0  \n",
       "3779                0  \n",
       "3780                0  "
      ]
     },
     "execution_count": 10,
     "metadata": {},
     "output_type": "execute_result"
    }
   ],
   "source": [
    "dfData=dfData[columns]\n",
    "dfData.head()"
   ]
  },
  {
   "cell_type": "code",
   "execution_count": 24,
   "metadata": {},
   "outputs": [],
   "source": [
    "dfData['pincode']=dfData['pincode'].astype(str)"
   ]
  },
  {
   "cell_type": "code",
   "execution_count": 33,
   "metadata": {},
   "outputs": [],
   "source": [
    "dfData['state']=dfData['state'].astype(str)\n"
   ]
  },
  {
   "cell_type": "code",
   "execution_count": 35,
   "metadata": {},
   "outputs": [],
   "source": [
    "dfData['sanctioned_amount']=dfData['sanctioned_amount'].astype(int)"
   ]
  },
  {
   "cell_type": "code",
   "execution_count": 36,
   "metadata": {},
   "outputs": [],
   "source": [
    "dfData['dpd_status']=dfData['dpd_status'].astype(str)"
   ]
  },
  {
   "cell_type": "code",
   "execution_count": 34,
   "metadata": {},
   "outputs": [],
   "source": [
    "dfData['district']=dfData['district'].astype(str)\n",
    "dfData['tier']=dfData['tier'].astype(str)\n",
    "dfData['opened']=dfData['opened'].astype(str)\n",
    "dfData['score_band']=dfData['score_band'].astype(str)\n",
    "dfData['ticket_size']=dfData['ticket_size'].astype(str)\n"
   ]
  },
  {
   "cell_type": "code",
   "execution_count": 46,
   "metadata": {},
   "outputs": [
    {
     "data": {
      "text/plain": [
       "count     6960150\n",
       "unique         11\n",
       "top        CLOSED\n",
       "freq      3049872\n",
       "Name: dpd_status, dtype: object"
      ]
     },
     "execution_count": 46,
     "metadata": {},
     "output_type": "execute_result"
    }
   ],
   "source": [
    "dfData['dpd_status'].describe()"
   ]
  },
  {
   "cell_type": "code",
   "execution_count": 47,
   "metadata": {},
   "outputs": [
    {
     "data": {
      "text/plain": [
       "array(['CLOSED', '0-STD', '720-900', '150-179/DBT', '360-719',\n",
       "       '90-149/SUB', '1-29', '180-359/LSS', '60-89/SMA', '30-59', 'nan'],\n",
       "      dtype=object)"
      ]
     },
     "execution_count": 47,
     "metadata": {},
     "output_type": "execute_result"
    }
   ],
   "source": [
    "dfData['dpd_status'].unique()"
   ]
  },
  {
   "cell_type": "code",
   "execution_count": 51,
   "metadata": {},
   "outputs": [
    {
     "name": "stdout",
     "output_type": "stream",
     "text": [
      "(6960150, 12)\n",
      "(6960131, 12)\n"
     ]
    }
   ],
   "source": [
    "print(dfData.shape)\n",
    "dfData = dfData[~(dfData['dpd_status']=='nan')]\n",
    "print(dfData.shape)"
   ]
  },
  {
   "cell_type": "code",
   "execution_count": 52,
   "metadata": {},
   "outputs": [
    {
     "data": {
      "text/plain": [
       "array(['CLOSED', '0-STD', '720-900', '150-179/DBT', '360-719',\n",
       "       '90-149/SUB', '1-29', '180-359/LSS', '60-89/SMA', '30-59'],\n",
       "      dtype=object)"
      ]
     },
     "execution_count": 52,
     "metadata": {},
     "output_type": "execute_result"
    }
   ],
   "source": [
    "dfData['dpd_status'].unique()"
   ]
  },
  {
   "cell_type": "code",
   "execution_count": 53,
   "metadata": {},
   "outputs": [
    {
     "name": "stderr",
     "output_type": "stream",
     "text": [
      "/var/folders/hx/r3w_k0mn7jqfsy8gcq8w06j40000gp/T/ipykernel_22972/3407232725.py:1: SettingWithCopyWarning: \n",
      "A value is trying to be set on a copy of a slice from a DataFrame.\n",
      "Try using .loc[row_indexer,col_indexer] = value instead\n",
      "\n",
      "See the caveats in the documentation: https://pandas.pydata.org/pandas-docs/stable/user_guide/indexing.html#returning-a-view-versus-a-copy\n",
      "  dfData['dpd_status_index']=0\n"
     ]
    }
   ],
   "source": [
    "dfData['dpd_status_index']=0 #CLOSED"
   ]
  },
  {
   "cell_type": "code",
   "execution_count": 59,
   "metadata": {},
   "outputs": [],
   "source": [
    "dfData.loc[dfData['dpd_status']=='0-STD','dpd_status_index']=1"
   ]
  },
  {
   "cell_type": "code",
   "execution_count": 60,
   "metadata": {},
   "outputs": [],
   "source": [
    "dfData.loc[dfData['dpd_status']=='720-900','dpd_status_index']=2\n",
    "dfData.loc[dfData['dpd_status']=='150-179/DBT','dpd_status_index']=3\n",
    "dfData.loc[dfData['dpd_status']=='360-719','dpd_status_index']=4\n",
    "dfData.loc[dfData['dpd_status']=='90-149/SUB','dpd_status_index']=5\n",
    "dfData.loc[dfData['dpd_status']=='1-29','dpd_status_index']=6\n",
    "dfData.loc[dfData['dpd_status']=='180-359/LSS','dpd_status_index']=7\n",
    "dfData.loc[dfData['dpd_status']=='60-89/SMA','dpd_status_index']=8\n",
    "dfData.loc[dfData['dpd_status']=='30-59','dpd_status_index']=9\n"
   ]
  },
  {
   "cell_type": "code",
   "execution_count": 61,
   "metadata": {},
   "outputs": [
    {
     "data": {
      "text/plain": [
       "array([0, 1, 2, 3, 4, 5, 6, 7, 8, 9])"
      ]
     },
     "execution_count": 61,
     "metadata": {},
     "output_type": "execute_result"
    }
   ],
   "source": [
    "dfData['dpd_status_index'].unique()"
   ]
  },
  {
   "cell_type": "code",
   "execution_count": 37,
   "metadata": {},
   "outputs": [],
   "source": [
    "from sklearn.model_selection import cross_val_score\n",
    "from sklearn.model_selection import RepeatedKFold\n",
    "from xgboost import XGBRegressor,XGBClassifier\n",
    "from sklearn.pipeline import Pipeline\n",
    "from sklearn.preprocessing import OneHotEncoder\n",
    "from sklearn.impute import SimpleImputer\n",
    "from sklearn.model_selection import train_test_split, GridSearchCV\n",
    "from sklearn.compose import ColumnTransformer\n",
    "from sklearn.metrics import classification_report\n",
    "import numpy as np\n",
    "from sklearn.model_selection import train_test_split\n",
    "from sklearn.metrics import r2_score\n",
    "from sklearn.metrics import mean_absolute_error\n",
    "from sklearn.preprocessing import OneHotEncoder"
   ]
  },
  {
   "cell_type": "code",
   "execution_count": null,
   "metadata": {},
   "outputs": [],
   "source": []
  },
  {
   "cell_type": "code",
   "execution_count": 62,
   "metadata": {},
   "outputs": [],
   "source": [
    "drop_columns = ['dpd_status','current_balance','member_group','live_closed','dpd_status_index']\n",
    "label_column = ['dpd_status_index']\n"
   ]
  },
  {
   "cell_type": "code",
   "execution_count": 63,
   "metadata": {},
   "outputs": [],
   "source": [
    "X_train, X_test, y_train, y_test = train_test_split(dfData.drop(columns=drop_columns,axis=1), dfData[label_column], test_size=0.15,random_state=42)"
   ]
  },
  {
   "cell_type": "code",
   "execution_count": 64,
   "metadata": {},
   "outputs": [
    {
     "data": {
      "text/html": [
       "<div>\n",
       "<style scoped>\n",
       "    .dataframe tbody tr th:only-of-type {\n",
       "        vertical-align: middle;\n",
       "    }\n",
       "\n",
       "    .dataframe tbody tr th {\n",
       "        vertical-align: top;\n",
       "    }\n",
       "\n",
       "    .dataframe thead th {\n",
       "        text-align: right;\n",
       "    }\n",
       "</style>\n",
       "<table border=\"1\" class=\"dataframe\">\n",
       "  <thead>\n",
       "    <tr style=\"text-align: right;\">\n",
       "      <th></th>\n",
       "      <th>pincode</th>\n",
       "      <th>state</th>\n",
       "      <th>district</th>\n",
       "      <th>tier</th>\n",
       "      <th>opened</th>\n",
       "      <th>score_band</th>\n",
       "      <th>ticket_size</th>\n",
       "      <th>sanctioned_amount</th>\n",
       "    </tr>\n",
       "  </thead>\n",
       "  <tbody>\n",
       "    <tr>\n",
       "      <th>1280039</th>\n",
       "      <td>770016.0</td>\n",
       "      <td>Odisha</td>\n",
       "      <td>Sundergarh</td>\n",
       "      <td>RURAL</td>\n",
       "      <td>Q4-2017</td>\n",
       "      <td>731-770</td>\n",
       "      <td>5L-7L</td>\n",
       "      <td>569307</td>\n",
       "    </tr>\n",
       "    <tr>\n",
       "      <th>3003114</th>\n",
       "      <td>248001.0</td>\n",
       "      <td>Uttarakhand</td>\n",
       "      <td>Dehradun</td>\n",
       "      <td>URBAN</td>\n",
       "      <td>M7-2021</td>\n",
       "      <td>300-680</td>\n",
       "      <td>4L-5L</td>\n",
       "      <td>450000</td>\n",
       "    </tr>\n",
       "    <tr>\n",
       "      <th>2501372</th>\n",
       "      <td>670307.0</td>\n",
       "      <td>Kerala</td>\n",
       "      <td>Kannur</td>\n",
       "      <td>SEMI-URBAN</td>\n",
       "      <td>M9-2020</td>\n",
       "      <td>300-680</td>\n",
       "      <td>7L-9L</td>\n",
       "      <td>735195</td>\n",
       "    </tr>\n",
       "    <tr>\n",
       "      <th>1642448</th>\n",
       "      <td>281306.0</td>\n",
       "      <td>Uttar Pradesh</td>\n",
       "      <td>Hathras</td>\n",
       "      <td>SEMI-URBAN</td>\n",
       "      <td>Q2-2018</td>\n",
       "      <td>300-680</td>\n",
       "      <td>15L+</td>\n",
       "      <td>1688000</td>\n",
       "    </tr>\n",
       "    <tr>\n",
       "      <th>2147079</th>\n",
       "      <td>506221.0</td>\n",
       "      <td>Telangana</td>\n",
       "      <td>Warangal</td>\n",
       "      <td>RURAL</td>\n",
       "      <td>Q4-2019</td>\n",
       "      <td>681-730</td>\n",
       "      <td>2L-4L</td>\n",
       "      <td>377830</td>\n",
       "    </tr>\n",
       "  </tbody>\n",
       "</table>\n",
       "</div>"
      ],
      "text/plain": [
       "          pincode          state    district        tier   opened score_band  \\\n",
       "1280039  770016.0         Odisha  Sundergarh       RURAL  Q4-2017    731-770   \n",
       "3003114  248001.0    Uttarakhand    Dehradun       URBAN  M7-2021    300-680   \n",
       "2501372  670307.0         Kerala      Kannur  SEMI-URBAN  M9-2020    300-680   \n",
       "1642448  281306.0  Uttar Pradesh     Hathras  SEMI-URBAN  Q2-2018    300-680   \n",
       "2147079  506221.0      Telangana    Warangal       RURAL  Q4-2019    681-730   \n",
       "\n",
       "        ticket_size  sanctioned_amount  \n",
       "1280039       5L-7L             569307  \n",
       "3003114       4L-5L             450000  \n",
       "2501372       7L-9L             735195  \n",
       "1642448        15L+            1688000  \n",
       "2147079       2L-4L             377830  "
      ]
     },
     "execution_count": 64,
     "metadata": {},
     "output_type": "execute_result"
    }
   ],
   "source": [
    "X_train.head()"
   ]
  },
  {
   "cell_type": "code",
   "execution_count": 65,
   "metadata": {},
   "outputs": [
    {
     "data": {
      "text/html": [
       "<div>\n",
       "<style scoped>\n",
       "    .dataframe tbody tr th:only-of-type {\n",
       "        vertical-align: middle;\n",
       "    }\n",
       "\n",
       "    .dataframe tbody tr th {\n",
       "        vertical-align: top;\n",
       "    }\n",
       "\n",
       "    .dataframe thead th {\n",
       "        text-align: right;\n",
       "    }\n",
       "</style>\n",
       "<table border=\"1\" class=\"dataframe\">\n",
       "  <thead>\n",
       "    <tr style=\"text-align: right;\">\n",
       "      <th></th>\n",
       "      <th>dpd_status_index</th>\n",
       "    </tr>\n",
       "  </thead>\n",
       "  <tbody>\n",
       "    <tr>\n",
       "      <th>1280039</th>\n",
       "      <td>0</td>\n",
       "    </tr>\n",
       "    <tr>\n",
       "      <th>3003114</th>\n",
       "      <td>1</td>\n",
       "    </tr>\n",
       "    <tr>\n",
       "      <th>2501372</th>\n",
       "      <td>1</td>\n",
       "    </tr>\n",
       "    <tr>\n",
       "      <th>1642448</th>\n",
       "      <td>1</td>\n",
       "    </tr>\n",
       "    <tr>\n",
       "      <th>2147079</th>\n",
       "      <td>9</td>\n",
       "    </tr>\n",
       "  </tbody>\n",
       "</table>\n",
       "</div>"
      ],
      "text/plain": [
       "         dpd_status_index\n",
       "1280039                 0\n",
       "3003114                 1\n",
       "2501372                 1\n",
       "1642448                 1\n",
       "2147079                 9"
      ]
     },
     "execution_count": 65,
     "metadata": {},
     "output_type": "execute_result"
    }
   ],
   "source": [
    "y_train.head()"
   ]
  },
  {
   "cell_type": "code",
   "execution_count": 66,
   "metadata": {},
   "outputs": [],
   "source": [
    "categorical_features=['pincode','state','district','tier','opened','score_band','ticket_size']\n",
    "numeric_features=['sanctioned_amount']\n",
    "##numeric_features.extend(indent_vector_str)\n",
    "#numeric_features.extend(context_affinity_str)\n",
    "\n",
    "numeric_transformer = Pipeline(steps=[('imputer', SimpleImputer(strategy='median'))])\n",
    "categorical_transformer = Pipeline(steps=[('imputer', \n",
    "                                SimpleImputer(strategy='constant', fill_value=999)),\n",
    "                        ('onehot', OneHotEncoder(handle_unknown='ignore'))])\n",
    "preprocessor = ColumnTransformer(\n",
    "    transformers=[\n",
    "        ('num', numeric_transformer, numeric_features),\n",
    "        ('cat', categorical_transformer, categorical_features)])\n",
    "\n",
    "clf_model = Pipeline(steps=[('preprocessor', preprocessor),\n",
    "                      ('regressor', XGBClassifier())])"
   ]
  },
  {
   "cell_type": "code",
   "execution_count": 67,
   "metadata": {},
   "outputs": [
    {
     "data": {
      "text/plain": [
       "Pipeline(steps=[('preprocessor',\n",
       "                 ColumnTransformer(transformers=[('num',\n",
       "                                                  Pipeline(steps=[('imputer',\n",
       "                                                                   SimpleImputer(strategy='median'))]),\n",
       "                                                  ['sanctioned_amount']),\n",
       "                                                 ('cat',\n",
       "                                                  Pipeline(steps=[('imputer',\n",
       "                                                                   SimpleImputer(fill_value=999,\n",
       "                                                                                 strategy='constant')),\n",
       "                                                                  ('onehot',\n",
       "                                                                   OneHotEncoder(handle_unknown='ignore'))]),\n",
       "                                                  ['pincode', 'state',\n",
       "                                                   'district', 'tier', 'opened',\n",
       "                                                   'score_ban...\n",
       "                               gamma=0, gpu_id=-1, grow_policy='depthwise',\n",
       "                               importance_type=None, interaction_constraints='',\n",
       "                               learning_rate=0.300000012, max_bin=256,\n",
       "                               max_cat_to_onehot=4, max_delta_step=0,\n",
       "                               max_depth=6, max_leaves=0, min_child_weight=1,\n",
       "                               missing=nan, monotone_constraints='()',\n",
       "                               n_estimators=100, n_jobs=0, num_parallel_tree=1,\n",
       "                               objective='multi:softprob', predictor='auto',\n",
       "                               random_state=0, reg_alpha=0, ...))])"
      ]
     },
     "execution_count": 67,
     "metadata": {},
     "output_type": "execute_result"
    }
   ],
   "source": [
    "clf_model.fit(X_train, y_train)\n"
   ]
  },
  {
   "cell_type": "code",
   "execution_count": 68,
   "metadata": {},
   "outputs": [
    {
     "name": "stdout",
     "output_type": "stream",
     "text": [
      "v2: Model Train R2:  -0.252220083243875\n",
      "v2: Model Val R2:  -0.2520548768043571\n"
     ]
    }
   ],
   "source": [
    "print(\"v2: Model Train R2: \", r2_score(y_train, clf_model.predict(X_train)))\n",
    "print(\"v2: Model Val R2: \", r2_score(y_test, clf_model.predict(X_test)))\n"
   ]
  },
  {
   "cell_type": "code",
   "execution_count": 78,
   "metadata": {},
   "outputs": [],
   "source": [
    "y_train_pred = clf_model.predict(X_train)\n",
    "y_test_pred = clf_model.predict(X_test)"
   ]
  },
  {
   "cell_type": "code",
   "execution_count": 80,
   "metadata": {},
   "outputs": [
    {
     "name": "stdout",
     "output_type": "stream",
     "text": [
      "v2: Model Train Accuracy Score :  0.6174262112391062\n"
     ]
    }
   ],
   "source": [
    "from sklearn.metrics import accuracy_score, f1_score\n",
    "print(\"v2: Model Train Accuracy Score : \", str(accuracy_score(y_train,y_train_pred)))\n",
    "#print(\"v2: Model Train F1 Score : \", str(f1_score(y_train,y_train_pred)))\n"
   ]
  },
  {
   "cell_type": "code",
   "execution_count": 81,
   "metadata": {},
   "outputs": [
    {
     "name": "stdout",
     "output_type": "stream",
     "text": [
      "v2: Model Test Accuracy Score :  0.6172094404321756\n"
     ]
    }
   ],
   "source": [
    "from sklearn.metrics import accuracy_score, f1_score\n",
    "print(\"v2: Model Test Accuracy Score : \", str(accuracy_score(y_test,y_test_pred)))\n",
    "#print(\"v2: Model Test F1 Score : \", str(f1_score(y_test,y_test_pred)))\n"
   ]
  },
  {
   "cell_type": "code",
   "execution_count": 83,
   "metadata": {},
   "outputs": [],
   "source": [
    "from sklearn.inspection import permutation_importance\n",
    "perm_importance = permutation_importance(clf_model, X_test, y_test)"
   ]
  },
  {
   "cell_type": "code",
   "execution_count": 88,
   "metadata": {},
   "outputs": [],
   "source": [
    "#!pip install seaborn"
   ]
  },
  {
   "cell_type": "code",
   "execution_count": 89,
   "metadata": {},
   "outputs": [],
   "source": [
    "from matplotlib import pyplot as plt\n",
    "import seaborn as sns # for correlation heatmap"
   ]
  },
  {
   "cell_type": "code",
   "execution_count": 93,
   "metadata": {},
   "outputs": [
    {
     "data": {
      "text/plain": [
       "{'importances_mean': array([1.62832130e-05, 7.82322178e-03, 9.15691270e-04, 1.88119002e-04,\n",
       "        2.03216988e-01, 1.14118503e-02, 1.32196701e-02, 1.11578322e-02]),\n",
       " 'importances_std': array([7.14214359e-06, 1.72716301e-04, 4.83228053e-05, 4.76944652e-05,\n",
       "        3.35132916e-04, 1.10302464e-04, 7.25141994e-05, 1.56306401e-04]),\n",
       " 'importances': array([[1.24518687e-05, 2.49037375e-05, 8.62052451e-06, 1.05361966e-05,\n",
       "         2.49037375e-05],\n",
       "        [7.71536944e-03, 7.59085075e-03, 7.93567173e-03, 8.08700983e-03,\n",
       "         7.78720714e-03],\n",
       "        [9.71245762e-04, 9.18564778e-04, 9.59751729e-04, 8.90787533e-04,\n",
       "         8.38106550e-04],\n",
       "        [2.10723932e-04, 2.48079539e-04, 1.51338097e-04, 2.14555277e-04,\n",
       "         1.15898163e-04],\n",
       "        [2.03320818e-01, 2.03283462e-01, 2.03701079e-01, 2.03111052e-01,\n",
       "         2.02668531e-01],\n",
       "        [1.14269842e-02, 1.11999770e-02, 1.14930748e-02, 1.14346468e-02,\n",
       "         1.15045689e-02],\n",
       "        [1.31779085e-02, 1.33053007e-02, 1.31491734e-02, 1.33100898e-02,\n",
       "         1.31558782e-02],\n",
       "        [1.12172181e-02, 1.11099404e-02, 1.11664527e-02, 1.13886707e-02,\n",
       "         1.09068792e-02]])}"
      ]
     },
     "execution_count": 93,
     "metadata": {},
     "output_type": "execute_result"
    }
   ],
   "source": [
    "perm_importance"
   ]
  },
  {
   "cell_type": "code",
   "execution_count": 95,
   "metadata": {},
   "outputs": [
    {
     "name": "stdout",
     "output_type": "stream",
     "text": [
      "[0 3 2 1 7 5 6 4]\n"
     ]
    }
   ],
   "source": [
    "sorted_idx = perm_importance.importances_mean.argsort()\n",
    "print(sorted_idx)"
   ]
  },
  {
   "cell_type": "code",
   "execution_count": 91,
   "metadata": {},
   "outputs": [],
   "source": [
    "\n",
    "feature_names = ['pincode','state','district','tier','opened','score_band','ticket_size','sanctioned_amount']\n"
   ]
  },
  {
   "cell_type": "code",
   "execution_count": 94,
   "metadata": {},
   "outputs": [
    {
     "ename": "TypeError",
     "evalue": "only integer scalar arrays can be converted to a scalar index",
     "output_type": "error",
     "traceback": [
      "\u001b[0;31m---------------------------------------------------------------------------\u001b[0m",
      "\u001b[0;31mTypeError\u001b[0m                                 Traceback (most recent call last)",
      "\u001b[0;32m/var/folders/hx/r3w_k0mn7jqfsy8gcq8w06j40000gp/T/ipykernel_22972/943276180.py\u001b[0m in \u001b[0;36m<module>\u001b[0;34m\u001b[0m\n\u001b[0;32m----> 1\u001b[0;31m \u001b[0mfeature_names\u001b[0m\u001b[0;34m[\u001b[0m\u001b[0msorted_idx\u001b[0m\u001b[0;34m]\u001b[0m\u001b[0;34m\u001b[0m\u001b[0;34m\u001b[0m\u001b[0m\n\u001b[0m",
      "\u001b[0;31mTypeError\u001b[0m: only integer scalar arrays can be converted to a scalar index"
     ]
    }
   ],
   "source": [
    "feature_names[sorted_idx]"
   ]
  },
  {
   "cell_type": "code",
   "execution_count": 92,
   "metadata": {},
   "outputs": [
    {
     "ename": "TypeError",
     "evalue": "only integer scalar arrays can be converted to a scalar index",
     "output_type": "error",
     "traceback": [
      "\u001b[0;31m---------------------------------------------------------------------------\u001b[0m",
      "\u001b[0;31mTypeError\u001b[0m                                 Traceback (most recent call last)",
      "\u001b[0;32m/var/folders/hx/r3w_k0mn7jqfsy8gcq8w06j40000gp/T/ipykernel_22972/957664677.py\u001b[0m in \u001b[0;36m<module>\u001b[0;34m\u001b[0m\n\u001b[0;32m----> 1\u001b[0;31m \u001b[0mplt\u001b[0m\u001b[0;34m.\u001b[0m\u001b[0mbarh\u001b[0m\u001b[0;34m(\u001b[0m\u001b[0mfeature_names\u001b[0m\u001b[0;34m[\u001b[0m\u001b[0msorted_idx\u001b[0m\u001b[0;34m]\u001b[0m\u001b[0;34m,\u001b[0m \u001b[0mperm_importance\u001b[0m\u001b[0;34m.\u001b[0m\u001b[0mimportances_mean\u001b[0m\u001b[0;34m[\u001b[0m\u001b[0msorted_idx\u001b[0m\u001b[0;34m]\u001b[0m\u001b[0;34m)\u001b[0m\u001b[0;34m\u001b[0m\u001b[0;34m\u001b[0m\u001b[0m\n\u001b[0m\u001b[1;32m      2\u001b[0m \u001b[0mplt\u001b[0m\u001b[0;34m.\u001b[0m\u001b[0mxlabel\u001b[0m\u001b[0;34m(\u001b[0m\u001b[0;34m\"Permutation Importance\"\u001b[0m\u001b[0;34m)\u001b[0m\u001b[0;34m\u001b[0m\u001b[0;34m\u001b[0m\u001b[0m\n",
      "\u001b[0;31mTypeError\u001b[0m: only integer scalar arrays can be converted to a scalar index"
     ]
    }
   ],
   "source": [
    "plt.barh(feature_names[sorted_idx], perm_importance.importances_mean[sorted_idx])\n",
    "plt.xlabel(\"Permutation Importance\")\n"
   ]
  },
  {
   "cell_type": "code",
   "execution_count": 69,
   "metadata": {},
   "outputs": [
    {
     "name": "stdout",
     "output_type": "stream",
     "text": [
      "v2: Model Train MAE:  1.4761748046985597\n",
      "v2: Model VAL MAE:  1.4768241987701385\n"
     ]
    }
   ],
   "source": [
    "f, ax = plt.subplots(figsize=(10,5))\n",
    "plot = sns.barplot(x=features, y=final_clf.feature_importances_)\n",
    "ax.set_title('Feature Importance')\n",
    "plot.set_xticklabels(plot.get_xticklabels(),rotation='vertical')\n",
    "plt.show()"
   ]
  },
  {
   "cell_type": "code",
   "execution_count": 70,
   "metadata": {},
   "outputs": [],
   "source": [
    "import pickle\n",
    "# save the model to disk\n",
    "filename = 'cvLoans_v0.sav'\n",
    "pickle.dump(clf_model, open(filename, 'wb'))"
   ]
  }
 ],
 "metadata": {
  "kernelspec": {
   "display_name": "Python 3.8.11 ('py38')",
   "language": "python",
   "name": "python3"
  },
  "language_info": {
   "codemirror_mode": {
    "name": "ipython",
    "version": 3
   },
   "file_extension": ".py",
   "mimetype": "text/x-python",
   "name": "python",
   "nbconvert_exporter": "python",
   "pygments_lexer": "ipython3",
   "version": "3.8.11"
  },
  "vscode": {
   "interpreter": {
    "hash": "6eb06930410e83be085203643bcd2d03be72a674d99e39bd748075bbd43593d0"
   }
  }
 },
 "nbformat": 4,
 "nbformat_minor": 2
}
